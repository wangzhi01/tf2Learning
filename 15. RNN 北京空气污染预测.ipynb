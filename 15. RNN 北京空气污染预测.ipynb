{
 "cells": [
  {
   "cell_type": "code",
   "execution_count": 45,
   "metadata": {},
   "outputs": [
    {
     "data": {
      "text/plain": [
       "'2.0.0-beta1'"
      ]
     },
     "execution_count": 45,
     "metadata": {},
     "output_type": "execute_result"
    }
   ],
   "source": [
    "import tensorflow as tf\n",
    "from tensorflow.keras import layers\n",
    "from tensorflow import keras\n",
    "import matplotlib.pyplot as plt\n",
    "import pandas as pd\n",
    "import numpy as np\n",
    "import datetime\n",
    "%matplotlib inline\n",
    "tf.__version__"
   ]
  },
  {
   "cell_type": "code",
   "execution_count": 2,
   "metadata": {},
   "outputs": [],
   "source": [
    "data = pd.read_csv('./dataset/PRSA_data_2010.1.1-2014.12.31.csv')"
   ]
  },
  {
   "cell_type": "code",
   "execution_count": 3,
   "metadata": {},
   "outputs": [
    {
     "name": "stdout",
     "output_type": "stream",
     "text": [
      "<class 'pandas.core.frame.DataFrame'>\n",
      "RangeIndex: 43824 entries, 0 to 43823\n",
      "Data columns (total 13 columns):\n",
      "No       43824 non-null int64\n",
      "year     43824 non-null int64\n",
      "month    43824 non-null int64\n",
      "day      43824 non-null int64\n",
      "hour     43824 non-null int64\n",
      "pm2.5    41757 non-null float64\n",
      "DEWP     43824 non-null int64\n",
      "TEMP     43824 non-null float64\n",
      "PRES     43824 non-null float64\n",
      "cbwd     43824 non-null object\n",
      "Iws      43824 non-null float64\n",
      "Is       43824 non-null int64\n",
      "Ir       43824 non-null int64\n",
      "dtypes: float64(4), int64(8), object(1)\n",
      "memory usage: 4.3+ MB\n"
     ]
    }
   ],
   "source": [
    "data.info()"
   ]
  },
  {
   "cell_type": "code",
   "execution_count": 4,
   "metadata": {},
   "outputs": [
    {
     "data": {
      "text/html": [
       "<div>\n",
       "<style scoped>\n",
       "    .dataframe tbody tr th:only-of-type {\n",
       "        vertical-align: middle;\n",
       "    }\n",
       "\n",
       "    .dataframe tbody tr th {\n",
       "        vertical-align: top;\n",
       "    }\n",
       "\n",
       "    .dataframe thead th {\n",
       "        text-align: right;\n",
       "    }\n",
       "</style>\n",
       "<table border=\"1\" class=\"dataframe\">\n",
       "  <thead>\n",
       "    <tr style=\"text-align: right;\">\n",
       "      <th></th>\n",
       "      <th>No</th>\n",
       "      <th>year</th>\n",
       "      <th>month</th>\n",
       "      <th>day</th>\n",
       "      <th>hour</th>\n",
       "      <th>pm2.5</th>\n",
       "      <th>DEWP</th>\n",
       "      <th>TEMP</th>\n",
       "      <th>PRES</th>\n",
       "      <th>cbwd</th>\n",
       "      <th>Iws</th>\n",
       "      <th>Is</th>\n",
       "      <th>Ir</th>\n",
       "    </tr>\n",
       "  </thead>\n",
       "  <tbody>\n",
       "    <tr>\n",
       "      <th>0</th>\n",
       "      <td>1</td>\n",
       "      <td>2010</td>\n",
       "      <td>1</td>\n",
       "      <td>1</td>\n",
       "      <td>0</td>\n",
       "      <td>NaN</td>\n",
       "      <td>-21</td>\n",
       "      <td>-11.0</td>\n",
       "      <td>1021.0</td>\n",
       "      <td>NW</td>\n",
       "      <td>1.79</td>\n",
       "      <td>0</td>\n",
       "      <td>0</td>\n",
       "    </tr>\n",
       "    <tr>\n",
       "      <th>1</th>\n",
       "      <td>2</td>\n",
       "      <td>2010</td>\n",
       "      <td>1</td>\n",
       "      <td>1</td>\n",
       "      <td>1</td>\n",
       "      <td>NaN</td>\n",
       "      <td>-21</td>\n",
       "      <td>-12.0</td>\n",
       "      <td>1020.0</td>\n",
       "      <td>NW</td>\n",
       "      <td>4.92</td>\n",
       "      <td>0</td>\n",
       "      <td>0</td>\n",
       "    </tr>\n",
       "    <tr>\n",
       "      <th>2</th>\n",
       "      <td>3</td>\n",
       "      <td>2010</td>\n",
       "      <td>1</td>\n",
       "      <td>1</td>\n",
       "      <td>2</td>\n",
       "      <td>NaN</td>\n",
       "      <td>-21</td>\n",
       "      <td>-11.0</td>\n",
       "      <td>1019.0</td>\n",
       "      <td>NW</td>\n",
       "      <td>6.71</td>\n",
       "      <td>0</td>\n",
       "      <td>0</td>\n",
       "    </tr>\n",
       "    <tr>\n",
       "      <th>3</th>\n",
       "      <td>4</td>\n",
       "      <td>2010</td>\n",
       "      <td>1</td>\n",
       "      <td>1</td>\n",
       "      <td>3</td>\n",
       "      <td>NaN</td>\n",
       "      <td>-21</td>\n",
       "      <td>-14.0</td>\n",
       "      <td>1019.0</td>\n",
       "      <td>NW</td>\n",
       "      <td>9.84</td>\n",
       "      <td>0</td>\n",
       "      <td>0</td>\n",
       "    </tr>\n",
       "    <tr>\n",
       "      <th>4</th>\n",
       "      <td>5</td>\n",
       "      <td>2010</td>\n",
       "      <td>1</td>\n",
       "      <td>1</td>\n",
       "      <td>4</td>\n",
       "      <td>NaN</td>\n",
       "      <td>-20</td>\n",
       "      <td>-12.0</td>\n",
       "      <td>1018.0</td>\n",
       "      <td>NW</td>\n",
       "      <td>12.97</td>\n",
       "      <td>0</td>\n",
       "      <td>0</td>\n",
       "    </tr>\n",
       "  </tbody>\n",
       "</table>\n",
       "</div>"
      ],
      "text/plain": [
       "   No  year  month  day  hour  pm2.5  DEWP  TEMP    PRES cbwd    Iws  Is  Ir\n",
       "0   1  2010      1    1     0    NaN   -21 -11.0  1021.0   NW   1.79   0   0\n",
       "1   2  2010      1    1     1    NaN   -21 -12.0  1020.0   NW   4.92   0   0\n",
       "2   3  2010      1    1     2    NaN   -21 -11.0  1019.0   NW   6.71   0   0\n",
       "3   4  2010      1    1     3    NaN   -21 -14.0  1019.0   NW   9.84   0   0\n",
       "4   5  2010      1    1     4    NaN   -20 -12.0  1018.0   NW  12.97   0   0"
      ]
     },
     "execution_count": 4,
     "metadata": {},
     "output_type": "execute_result"
    }
   ],
   "source": [
    "data.head()"
   ]
  },
  {
   "cell_type": "code",
   "execution_count": 5,
   "metadata": {},
   "outputs": [
    {
     "data": {
      "text/plain": [
       "2067"
      ]
     },
     "execution_count": 5,
     "metadata": {},
     "output_type": "execute_result"
    }
   ],
   "source": [
    "data['pm2.5'].isna().sum()"
   ]
  },
  {
   "cell_type": "code",
   "execution_count": 6,
   "metadata": {},
   "outputs": [],
   "source": [
    "data = data.iloc[24:].fillna(method='ffill')"
   ]
  },
  {
   "cell_type": "code",
   "execution_count": 7,
   "metadata": {},
   "outputs": [
    {
     "data": {
      "text/plain": [
       "0"
      ]
     },
     "execution_count": 7,
     "metadata": {},
     "output_type": "execute_result"
    }
   ],
   "source": [
    "data['pm2.5'].isna().sum()"
   ]
  },
  {
   "cell_type": "code",
   "execution_count": 8,
   "metadata": {},
   "outputs": [],
   "source": [
    "data['tm'] = data.apply(\n",
    "    lambda x: datetime.datetime(\n",
    "        year=x['year'], month=x['month'], day=x['day'], hour=x['hour']),\n",
    "    axis=1\n",
    ")"
   ]
  },
  {
   "cell_type": "code",
   "execution_count": 9,
   "metadata": {},
   "outputs": [
    {
     "data": {
      "text/html": [
       "<div>\n",
       "<style scoped>\n",
       "    .dataframe tbody tr th:only-of-type {\n",
       "        vertical-align: middle;\n",
       "    }\n",
       "\n",
       "    .dataframe tbody tr th {\n",
       "        vertical-align: top;\n",
       "    }\n",
       "\n",
       "    .dataframe thead th {\n",
       "        text-align: right;\n",
       "    }\n",
       "</style>\n",
       "<table border=\"1\" class=\"dataframe\">\n",
       "  <thead>\n",
       "    <tr style=\"text-align: right;\">\n",
       "      <th></th>\n",
       "      <th>No</th>\n",
       "      <th>year</th>\n",
       "      <th>month</th>\n",
       "      <th>day</th>\n",
       "      <th>hour</th>\n",
       "      <th>pm2.5</th>\n",
       "      <th>DEWP</th>\n",
       "      <th>TEMP</th>\n",
       "      <th>PRES</th>\n",
       "      <th>cbwd</th>\n",
       "      <th>Iws</th>\n",
       "      <th>Is</th>\n",
       "      <th>Ir</th>\n",
       "      <th>tm</th>\n",
       "    </tr>\n",
       "  </thead>\n",
       "  <tbody>\n",
       "    <tr>\n",
       "      <th>24</th>\n",
       "      <td>25</td>\n",
       "      <td>2010</td>\n",
       "      <td>1</td>\n",
       "      <td>2</td>\n",
       "      <td>0</td>\n",
       "      <td>129.0</td>\n",
       "      <td>-16</td>\n",
       "      <td>-4.0</td>\n",
       "      <td>1020.0</td>\n",
       "      <td>SE</td>\n",
       "      <td>1.79</td>\n",
       "      <td>0</td>\n",
       "      <td>0</td>\n",
       "      <td>2010-01-02 00:00:00</td>\n",
       "    </tr>\n",
       "    <tr>\n",
       "      <th>25</th>\n",
       "      <td>26</td>\n",
       "      <td>2010</td>\n",
       "      <td>1</td>\n",
       "      <td>2</td>\n",
       "      <td>1</td>\n",
       "      <td>148.0</td>\n",
       "      <td>-15</td>\n",
       "      <td>-4.0</td>\n",
       "      <td>1020.0</td>\n",
       "      <td>SE</td>\n",
       "      <td>2.68</td>\n",
       "      <td>0</td>\n",
       "      <td>0</td>\n",
       "      <td>2010-01-02 01:00:00</td>\n",
       "    </tr>\n",
       "    <tr>\n",
       "      <th>26</th>\n",
       "      <td>27</td>\n",
       "      <td>2010</td>\n",
       "      <td>1</td>\n",
       "      <td>2</td>\n",
       "      <td>2</td>\n",
       "      <td>159.0</td>\n",
       "      <td>-11</td>\n",
       "      <td>-5.0</td>\n",
       "      <td>1021.0</td>\n",
       "      <td>SE</td>\n",
       "      <td>3.57</td>\n",
       "      <td>0</td>\n",
       "      <td>0</td>\n",
       "      <td>2010-01-02 02:00:00</td>\n",
       "    </tr>\n",
       "    <tr>\n",
       "      <th>27</th>\n",
       "      <td>28</td>\n",
       "      <td>2010</td>\n",
       "      <td>1</td>\n",
       "      <td>2</td>\n",
       "      <td>3</td>\n",
       "      <td>181.0</td>\n",
       "      <td>-7</td>\n",
       "      <td>-5.0</td>\n",
       "      <td>1022.0</td>\n",
       "      <td>SE</td>\n",
       "      <td>5.36</td>\n",
       "      <td>1</td>\n",
       "      <td>0</td>\n",
       "      <td>2010-01-02 03:00:00</td>\n",
       "    </tr>\n",
       "    <tr>\n",
       "      <th>28</th>\n",
       "      <td>29</td>\n",
       "      <td>2010</td>\n",
       "      <td>1</td>\n",
       "      <td>2</td>\n",
       "      <td>4</td>\n",
       "      <td>138.0</td>\n",
       "      <td>-7</td>\n",
       "      <td>-5.0</td>\n",
       "      <td>1022.0</td>\n",
       "      <td>SE</td>\n",
       "      <td>6.25</td>\n",
       "      <td>2</td>\n",
       "      <td>0</td>\n",
       "      <td>2010-01-02 04:00:00</td>\n",
       "    </tr>\n",
       "  </tbody>\n",
       "</table>\n",
       "</div>"
      ],
      "text/plain": [
       "    No  year  month  day  hour  pm2.5  DEWP  TEMP    PRES cbwd   Iws  Is  Ir  \\\n",
       "24  25  2010      1    2     0  129.0   -16  -4.0  1020.0   SE  1.79   0   0   \n",
       "25  26  2010      1    2     1  148.0   -15  -4.0  1020.0   SE  2.68   0   0   \n",
       "26  27  2010      1    2     2  159.0   -11  -5.0  1021.0   SE  3.57   0   0   \n",
       "27  28  2010      1    2     3  181.0    -7  -5.0  1022.0   SE  5.36   1   0   \n",
       "28  29  2010      1    2     4  138.0    -7  -5.0  1022.0   SE  6.25   2   0   \n",
       "\n",
       "                    tm  \n",
       "24 2010-01-02 00:00:00  \n",
       "25 2010-01-02 01:00:00  \n",
       "26 2010-01-02 02:00:00  \n",
       "27 2010-01-02 03:00:00  \n",
       "28 2010-01-02 04:00:00  "
      ]
     },
     "execution_count": 9,
     "metadata": {},
     "output_type": "execute_result"
    }
   ],
   "source": [
    "data.head()"
   ]
  },
  {
   "cell_type": "code",
   "execution_count": 10,
   "metadata": {},
   "outputs": [],
   "source": [
    "data.drop(columns=['No', 'year', 'month', 'day', 'hour'], inplace=True)"
   ]
  },
  {
   "cell_type": "code",
   "execution_count": 11,
   "metadata": {},
   "outputs": [
    {
     "data": {
      "text/html": [
       "<div>\n",
       "<style scoped>\n",
       "    .dataframe tbody tr th:only-of-type {\n",
       "        vertical-align: middle;\n",
       "    }\n",
       "\n",
       "    .dataframe tbody tr th {\n",
       "        vertical-align: top;\n",
       "    }\n",
       "\n",
       "    .dataframe thead th {\n",
       "        text-align: right;\n",
       "    }\n",
       "</style>\n",
       "<table border=\"1\" class=\"dataframe\">\n",
       "  <thead>\n",
       "    <tr style=\"text-align: right;\">\n",
       "      <th></th>\n",
       "      <th>pm2.5</th>\n",
       "      <th>DEWP</th>\n",
       "      <th>TEMP</th>\n",
       "      <th>PRES</th>\n",
       "      <th>cbwd</th>\n",
       "      <th>Iws</th>\n",
       "      <th>Is</th>\n",
       "      <th>Ir</th>\n",
       "      <th>tm</th>\n",
       "    </tr>\n",
       "  </thead>\n",
       "  <tbody>\n",
       "    <tr>\n",
       "      <th>24</th>\n",
       "      <td>129.0</td>\n",
       "      <td>-16</td>\n",
       "      <td>-4.0</td>\n",
       "      <td>1020.0</td>\n",
       "      <td>SE</td>\n",
       "      <td>1.79</td>\n",
       "      <td>0</td>\n",
       "      <td>0</td>\n",
       "      <td>2010-01-02 00:00:00</td>\n",
       "    </tr>\n",
       "    <tr>\n",
       "      <th>25</th>\n",
       "      <td>148.0</td>\n",
       "      <td>-15</td>\n",
       "      <td>-4.0</td>\n",
       "      <td>1020.0</td>\n",
       "      <td>SE</td>\n",
       "      <td>2.68</td>\n",
       "      <td>0</td>\n",
       "      <td>0</td>\n",
       "      <td>2010-01-02 01:00:00</td>\n",
       "    </tr>\n",
       "    <tr>\n",
       "      <th>26</th>\n",
       "      <td>159.0</td>\n",
       "      <td>-11</td>\n",
       "      <td>-5.0</td>\n",
       "      <td>1021.0</td>\n",
       "      <td>SE</td>\n",
       "      <td>3.57</td>\n",
       "      <td>0</td>\n",
       "      <td>0</td>\n",
       "      <td>2010-01-02 02:00:00</td>\n",
       "    </tr>\n",
       "    <tr>\n",
       "      <th>27</th>\n",
       "      <td>181.0</td>\n",
       "      <td>-7</td>\n",
       "      <td>-5.0</td>\n",
       "      <td>1022.0</td>\n",
       "      <td>SE</td>\n",
       "      <td>5.36</td>\n",
       "      <td>1</td>\n",
       "      <td>0</td>\n",
       "      <td>2010-01-02 03:00:00</td>\n",
       "    </tr>\n",
       "    <tr>\n",
       "      <th>28</th>\n",
       "      <td>138.0</td>\n",
       "      <td>-7</td>\n",
       "      <td>-5.0</td>\n",
       "      <td>1022.0</td>\n",
       "      <td>SE</td>\n",
       "      <td>6.25</td>\n",
       "      <td>2</td>\n",
       "      <td>0</td>\n",
       "      <td>2010-01-02 04:00:00</td>\n",
       "    </tr>\n",
       "  </tbody>\n",
       "</table>\n",
       "</div>"
      ],
      "text/plain": [
       "    pm2.5  DEWP  TEMP    PRES cbwd   Iws  Is  Ir                  tm\n",
       "24  129.0   -16  -4.0  1020.0   SE  1.79   0   0 2010-01-02 00:00:00\n",
       "25  148.0   -15  -4.0  1020.0   SE  2.68   0   0 2010-01-02 01:00:00\n",
       "26  159.0   -11  -5.0  1021.0   SE  3.57   0   0 2010-01-02 02:00:00\n",
       "27  181.0    -7  -5.0  1022.0   SE  5.36   1   0 2010-01-02 03:00:00\n",
       "28  138.0    -7  -5.0  1022.0   SE  6.25   2   0 2010-01-02 04:00:00"
      ]
     },
     "execution_count": 11,
     "metadata": {},
     "output_type": "execute_result"
    }
   ],
   "source": [
    "data.head()"
   ]
  },
  {
   "cell_type": "code",
   "execution_count": 12,
   "metadata": {},
   "outputs": [],
   "source": [
    "data = data.set_index('tm')"
   ]
  },
  {
   "cell_type": "code",
   "execution_count": 13,
   "metadata": {},
   "outputs": [
    {
     "data": {
      "text/plain": [
       "array(['SE', 'cv', 'NW', 'NE'], dtype=object)"
      ]
     },
     "execution_count": 13,
     "metadata": {},
     "output_type": "execute_result"
    }
   ],
   "source": [
    "data.cbwd.unique()"
   ]
  },
  {
   "cell_type": "code",
   "execution_count": 14,
   "metadata": {},
   "outputs": [],
   "source": [
    "data = data.join(\n",
    "    pd.get_dummies(data.cbwd)\n",
    ")"
   ]
  },
  {
   "cell_type": "code",
   "execution_count": 15,
   "metadata": {},
   "outputs": [],
   "source": [
    "del data['cbwd']"
   ]
  },
  {
   "cell_type": "code",
   "execution_count": 16,
   "metadata": {},
   "outputs": [
    {
     "data": {
      "text/html": [
       "<div>\n",
       "<style scoped>\n",
       "    .dataframe tbody tr th:only-of-type {\n",
       "        vertical-align: middle;\n",
       "    }\n",
       "\n",
       "    .dataframe tbody tr th {\n",
       "        vertical-align: top;\n",
       "    }\n",
       "\n",
       "    .dataframe thead th {\n",
       "        text-align: right;\n",
       "    }\n",
       "</style>\n",
       "<table border=\"1\" class=\"dataframe\">\n",
       "  <thead>\n",
       "    <tr style=\"text-align: right;\">\n",
       "      <th></th>\n",
       "      <th>pm2.5</th>\n",
       "      <th>DEWP</th>\n",
       "      <th>TEMP</th>\n",
       "      <th>PRES</th>\n",
       "      <th>Iws</th>\n",
       "      <th>Is</th>\n",
       "      <th>Ir</th>\n",
       "      <th>NE</th>\n",
       "      <th>NW</th>\n",
       "      <th>SE</th>\n",
       "      <th>cv</th>\n",
       "    </tr>\n",
       "    <tr>\n",
       "      <th>tm</th>\n",
       "      <th></th>\n",
       "      <th></th>\n",
       "      <th></th>\n",
       "      <th></th>\n",
       "      <th></th>\n",
       "      <th></th>\n",
       "      <th></th>\n",
       "      <th></th>\n",
       "      <th></th>\n",
       "      <th></th>\n",
       "      <th></th>\n",
       "    </tr>\n",
       "  </thead>\n",
       "  <tbody>\n",
       "    <tr>\n",
       "      <th>2010-01-02 00:00:00</th>\n",
       "      <td>129.0</td>\n",
       "      <td>-16</td>\n",
       "      <td>-4.0</td>\n",
       "      <td>1020.0</td>\n",
       "      <td>1.79</td>\n",
       "      <td>0</td>\n",
       "      <td>0</td>\n",
       "      <td>0</td>\n",
       "      <td>0</td>\n",
       "      <td>1</td>\n",
       "      <td>0</td>\n",
       "    </tr>\n",
       "    <tr>\n",
       "      <th>2010-01-02 01:00:00</th>\n",
       "      <td>148.0</td>\n",
       "      <td>-15</td>\n",
       "      <td>-4.0</td>\n",
       "      <td>1020.0</td>\n",
       "      <td>2.68</td>\n",
       "      <td>0</td>\n",
       "      <td>0</td>\n",
       "      <td>0</td>\n",
       "      <td>0</td>\n",
       "      <td>1</td>\n",
       "      <td>0</td>\n",
       "    </tr>\n",
       "    <tr>\n",
       "      <th>2010-01-02 02:00:00</th>\n",
       "      <td>159.0</td>\n",
       "      <td>-11</td>\n",
       "      <td>-5.0</td>\n",
       "      <td>1021.0</td>\n",
       "      <td>3.57</td>\n",
       "      <td>0</td>\n",
       "      <td>0</td>\n",
       "      <td>0</td>\n",
       "      <td>0</td>\n",
       "      <td>1</td>\n",
       "      <td>0</td>\n",
       "    </tr>\n",
       "    <tr>\n",
       "      <th>2010-01-02 03:00:00</th>\n",
       "      <td>181.0</td>\n",
       "      <td>-7</td>\n",
       "      <td>-5.0</td>\n",
       "      <td>1022.0</td>\n",
       "      <td>5.36</td>\n",
       "      <td>1</td>\n",
       "      <td>0</td>\n",
       "      <td>0</td>\n",
       "      <td>0</td>\n",
       "      <td>1</td>\n",
       "      <td>0</td>\n",
       "    </tr>\n",
       "    <tr>\n",
       "      <th>2010-01-02 04:00:00</th>\n",
       "      <td>138.0</td>\n",
       "      <td>-7</td>\n",
       "      <td>-5.0</td>\n",
       "      <td>1022.0</td>\n",
       "      <td>6.25</td>\n",
       "      <td>2</td>\n",
       "      <td>0</td>\n",
       "      <td>0</td>\n",
       "      <td>0</td>\n",
       "      <td>1</td>\n",
       "      <td>0</td>\n",
       "    </tr>\n",
       "  </tbody>\n",
       "</table>\n",
       "</div>"
      ],
      "text/plain": [
       "                     pm2.5  DEWP  TEMP    PRES   Iws  Is  Ir  NE  NW  SE  cv\n",
       "tm                                                                          \n",
       "2010-01-02 00:00:00  129.0   -16  -4.0  1020.0  1.79   0   0   0   0   1   0\n",
       "2010-01-02 01:00:00  148.0   -15  -4.0  1020.0  2.68   0   0   0   0   1   0\n",
       "2010-01-02 02:00:00  159.0   -11  -5.0  1021.0  3.57   0   0   0   0   1   0\n",
       "2010-01-02 03:00:00  181.0    -7  -5.0  1022.0  5.36   1   0   0   0   1   0\n",
       "2010-01-02 04:00:00  138.0    -7  -5.0  1022.0  6.25   2   0   0   0   1   0"
      ]
     },
     "execution_count": 16,
     "metadata": {},
     "output_type": "execute_result"
    }
   ],
   "source": [
    "data.head()"
   ]
  },
  {
   "cell_type": "code",
   "execution_count": 17,
   "metadata": {},
   "outputs": [
    {
     "data": {
      "text/plain": [
       "<matplotlib.axes._subplots.AxesSubplot at 0x222e107c550>"
      ]
     },
     "execution_count": 17,
     "metadata": {},
     "output_type": "execute_result"
    },
    {
     "data": {
      "image/png": "[encoded data removed]",
      "text/plain": [
       "<Figure size 432x288 with 1 Axes>"
      ]
     },
     "metadata": {
      "needs_background": "light"
     },
     "output_type": "display_data"
    }
   ],
   "source": [
    "data['pm2.5'][-1000:].plot()"
   ]
  },
  {
   "cell_type": "code",
   "execution_count": 18,
   "metadata": {},
   "outputs": [
    {
     "data": {
      "text/plain": [
       "<matplotlib.axes._subplots.AxesSubplot at 0x222e15cf940>"
      ]
     },
     "execution_count": 18,
     "metadata": {},
     "output_type": "execute_result"
    },
    {
     "data": {
      "image/png": "[encoded data removed]",
      "text/plain": [
       "<Figure size 432x288 with 1 Axes>"
      ]
     },
     "metadata": {
      "needs_background": "light"
     },
     "output_type": "display_data"
    }
   ],
   "source": [
    "data['TEMP'][-1000:].plot()"
   ]
  },
  {
   "cell_type": "code",
   "execution_count": 19,
   "metadata": {},
   "outputs": [],
   "source": [
    "seq_length = 5 * 24\n",
    "delay = 24"
   ]
  },
  {
   "cell_type": "code",
   "execution_count": 20,
   "metadata": {},
   "outputs": [],
   "source": [
    "ndata = []\n",
    "for i in range(len(data) - seq_length - delay):\n",
    "    ndata.append(data.iloc[i: i + seq_length + delay])"
   ]
  },
  {
   "cell_type": "code",
   "execution_count": 21,
   "metadata": {},
   "outputs": [
    {
     "data": {
      "text/plain": [
       "(144, 11)"
      ]
     },
     "execution_count": 21,
     "metadata": {},
     "output_type": "execute_result"
    }
   ],
   "source": [
    "ndata[0].shape"
   ]
  },
  {
   "cell_type": "code",
   "execution_count": 22,
   "metadata": {},
   "outputs": [],
   "source": [
    "ndata = np.array([df.values for df in ndata])"
   ]
  },
  {
   "cell_type": "code",
   "execution_count": 23,
   "metadata": {},
   "outputs": [
    {
     "data": {
      "text/plain": [
       "(43656, 144, 11)"
      ]
     },
     "execution_count": 23,
     "metadata": {},
     "output_type": "execute_result"
    }
   ],
   "source": [
    "ndata.shape"
   ]
  },
  {
   "cell_type": "code",
   "execution_count": 24,
   "metadata": {},
   "outputs": [],
   "source": [
    "np.random.shuffle(ndata)"
   ]
  },
  {
   "cell_type": "code",
   "execution_count": 25,
   "metadata": {},
   "outputs": [],
   "source": [
    "x = ndata[:, :5*24, :]"
   ]
  },
  {
   "cell_type": "code",
   "execution_count": 26,
   "metadata": {},
   "outputs": [],
   "source": [
    "y = ndata[:, -1, 0]"
   ]
  },
  {
   "cell_type": "code",
   "execution_count": 27,
   "metadata": {},
   "outputs": [
    {
     "data": {
      "text/plain": [
       "(43656,)"
      ]
     },
     "execution_count": 27,
     "metadata": {},
     "output_type": "execute_result"
    }
   ],
   "source": [
    "y.shape"
   ]
  },
  {
   "cell_type": "code",
   "execution_count": 28,
   "metadata": {},
   "outputs": [],
   "source": [
    "split_b = int(ndata.shape[0] * 0.8)"
   ]
  },
  {
   "cell_type": "code",
   "execution_count": 29,
   "metadata": {},
   "outputs": [],
   "source": [
    "train_x = x[:split_b]\n",
    "train_y = y[:split_b]\n",
    "test_x = x[split_b:]\n",
    "test_y = y[split_b:]"
   ]
  },
  {
   "cell_type": "code",
   "execution_count": 30,
   "metadata": {},
   "outputs": [
    {
     "data": {
      "text/plain": [
       "((34924, 120, 11), (34924,))"
      ]
     },
     "execution_count": 30,
     "metadata": {},
     "output_type": "execute_result"
    }
   ],
   "source": [
    "train_x.shape, train_y.shape"
   ]
  },
  {
   "cell_type": "code",
   "execution_count": 31,
   "metadata": {},
   "outputs": [
    {
     "data": {
      "text/plain": [
       "((8732, 120, 11), (8732,))"
      ]
     },
     "execution_count": 31,
     "metadata": {},
     "output_type": "execute_result"
    }
   ],
   "source": [
    "test_x.shape, test_y.shape"
   ]
  },
  {
   "cell_type": "code",
   "execution_count": 32,
   "metadata": {},
   "outputs": [],
   "source": [
    "mean = train_x.mean(axis=0)\n",
    "std = train_x.std(axis=0)"
   ]
  },
  {
   "cell_type": "code",
   "execution_count": 33,
   "metadata": {},
   "outputs": [
    {
     "data": {
      "text/plain": [
       "array([[91.32743835, 14.4049638 , 12.16034344, ...,  0.46654594,\n",
       "         0.47720846,  0.41055073],\n",
       "       [91.18687005, 14.40660478, 12.16309293, ...,  0.46638017,\n",
       "         0.47752072,  0.41007217],\n",
       "       [90.87637977, 14.40836114, 12.16331998, ...,  0.46686514,\n",
       "         0.47708291,  0.41021192],\n",
       "       ...,\n",
       "       [91.2557809 , 14.38452492, 12.13698167, ...,  0.46667823,\n",
       "         0.47662242,  0.41185799],\n",
       "       [91.39841325, 14.37797574, 12.13526146, ...,  0.46708429,\n",
       "         0.47674027,  0.41140389],\n",
       "       [91.12126163, 14.38321598, 12.13227998, ...,  0.46736798,\n",
       "         0.47689389,  0.41070987]])"
      ]
     },
     "execution_count": 33,
     "metadata": {},
     "output_type": "execute_result"
    }
   ],
   "source": [
    "std"
   ]
  },
  {
   "cell_type": "code",
   "execution_count": 34,
   "metadata": {},
   "outputs": [],
   "source": [
    "train_x = (train_x - mean) / std\n",
    "test_x = (test_x - mean) / std"
   ]
  },
  {
   "cell_type": "markdown",
   "metadata": {},
   "source": [
    "上述式子是对数据做标准化\n",
    "\n",
    "标准化：（数据 - 平均值）除以 标准差 \n",
    "        \n",
    "        (xi−μ)/σ 其中μ指的是样本的均值，σ指的是样本的标准差。\n",
    "        \n",
    "归一化：在标准化的前提下多了一个限制 将数据限制在 [0, 1]  (xi−min(x))/(max(x)−min(x))\n"
   ]
  },
  {
   "cell_type": "markdown",
   "metadata": {},
   "source": [
    "方差：\n",
    "方差是各个数据与平均数之差的平方的平均数\n",
    "\n",
    "标准差：\n",
    "方差开根号。"
   ]
  },
  {
   "cell_type": "code",
   "execution_count": 35,
   "metadata": {},
   "outputs": [],
   "source": [
    "batch_size = 128"
   ]
  },
  {
   "cell_type": "code",
   "execution_count": 36,
   "metadata": {},
   "outputs": [],
   "source": [
    "model = tf.keras.Sequential()"
   ]
  },
  {
   "cell_type": "code",
   "execution_count": 37,
   "metadata": {},
   "outputs": [],
   "source": [
    "model.add(layers.Flatten(input_shape=(train_x.shape[1:])))\n",
    "model.add(layers.Dense(32, activation='relu'))\n",
    "model.add(layers.Dense(1))"
   ]
  },
  {
   "cell_type": "code",
   "execution_count": 39,
   "metadata": {},
   "outputs": [],
   "source": [
    "model.compile(optimizer='adam',\n",
    "             loss='mse',\n",
    "             metrics=['mae'])"
   ]
  },
  {
   "cell_type": "code",
   "execution_count": 40,
   "metadata": {
    "scrolled": false
   },
   "outputs": [
    {
     "name": "stdout",
     "output_type": "stream",
     "text": [
      "Train on 34924 samples, validate on 8732 samples\n",
      "Epoch 1/50\n",
      "34924/34924 [==============================] - 1s 38us/sample - loss: 10729.3071 - mae: 74.3374 - val_loss: 8707.5838 - val_mae: 69.0148\n",
      "Epoch 2/50\n",
      "34924/34924 [==============================] - 1s 23us/sample - loss: 8049.0560 - mae: 66.6046 - val_loss: 7884.6602 - val_mae: 64.9081\n",
      "Epoch 3/50\n",
      "34924/34924 [==============================] - 1s 22us/sample - loss: 7358.1316 - mae: 63.3886 - val_loss: 7416.2854 - val_mae: 62.9455\n",
      "Epoch 4/50\n",
      "34924/34924 [==============================] - 1s 21us/sample - loss: 6957.3669 - mae: 61.3947 - val_loss: 7165.0034 - val_mae: 61.7343\n",
      "Epoch 5/50\n",
      "34924/34924 [==============================] - 1s 21us/sample - loss: 6712.8248 - mae: 60.1803 - val_loss: 7012.6413 - val_mae: 61.4808\n",
      "Epoch 6/50\n",
      "34924/34924 [==============================] - 1s 23us/sample - loss: 6521.4736 - mae: 59.2671 - val_loss: 6906.2463 - val_mae: 60.4900\n",
      "Epoch 7/50\n",
      "34924/34924 [==============================] - 1s 22us/sample - loss: 6376.0446 - mae: 58.6532 - val_loss: 6764.4152 - val_mae: 60.2017\n",
      "Epoch 8/50\n",
      "34924/34924 [==============================] - 1s 22us/sample - loss: 6242.3636 - mae: 58.0299 - val_loss: 6690.9064 - val_mae: 60.0312\n",
      "Epoch 9/50\n",
      "34924/34924 [==============================] - 1s 23us/sample - loss: 6136.4641 - mae: 57.5957 - val_loss: 6642.3390 - val_mae: 59.5283\n",
      "Epoch 10/50\n",
      "34924/34924 [==============================] - 1s 23us/sample - loss: 6043.5911 - mae: 57.2363 - val_loss: 6594.3128 - val_mae: 60.0887\n",
      "Epoch 11/50\n",
      "34924/34924 [==============================] - 1s 24us/sample - loss: 5958.4458 - mae: 56.9042 - val_loss: 6557.6587 - val_mae: 59.9724\n",
      "Epoch 12/50\n",
      "34924/34924 [==============================] - 1s 22us/sample - loss: 5888.7711 - mae: 56.5898 - val_loss: 6467.1384 - val_mae: 59.2283\n",
      "Epoch 13/50\n",
      "34924/34924 [==============================] - 1s 22us/sample - loss: 5818.5661 - mae: 56.2884 - val_loss: 6452.6597 - val_mae: 58.8617\n",
      "Epoch 14/50\n",
      "34924/34924 [==============================] - 1s 23us/sample - loss: 5748.1902 - mae: 55.9078 - val_loss: 6456.6007 - val_mae: 58.7291\n",
      "Epoch 15/50\n",
      "34924/34924 [==============================] - 1s 23us/sample - loss: 5691.0394 - mae: 55.6310 - val_loss: 6363.6972 - val_mae: 59.0133\n",
      "Epoch 16/50\n",
      "34924/34924 [==============================] - 1s 24us/sample - loss: 5622.0620 - mae: 55.3355 - val_loss: 6311.9712 - val_mae: 58.6089\n",
      "Epoch 17/50\n",
      "34924/34924 [==============================] - 1s 22us/sample - loss: 5546.3604 - mae: 54.9425 - val_loss: 6292.3732 - val_mae: 58.7563\n",
      "Epoch 18/50\n",
      "34924/34924 [==============================] - 1s 22us/sample - loss: 5486.9255 - mae: 54.6237 - val_loss: 6215.4652 - val_mae: 58.3007\n",
      "Epoch 19/50\n",
      "34924/34924 [==============================] - 1s 22us/sample - loss: 5412.4332 - mae: 54.2860 - val_loss: 6152.9755 - val_mae: 57.8537\n",
      "Epoch 20/50\n",
      "34924/34924 [==============================] - 1s 22us/sample - loss: 5351.4195 - mae: 53.9555 - val_loss: 6159.3984 - val_mae: 57.3922\n",
      "Epoch 21/50\n",
      "34924/34924 [==============================] - 1s 22us/sample - loss: 5265.3930 - mae: 53.5269 - val_loss: 6071.3988 - val_mae: 57.2654\n",
      "Epoch 22/50\n",
      "34924/34924 [==============================] - 1s 22us/sample - loss: 5206.0574 - mae: 53.2382 - val_loss: 6059.0603 - val_mae: 57.6096\n",
      "Epoch 23/50\n",
      "34924/34924 [==============================] - 1s 22us/sample - loss: 5132.5940 - mae: 52.8074 - val_loss: 6069.5890 - val_mae: 57.0372\n",
      "Epoch 24/50\n",
      "34924/34924 [==============================] - 1s 23us/sample - loss: 5056.5312 - mae: 52.4416 - val_loss: 5928.5588 - val_mae: 56.6554\n",
      "Epoch 25/50\n",
      "34924/34924 [==============================] - 1s 22us/sample - loss: 4998.5866 - mae: 52.1090 - val_loss: 5902.9042 - val_mae: 56.5475\n",
      "Epoch 26/50\n",
      "34924/34924 [==============================] - 1s 22us/sample - loss: 4920.2554 - mae: 51.7347 - val_loss: 5870.5307 - val_mae: 56.2739\n",
      "Epoch 27/50\n",
      "34924/34924 [==============================] - 1s 22us/sample - loss: 4866.5755 - mae: 51.3616 - val_loss: 5826.2543 - val_mae: 56.4145\n",
      "Epoch 28/50\n",
      "34924/34924 [==============================] - 1s 23us/sample - loss: 4807.0885 - mae: 51.1868 - val_loss: 5767.1354 - val_mae: 55.5987\n",
      "Epoch 29/50\n",
      "34924/34924 [==============================] - 1s 21us/sample - loss: 4757.7980 - mae: 50.8223 - val_loss: 5760.5158 - val_mae: 55.9707\n",
      "Epoch 30/50\n",
      "34924/34924 [==============================] - 1s 22us/sample - loss: 4687.5665 - mae: 50.4964 - val_loss: 5725.1838 - val_mae: 55.4020\n",
      "Epoch 31/50\n",
      "34924/34924 [==============================] - 1s 22us/sample - loss: 4647.7377 - mae: 50.2949 - val_loss: 5724.5582 - val_mae: 55.5291\n",
      "Epoch 32/50\n",
      "34924/34924 [==============================] - 1s 22us/sample - loss: 4586.9658 - mae: 49.9487 - val_loss: 5769.3477 - val_mae: 56.2273\n",
      "Epoch 33/50\n",
      "34924/34924 [==============================] - 1s 23us/sample - loss: 4537.0741 - mae: 49.7141 - val_loss: 5613.7183 - val_mae: 54.7706\n",
      "Epoch 34/50\n",
      "34924/34924 [==============================] - 1s 22us/sample - loss: 4474.7147 - mae: 49.3169 - val_loss: 5636.3989 - val_mae: 55.4336\n",
      "Epoch 35/50\n",
      "34924/34924 [==============================] - 1s 22us/sample - loss: 4433.3447 - mae: 49.1237 - val_loss: 5613.0991 - val_mae: 54.5858\n",
      "Epoch 36/50\n",
      "34924/34924 [==============================] - 1s 21us/sample - loss: 4391.3790 - mae: 48.9105 - val_loss: 5542.6917 - val_mae: 54.7173\n",
      "Epoch 37/50\n",
      "34924/34924 [==============================] - 1s 22us/sample - loss: 4344.6248 - mae: 48.6526 - val_loss: 5512.7061 - val_mae: 54.3769\n",
      "Epoch 38/50\n",
      "34924/34924 [==============================] - 1s 22us/sample - loss: 4288.6241 - mae: 48.3065 - val_loss: 5499.3294 - val_mae: 54.5948\n",
      "Epoch 39/50\n",
      "34924/34924 [==============================] - 1s 22us/sample - loss: 4250.5245 - mae: 48.1385 - val_loss: 5469.0215 - val_mae: 54.2660\n",
      "Epoch 40/50\n",
      "34924/34924 [==============================] - 1s 22us/sample - loss: 4208.1348 - mae: 47.8455 - val_loss: 5471.2682 - val_mae: 54.3239\n",
      "Epoch 41/50\n",
      "34924/34924 [==============================] - 1s 22us/sample - loss: 4164.1335 - mae: 47.6605 - val_loss: 5456.5762 - val_mae: 54.3421\n",
      "Epoch 42/50\n",
      "34924/34924 [==============================] - 1s 21us/sample - loss: 4116.9290 - mae: 47.4028 - val_loss: 5410.4201 - val_mae: 54.1025\n",
      "Epoch 43/50\n",
      "34924/34924 [==============================] - 1s 21us/sample - loss: 4078.4285 - mae: 47.1295 - val_loss: 5412.9062 - val_mae: 54.2064\n",
      "Epoch 44/50\n",
      "34924/34924 [==============================] - 1s 22us/sample - loss: 4048.0189 - mae: 46.9527 - val_loss: 5481.6788 - val_mae: 54.7124\n",
      "Epoch 45/50\n",
      "34924/34924 [==============================] - 1s 21us/sample - loss: 4001.2741 - mae: 46.6924 - val_loss: 5425.2365 - val_mae: 54.2822\n",
      "Epoch 46/50\n",
      "34924/34924 [==============================] - 1s 21us/sample - loss: 3965.0256 - mae: 46.5353 - val_loss: 5322.7573 - val_mae: 53.6683\n",
      "Epoch 47/50\n",
      "34924/34924 [==============================] - 1s 22us/sample - loss: 3918.5024 - mae: 46.2209 - val_loss: 5305.7789 - val_mae: 53.5229\n",
      "Epoch 48/50\n",
      "34924/34924 [==============================] - 1s 21us/sample - loss: 3885.2413 - mae: 45.9710 - val_loss: 5308.2172 - val_mae: 53.6921\n",
      "Epoch 49/50\n",
      "34924/34924 [==============================] - 1s 22us/sample - loss: 3853.9130 - mae: 45.8540 - val_loss: 5279.0933 - val_mae: 53.6096\n",
      "Epoch 50/50\n",
      "34924/34924 [==============================] - 1s 22us/sample - loss: 3803.5663 - mae: 45.5590 - val_loss: 5301.0900 - val_mae: 53.6566\n"
     ]
    }
   ],
   "source": [
    "history = model.fit(train_x, train_y, batch_size=batch_size, epochs=50, \n",
    "                    validation_data=(test_x, test_y))"
   ]
  },
  {
   "cell_type": "code",
   "execution_count": 43,
   "metadata": {},
   "outputs": [
    {
     "data": {
      "text/plain": [
       "<matplotlib.legend.Legend at 0x222e1e4a898>"
      ]
     },
     "execution_count": 43,
     "metadata": {},
     "output_type": "execute_result"
    },
    {
     "data": {
      "image/png": "[encoded data removed]",
      "text/plain": [
       "<Figure size 432x288 with 1 Axes>"
      ]
     },
     "metadata": {
      "needs_background": "light"
     },
     "output_type": "display_data"
    }
   ],
   "source": [
    "plt.plot(history.epoch, history.history.get('loss'), 'y', label='Training loss')\n",
    "plt.plot(history.epoch, history.history.get('val_loss'), 'b', label='Test loss')\n",
    "plt.legend()"
   ]
  },
  {
   "cell_type": "code",
   "execution_count": 44,
   "metadata": {},
   "outputs": [
    {
     "data": {
      "text/plain": [
       "<matplotlib.legend.Legend at 0x222e25079e8>"
      ]
     },
     "execution_count": 44,
     "metadata": {},
     "output_type": "execute_result"
    },
    {
     "data": {
      "image/png": "[encoded data removed]",
      "text/plain": [
       "<Figure size 432x288 with 1 Axes>"
      ]
     },
     "metadata": {
      "needs_background": "light"
     },
     "output_type": "display_data"
    }
   ],
   "source": [
    "plt.plot(history.epoch, history.history.get('mae'), 'y', label='Training mae')\n",
    "plt.plot(history.epoch, history.history.get('val_mae'), 'b', label='Test mae')\n",
    "plt.legend()"
   ]
  },
  {
   "cell_type": "markdown",
   "metadata": {},
   "source": [
    "# LSTM"
   ]
  },
  {
   "cell_type": "code",
   "execution_count": 46,
   "metadata": {},
   "outputs": [],
   "source": [
    "model = keras.Sequential()\n",
    "model.add(layers.LSTM(32, input_shape=(train_x.shape[1:])))\n",
    "model.add(layers.Dense(1))"
   ]
  },
  {
   "cell_type": "code",
   "execution_count": 47,
   "metadata": {},
   "outputs": [],
   "source": [
    "model.compile(optimizer=keras.optimizers.Adam(),\n",
    "             loss='mae')"
   ]
  },
  {
   "cell_type": "code",
   "execution_count": 48,
   "metadata": {
    "scrolled": true
   },
   "outputs": [
    {
     "name": "stdout",
     "output_type": "stream",
     "text": [
      "Train on 34924 samples, validate on 8732 samples\n",
      "Epoch 1/200\n",
      "34924/34924 [==============================] - 8s 234us/sample - loss: 87.8106 - val_loss: 82.1864\n",
      "Epoch 2/200\n",
      "34924/34924 [==============================] - 3s 72us/sample - loss: 79.4758 - val_loss: 77.2125\n",
      "Epoch 3/200\n",
      "34924/34924 [==============================] - 2s 69us/sample - loss: 75.2943 - val_loss: 73.6844\n",
      "Epoch 4/200\n",
      "34924/34924 [==============================] - 2s 68us/sample - loss: 72.2060 - val_loss: 71.0602\n",
      "Epoch 5/200\n",
      "34924/34924 [==============================] - 2s 69us/sample - loss: 69.8972 - val_loss: 69.1643\n",
      "Epoch 6/200\n",
      "34924/34924 [==============================] - 2s 69us/sample - loss: 68.1794 - val_loss: 67.6878\n",
      "Epoch 7/200\n",
      "34924/34924 [==============================] - 2s 69us/sample - loss: 66.6300 - val_loss: 66.1228\n",
      "Epoch 8/200\n",
      "34924/34924 [==============================] - 2s 70us/sample - loss: 65.1867 - val_loss: 64.7061\n",
      "Epoch 9/200\n",
      "34924/34924 [==============================] - 2s 69us/sample - loss: 63.9198 - val_loss: 63.5919\n",
      "Epoch 10/200\n",
      "34924/34924 [==============================] - 3s 76us/sample - loss: 62.8906 - val_loss: 62.6853\n",
      "Epoch 11/200\n",
      "34924/34924 [==============================] - 2s 68us/sample - loss: 61.9665 - val_loss: 61.9340\n",
      "Epoch 12/200\n",
      "34924/34924 [==============================] - 2s 70us/sample - loss: 61.2679 - val_loss: 61.3839\n",
      "Epoch 13/200\n",
      "34924/34924 [==============================] - 2s 69us/sample - loss: 60.6796 - val_loss: 61.2629\n",
      "Epoch 14/200\n",
      "34924/34924 [==============================] - 2s 69us/sample - loss: 60.3145 - val_loss: 60.4957\n",
      "Epoch 15/200\n",
      "34924/34924 [==============================] - 3s 72us/sample - loss: 59.8043 - val_loss: 60.2693\n",
      "Epoch 16/200\n",
      "34924/34924 [==============================] - 2s 70us/sample - loss: 59.3815 - val_loss: 59.9242\n",
      "Epoch 17/200\n",
      "34924/34924 [==============================] - 2s 69us/sample - loss: 59.2089 - val_loss: 59.9991\n",
      "Epoch 18/200\n",
      "34924/34924 [==============================] - 2s 69us/sample - loss: 58.7425 - val_loss: 59.4611\n",
      "Epoch 19/200\n",
      "34924/34924 [==============================] - 2s 69us/sample - loss: 58.3355 - val_loss: 58.9796\n",
      "Epoch 20/200\n",
      "34924/34924 [==============================] - 2s 69us/sample - loss: 58.1439 - val_loss: 58.9630\n",
      "Epoch 21/200\n",
      "34924/34924 [==============================] - 2s 69us/sample - loss: 57.9835 - val_loss: 58.6214\n",
      "Epoch 22/200\n",
      "34924/34924 [==============================] - 2s 70us/sample - loss: 57.6466 - val_loss: 58.5101\n",
      "Epoch 23/200\n",
      "34924/34924 [==============================] - 2s 69us/sample - loss: 57.3548 - val_loss: 58.8613\n",
      "Epoch 24/200\n",
      "34924/34924 [==============================] - 2s 69us/sample - loss: 57.3884 - val_loss: 58.5258\n",
      "Epoch 25/200\n",
      "34924/34924 [==============================] - 2s 69us/sample - loss: 57.2645 - val_loss: 58.1681\n",
      "Epoch 26/200\n",
      "34924/34924 [==============================] - 2s 69us/sample - loss: 57.1760 - val_loss: 57.8730\n",
      "Epoch 27/200\n",
      "34924/34924 [==============================] - 2s 70us/sample - loss: 56.7258 - val_loss: 57.4914\n",
      "Epoch 28/200\n",
      "34924/34924 [==============================] - 2s 69us/sample - loss: 56.8317 - val_loss: 59.0292\n",
      "Epoch 29/200\n",
      "34924/34924 [==============================] - 2s 69us/sample - loss: 57.0421 - val_loss: 58.1430\n",
      "Epoch 30/200\n",
      "34924/34924 [==============================] - 2s 69us/sample - loss: 56.4307 - val_loss: 57.1413\n",
      "Epoch 31/200\n",
      "34924/34924 [==============================] - 2s 68us/sample - loss: 55.8594 - val_loss: 56.7819\n",
      "Epoch 32/200\n",
      "34924/34924 [==============================] - 2s 68us/sample - loss: 55.7757 - val_loss: 56.9127\n",
      "Epoch 33/200\n",
      "34924/34924 [==============================] - 2s 67us/sample - loss: 56.8360 - val_loss: 58.2707\n",
      "Epoch 34/200\n",
      "34924/34924 [==============================] - 2s 67us/sample - loss: 56.9666 - val_loss: 57.6748\n",
      "Epoch 35/200\n",
      "34924/34924 [==============================] - 2s 67us/sample - loss: 56.0549 - val_loss: 57.5165\n",
      "Epoch 36/200\n",
      "34924/34924 [==============================] - 2s 67us/sample - loss: 55.7793 - val_loss: 57.1655\n",
      "Epoch 37/200\n",
      "34924/34924 [==============================] - 2s 67us/sample - loss: 55.7985 - val_loss: 56.6181\n",
      "Epoch 38/200\n",
      "34924/34924 [==============================] - 2s 67us/sample - loss: 55.8438 - val_loss: 58.5402\n",
      "Epoch 39/200\n",
      "34924/34924 [==============================] - 2s 67us/sample - loss: 55.7670 - val_loss: 56.8327\n",
      "Epoch 40/200\n",
      "34924/34924 [==============================] - 2s 67us/sample - loss: 55.0870 - val_loss: 56.2983\n",
      "Epoch 41/200\n",
      "34924/34924 [==============================] - 2s 67us/sample - loss: 55.9024 - val_loss: 58.1149\n",
      "Epoch 42/200\n",
      "34924/34924 [==============================] - 2s 66us/sample - loss: 56.4983 - val_loss: 57.3687\n",
      "Epoch 43/200\n",
      "34924/34924 [==============================] - 2s 67us/sample - loss: 56.0620 - val_loss: 57.0842\n",
      "Epoch 44/200\n",
      "34924/34924 [==============================] - 2s 67us/sample - loss: 56.3336 - val_loss: 58.0355\n",
      "Epoch 45/200\n",
      "34924/34924 [==============================] - 2s 67us/sample - loss: 56.2159 - val_loss: 57.1073\n",
      "Epoch 46/200\n",
      "34924/34924 [==============================] - 2s 66us/sample - loss: 55.6247 - val_loss: 56.4471\n",
      "Epoch 47/200\n",
      "34924/34924 [==============================] - 2s 67us/sample - loss: 55.4382 - val_loss: 57.3815\n",
      "Epoch 48/200\n",
      "34924/34924 [==============================] - 2s 67us/sample - loss: 56.6003 - val_loss: 57.1020\n",
      "Epoch 49/200\n",
      "34924/34924 [==============================] - 2s 67us/sample - loss: 56.1638 - val_loss: 57.5072\n",
      "Epoch 50/200\n",
      "34924/34924 [==============================] - 2s 67us/sample - loss: 55.5346 - val_loss: 56.4693\n",
      "Epoch 51/200\n",
      "34924/34924 [==============================] - 2s 67us/sample - loss: 55.7781 - val_loss: 56.3581\n",
      "Epoch 52/200\n",
      "34924/34924 [==============================] - 2s 67us/sample - loss: 54.9674 - val_loss: 55.9220\n",
      "Epoch 53/200\n",
      "34924/34924 [==============================] - 2s 67us/sample - loss: 54.8700 - val_loss: 56.4599\n",
      "Epoch 54/200\n",
      "34924/34924 [==============================] - 2s 67us/sample - loss: 54.5731 - val_loss: 55.6904\n",
      "Epoch 55/200\n",
      "34924/34924 [==============================] - 2s 67us/sample - loss: 54.1919 - val_loss: 55.5253\n",
      "Epoch 56/200\n",
      "34924/34924 [==============================] - 2s 67us/sample - loss: 53.9226 - val_loss: 56.2500\n",
      "Epoch 57/200\n",
      "34924/34924 [==============================] - 2s 67us/sample - loss: 53.8468 - val_loss: 54.8998\n",
      "Epoch 58/200\n",
      "34924/34924 [==============================] - 2s 66us/sample - loss: 54.0168 - val_loss: 55.6680\n",
      "Epoch 59/200\n",
      "34924/34924 [==============================] - 2s 67us/sample - loss: 53.4025 - val_loss: 54.3741\n",
      "Epoch 60/200\n",
      "34924/34924 [==============================] - 2s 66us/sample - loss: 54.2565 - val_loss: 55.4765\n",
      "Epoch 61/200\n",
      "34924/34924 [==============================] - 2s 67us/sample - loss: 53.7695 - val_loss: 54.6873\n",
      "Epoch 62/200\n",
      "34924/34924 [==============================] - 2s 66us/sample - loss: 54.0411 - val_loss: 54.9816\n",
      "Epoch 63/200\n",
      "34924/34924 [==============================] - 2s 66us/sample - loss: 53.7820 - val_loss: 54.6497\n",
      "Epoch 64/200\n",
      "34924/34924 [==============================] - 2s 67us/sample - loss: 52.8291 - val_loss: 54.0660\n",
      "Epoch 65/200\n",
      "34924/34924 [==============================] - 2s 66us/sample - loss: 53.3748 - val_loss: 54.1221\n",
      "Epoch 66/200\n",
      "34924/34924 [==============================] - 2s 67us/sample - loss: 52.8220 - val_loss: 55.6114\n",
      "Epoch 67/200\n",
      "34924/34924 [==============================] - 2s 70us/sample - loss: 54.2947 - val_loss: 54.9565\n",
      "Epoch 68/200\n",
      "34924/34924 [==============================] - 2s 70us/sample - loss: 53.0236 - val_loss: 54.3243\n",
      "Epoch 69/200\n",
      "34924/34924 [==============================] - 2s 69us/sample - loss: 52.5850 - val_loss: 53.6531\n",
      "Epoch 70/200\n",
      "34924/34924 [==============================] - 2s 69us/sample - loss: 51.9039 - val_loss: 53.0272\n",
      "Epoch 71/200\n",
      "34924/34924 [==============================] - 2s 71us/sample - loss: 52.7593 - val_loss: 54.8205\n",
      "Epoch 72/200\n",
      "34924/34924 [==============================] - 2s 69us/sample - loss: 53.1190 - val_loss: 54.7371\n",
      "Epoch 73/200\n",
      "34924/34924 [==============================] - 2s 70us/sample - loss: 53.5563 - val_loss: 56.4557\n",
      "Epoch 74/200\n"
     ]
    },
    {
     "name": "stdout",
     "output_type": "stream",
     "text": [
      "34924/34924 [==============================] - 2s 71us/sample - loss: 55.9722 - val_loss: 58.2403\n",
      "Epoch 75/200\n",
      "34924/34924 [==============================] - 2s 70us/sample - loss: 56.2583 - val_loss: 56.6742\n",
      "Epoch 76/200\n",
      "34924/34924 [==============================] - 2s 69us/sample - loss: 54.9950 - val_loss: 56.1182\n",
      "Epoch 77/200\n",
      "34924/34924 [==============================] - 2s 70us/sample - loss: 54.3283 - val_loss: 56.6480\n",
      "Epoch 78/200\n",
      "34924/34924 [==============================] - 2s 71us/sample - loss: 54.1748 - val_loss: 55.3172\n",
      "Epoch 79/200\n",
      "34924/34924 [==============================] - 2s 70us/sample - loss: 53.5313 - val_loss: 54.9003\n",
      "Epoch 80/200\n",
      "34924/34924 [==============================] - 2s 70us/sample - loss: 53.0600 - val_loss: 54.8054\n",
      "Epoch 81/200\n",
      "34924/34924 [==============================] - 2s 70us/sample - loss: 52.9074 - val_loss: 55.0800\n",
      "Epoch 82/200\n",
      "34924/34924 [==============================] - 2s 72us/sample - loss: 53.5382 - val_loss: 54.0380\n",
      "Epoch 83/200\n",
      "34924/34924 [==============================] - 2s 71us/sample - loss: 52.1602 - val_loss: 54.0308\n",
      "Epoch 84/200\n",
      "34924/34924 [==============================] - 2s 69us/sample - loss: 53.0571 - val_loss: 53.9915\n",
      "Epoch 85/200\n",
      "34924/34924 [==============================] - 2s 69us/sample - loss: 52.0548 - val_loss: 53.5517\n",
      "Epoch 86/200\n",
      "34924/34924 [==============================] - 2s 69us/sample - loss: 51.3926 - val_loss: 53.1351\n",
      "Epoch 87/200\n",
      "34924/34924 [==============================] - 2s 69us/sample - loss: 51.7733 - val_loss: 54.1285\n",
      "Epoch 88/200\n",
      "34924/34924 [==============================] - 2s 69us/sample - loss: 51.5173 - val_loss: 53.0613\n",
      "Epoch 89/200\n",
      "34924/34924 [==============================] - 2s 70us/sample - loss: 51.1948 - val_loss: 52.7198\n",
      "Epoch 90/200\n",
      "34924/34924 [==============================] - 2s 69us/sample - loss: 50.8630 - val_loss: 52.8410\n",
      "Epoch 91/200\n",
      "34924/34924 [==============================] - 2s 69us/sample - loss: 56.8334 - val_loss: 57.7195\n",
      "Epoch 92/200\n",
      "34924/34924 [==============================] - 2s 68us/sample - loss: 55.0763 - val_loss: 55.3064\n",
      "Epoch 93/200\n",
      "34924/34924 [==============================] - 2s 70us/sample - loss: 53.0085 - val_loss: 54.0060\n",
      "Epoch 94/200\n",
      "34924/34924 [==============================] - 2s 69us/sample - loss: 54.8800 - val_loss: 54.9828\n",
      "Epoch 95/200\n",
      "34924/34924 [==============================] - 2s 69us/sample - loss: 54.6431 - val_loss: 59.6704\n",
      "Epoch 96/200\n",
      "34924/34924 [==============================] - 2s 69us/sample - loss: 57.0218 - val_loss: 57.7821\n",
      "Epoch 97/200\n",
      "34924/34924 [==============================] - 2s 69us/sample - loss: 55.9062 - val_loss: 57.1677\n",
      "Epoch 98/200\n",
      "34924/34924 [==============================] - 2s 69us/sample - loss: 55.5815 - val_loss: 57.1138\n",
      "Epoch 99/200\n",
      "34924/34924 [==============================] - 2s 69us/sample - loss: 55.0158 - val_loss: 56.4311\n",
      "Epoch 100/200\n",
      "34924/34924 [==============================] - 2s 69us/sample - loss: 55.1511 - val_loss: 63.2467\n",
      "Epoch 101/200\n",
      "34924/34924 [==============================] - 2s 69us/sample - loss: 59.7649 - val_loss: 59.1078\n",
      "Epoch 102/200\n",
      "34924/34924 [==============================] - 2s 69us/sample - loss: 56.9560 - val_loss: 57.1705\n",
      "Epoch 103/200\n",
      "34924/34924 [==============================] - 2s 69us/sample - loss: 55.2901 - val_loss: 56.8169\n",
      "Epoch 104/200\n",
      "34924/34924 [==============================] - 2s 68us/sample - loss: 55.3439 - val_loss: 57.7203\n",
      "Epoch 105/200\n",
      "34924/34924 [==============================] - 2s 69us/sample - loss: 55.3275 - val_loss: 56.6467\n",
      "Epoch 106/200\n",
      "34924/34924 [==============================] - 2s 68us/sample - loss: 54.9460 - val_loss: 56.1713\n",
      "Epoch 107/200\n",
      "34924/34924 [==============================] - 2s 69us/sample - loss: 54.5832 - val_loss: 55.9472\n",
      "Epoch 108/200\n",
      "34924/34924 [==============================] - 2s 69us/sample - loss: 54.2115 - val_loss: 55.5572\n",
      "Epoch 109/200\n",
      "34924/34924 [==============================] - 2s 69us/sample - loss: 56.6944 - val_loss: 58.6174\n",
      "Epoch 110/200\n",
      "34924/34924 [==============================] - 2s 69us/sample - loss: 56.5309 - val_loss: 57.2389\n",
      "Epoch 111/200\n",
      "34924/34924 [==============================] - 2s 69us/sample - loss: 55.2297 - val_loss: 56.5758\n",
      "Epoch 112/200\n",
      "34924/34924 [==============================] - 2s 70us/sample - loss: 54.6356 - val_loss: 56.5125\n",
      "Epoch 113/200\n",
      "34924/34924 [==============================] - 2s 69us/sample - loss: 54.1576 - val_loss: 55.4458\n",
      "Epoch 114/200\n",
      "34924/34924 [==============================] - 2s 69us/sample - loss: 54.9891 - val_loss: 55.8771\n",
      "Epoch 115/200\n",
      "34924/34924 [==============================] - 2s 69us/sample - loss: 54.0648 - val_loss: 55.2336\n",
      "Epoch 116/200\n",
      "34924/34924 [==============================] - 2s 70us/sample - loss: 53.6721 - val_loss: 54.9572\n",
      "Epoch 117/200\n",
      "34924/34924 [==============================] - 2s 69us/sample - loss: 53.1718 - val_loss: 57.2748\n",
      "Epoch 118/200\n",
      "34924/34924 [==============================] - 2s 69us/sample - loss: 59.2997 - val_loss: 58.0267\n",
      "Epoch 119/200\n",
      "34924/34924 [==============================] - 2s 69us/sample - loss: 55.7908 - val_loss: 56.7967\n",
      "Epoch 120/200\n",
      "34924/34924 [==============================] - 2s 70us/sample - loss: 55.1167 - val_loss: 56.3925\n",
      "Epoch 121/200\n",
      "34924/34924 [==============================] - 2s 69us/sample - loss: 54.4873 - val_loss: 55.6814\n",
      "Epoch 122/200\n",
      "34924/34924 [==============================] - 2s 69us/sample - loss: 53.9220 - val_loss: 55.2690\n",
      "Epoch 123/200\n",
      "34924/34924 [==============================] - 2s 69us/sample - loss: 53.4714 - val_loss: 54.8537\n",
      "Epoch 124/200\n",
      "34924/34924 [==============================] - 2s 69us/sample - loss: 52.9635 - val_loss: 54.6123\n",
      "Epoch 125/200\n",
      "34924/34924 [==============================] - 2s 69us/sample - loss: 52.7723 - val_loss: 54.2512\n",
      "Epoch 126/200\n",
      "34924/34924 [==============================] - 2s 69us/sample - loss: 52.4006 - val_loss: 54.0630\n",
      "Epoch 127/200\n",
      "34924/34924 [==============================] - 2s 70us/sample - loss: 52.1569 - val_loss: 53.6419\n",
      "Epoch 128/200\n",
      "34924/34924 [==============================] - 2s 69us/sample - loss: 52.0056 - val_loss: 53.3860\n",
      "Epoch 129/200\n",
      "34924/34924 [==============================] - 2s 70us/sample - loss: 51.3600 - val_loss: 53.0990\n",
      "Epoch 130/200\n",
      "34924/34924 [==============================] - 2s 70us/sample - loss: 51.3347 - val_loss: 52.9299\n",
      "Epoch 131/200\n",
      "34924/34924 [==============================] - 2s 71us/sample - loss: 51.4224 - val_loss: 52.7932\n",
      "Epoch 132/200\n",
      "34924/34924 [==============================] - 2s 70us/sample - loss: 51.0412 - val_loss: 52.3482\n",
      "Epoch 133/200\n",
      "34924/34924 [==============================] - 2s 71us/sample - loss: 50.9986 - val_loss: 53.4457\n",
      "Epoch 134/200\n",
      "34924/34924 [==============================] - 2s 69us/sample - loss: 50.8326 - val_loss: 52.0356\n",
      "Epoch 135/200\n",
      "34924/34924 [==============================] - 2s 70us/sample - loss: 51.6029 - val_loss: 56.8475\n",
      "Epoch 136/200\n",
      "34924/34924 [==============================] - 2s 69us/sample - loss: 52.1576 - val_loss: 52.2180\n",
      "Epoch 137/200\n",
      "34924/34924 [==============================] - 2s 69us/sample - loss: 51.0934 - val_loss: 56.8410\n",
      "Epoch 138/200\n",
      "34924/34924 [==============================] - 2s 69us/sample - loss: 53.0258 - val_loss: 53.3290\n",
      "Epoch 139/200\n",
      "34924/34924 [==============================] - 2s 69us/sample - loss: 51.1670 - val_loss: 52.2700\n",
      "Epoch 140/200\n",
      "34924/34924 [==============================] - 2s 68us/sample - loss: 51.0894 - val_loss: 52.1787\n",
      "Epoch 141/200\n",
      "34924/34924 [==============================] - 2s 71us/sample - loss: 50.5611 - val_loss: 52.5042\n",
      "Epoch 142/200\n",
      "34924/34924 [==============================] - 2s 69us/sample - loss: 50.7908 - val_loss: 53.1973\n",
      "Epoch 143/200\n",
      "34924/34924 [==============================] - 2s 70us/sample - loss: 50.7221 - val_loss: 53.2885\n",
      "Epoch 144/200\n",
      "34924/34924 [==============================] - 2s 69us/sample - loss: 52.2858 - val_loss: 54.3688\n",
      "Epoch 145/200\n",
      "34924/34924 [==============================] - 2s 69us/sample - loss: 51.5802 - val_loss: 53.0414\n",
      "Epoch 146/200\n",
      "34924/34924 [==============================] - 2s 68us/sample - loss: 55.8265 - val_loss: 57.4837\n",
      "Epoch 147/200\n"
     ]
    },
    {
     "name": "stdout",
     "output_type": "stream",
     "text": [
      "34924/34924 [==============================] - 2s 68us/sample - loss: 53.3447 - val_loss: 53.3599\n",
      "Epoch 148/200\n",
      "34924/34924 [==============================] - 2s 69us/sample - loss: 51.3750 - val_loss: 52.6867\n",
      "Epoch 149/200\n",
      "34924/34924 [==============================] - 2s 69us/sample - loss: 50.8962 - val_loss: 52.4965\n",
      "Epoch 150/200\n",
      "34924/34924 [==============================] - 2s 69us/sample - loss: 50.6296 - val_loss: 53.7854\n",
      "Epoch 151/200\n",
      "34924/34924 [==============================] - 2s 69us/sample - loss: 55.5568 - val_loss: 56.4154\n",
      "Epoch 152/200\n",
      "34924/34924 [==============================] - 2s 69us/sample - loss: 53.3286 - val_loss: 55.1526\n",
      "Epoch 153/200\n",
      "34924/34924 [==============================] - 2s 68us/sample - loss: 52.2254 - val_loss: 53.9095\n",
      "Epoch 154/200\n",
      "34924/34924 [==============================] - 2s 70us/sample - loss: 52.1634 - val_loss: 53.5119\n",
      "Epoch 155/200\n",
      "34924/34924 [==============================] - 2s 69us/sample - loss: 52.4846 - val_loss: 54.1202\n",
      "Epoch 156/200\n",
      "34924/34924 [==============================] - 2s 69us/sample - loss: 52.0852 - val_loss: 53.1287\n",
      "Epoch 157/200\n",
      "34924/34924 [==============================] - 2s 68us/sample - loss: 51.2877 - val_loss: 54.0815\n",
      "Epoch 158/200\n",
      "34924/34924 [==============================] - 2s 68us/sample - loss: 52.8196 - val_loss: 53.7384\n",
      "Epoch 159/200\n",
      "34924/34924 [==============================] - 2s 69us/sample - loss: 51.4493 - val_loss: 52.6012\n",
      "Epoch 160/200\n",
      "34924/34924 [==============================] - 2s 70us/sample - loss: 50.4323 - val_loss: 52.2057\n",
      "Epoch 161/200\n",
      "34924/34924 [==============================] - 2s 70us/sample - loss: 50.0562 - val_loss: 52.1492\n",
      "Epoch 162/200\n",
      "34924/34924 [==============================] - 2s 71us/sample - loss: 50.2173 - val_loss: 51.8285\n",
      "Epoch 163/200\n",
      "34924/34924 [==============================] - 2s 69us/sample - loss: 50.9654 - val_loss: 54.0522\n",
      "Epoch 164/200\n",
      "34924/34924 [==============================] - 2s 69us/sample - loss: 52.5071 - val_loss: 53.3522\n",
      "Epoch 165/200\n",
      "34924/34924 [==============================] - 2s 69us/sample - loss: 51.3683 - val_loss: 52.7039\n",
      "Epoch 166/200\n",
      "34924/34924 [==============================] - 3s 73us/sample - loss: 50.4346 - val_loss: 52.1358\n",
      "Epoch 167/200\n",
      "34924/34924 [==============================] - 2s 69us/sample - loss: 50.6687 - val_loss: 52.8029\n",
      "Epoch 168/200\n",
      "34924/34924 [==============================] - 2s 70us/sample - loss: 50.7442 - val_loss: 52.2911\n",
      "Epoch 169/200\n",
      "34924/34924 [==============================] - 2s 69us/sample - loss: 50.8988 - val_loss: 52.0675\n",
      "Epoch 170/200\n",
      "34924/34924 [==============================] - 2s 69us/sample - loss: 49.8080 - val_loss: 51.0343\n",
      "Epoch 171/200\n",
      "34924/34924 [==============================] - 2s 68us/sample - loss: 49.3352 - val_loss: 50.9372\n",
      "Epoch 172/200\n",
      "34924/34924 [==============================] - 2s 68us/sample - loss: 48.7005 - val_loss: 50.8804\n",
      "Epoch 173/200\n",
      "34924/34924 [==============================] - 2s 69us/sample - loss: 48.5950 - val_loss: 50.2628\n",
      "Epoch 174/200\n",
      "34924/34924 [==============================] - 2s 68us/sample - loss: 48.1061 - val_loss: 49.8544\n",
      "Epoch 175/200\n",
      "34924/34924 [==============================] - 2s 69us/sample - loss: 50.3864 - val_loss: 52.0371\n",
      "Epoch 176/200\n",
      "34924/34924 [==============================] - 2s 68us/sample - loss: 49.6785 - val_loss: 50.7484\n",
      "Epoch 177/200\n",
      "34924/34924 [==============================] - 2s 68us/sample - loss: 48.8606 - val_loss: 50.4839\n",
      "Epoch 178/200\n",
      "34924/34924 [==============================] - 2s 68us/sample - loss: 48.6944 - val_loss: 51.0488\n",
      "Epoch 179/200\n",
      "34924/34924 [==============================] - 2s 68us/sample - loss: 47.7822 - val_loss: 49.1710\n",
      "Epoch 180/200\n",
      "34924/34924 [==============================] - 2s 69us/sample - loss: 48.7022 - val_loss: 57.5139\n",
      "Epoch 181/200\n",
      "34924/34924 [==============================] - 2s 70us/sample - loss: 50.8523 - val_loss: 51.1912\n",
      "Epoch 182/200\n",
      "34924/34924 [==============================] - 2s 68us/sample - loss: 49.5943 - val_loss: 51.8703\n",
      "Epoch 183/200\n",
      "34924/34924 [==============================] - 2s 70us/sample - loss: 48.6203 - val_loss: 50.3728\n",
      "Epoch 184/200\n",
      "34924/34924 [==============================] - 2s 68us/sample - loss: 49.3678 - val_loss: 50.5380\n",
      "Epoch 185/200\n",
      "34924/34924 [==============================] - 2s 69us/sample - loss: 47.9876 - val_loss: 49.8613\n",
      "Epoch 186/200\n",
      "34924/34924 [==============================] - 2s 68us/sample - loss: 47.8252 - val_loss: 49.6588\n",
      "Epoch 187/200\n",
      "34924/34924 [==============================] - 2s 69us/sample - loss: 47.8640 - val_loss: 49.8550\n",
      "Epoch 188/200\n",
      "34924/34924 [==============================] - 2s 69us/sample - loss: 47.6315 - val_loss: 52.5193\n",
      "Epoch 189/200\n",
      "34924/34924 [==============================] - 2s 69us/sample - loss: 49.5460 - val_loss: 51.2566\n",
      "Epoch 190/200\n",
      "34924/34924 [==============================] - 2s 69us/sample - loss: 48.1648 - val_loss: 49.9243\n",
      "Epoch 191/200\n",
      "34924/34924 [==============================] - 2s 70us/sample - loss: 47.3917 - val_loss: 49.0654\n",
      "Epoch 192/200\n",
      "34924/34924 [==============================] - 2s 69us/sample - loss: 47.0681 - val_loss: 49.3334\n",
      "Epoch 193/200\n",
      "34924/34924 [==============================] - 2s 70us/sample - loss: 46.8620 - val_loss: 49.2116\n",
      "Epoch 194/200\n",
      "34924/34924 [==============================] - 2s 69us/sample - loss: 46.6135 - val_loss: 48.8603\n",
      "Epoch 195/200\n",
      "34924/34924 [==============================] - 2s 68us/sample - loss: 46.7497 - val_loss: 49.2807\n",
      "Epoch 196/200\n",
      "34924/34924 [==============================] - 2s 70us/sample - loss: 49.2700 - val_loss: 54.1426\n",
      "Epoch 197/200\n",
      "34924/34924 [==============================] - 2s 69us/sample - loss: 50.8753 - val_loss: 53.6528\n",
      "Epoch 198/200\n",
      "34924/34924 [==============================] - 2s 69us/sample - loss: 49.3728 - val_loss: 51.0104\n",
      "Epoch 199/200\n",
      "34924/34924 [==============================] - 2s 69us/sample - loss: 47.6967 - val_loss: 48.6940\n",
      "Epoch 200/200\n",
      "34924/34924 [==============================] - 2s 69us/sample - loss: 46.9678 - val_loss: 48.7585\n"
     ]
    }
   ],
   "source": [
    "history = model.fit(train_x, train_y, batch_size=128, \n",
    "                    epochs=200, validation_data=(test_x, test_y))"
   ]
  },
  {
   "cell_type": "code",
   "execution_count": 49,
   "metadata": {},
   "outputs": [
    {
     "data": {
      "text/plain": [
       "<matplotlib.legend.Legend at 0x222ff25c6d8>"
      ]
     },
     "execution_count": 49,
     "metadata": {},
     "output_type": "execute_result"
    },
    {
     "data": {
      "image/png": "[encoded data removed]",
      "text/plain": [
       "<Figure size 432x288 with 1 Axes>"
      ]
     },
     "metadata": {
      "needs_background": "light"
     },
     "output_type": "display_data"
    }
   ],
   "source": [
    "plt.plot(history.epoch, history.history.get('loss'), 'y', label='Training loss')\n",
    "plt.plot(history.epoch, history.history.get('val_loss'), 'b', label='Test loss')\n",
    "plt.legend()"
   ]
  },
  {
   "cell_type": "code",
   "execution_count": null,
   "metadata": {},
   "outputs": [],
   "source": []
  },
  {
   "cell_type": "code",
   "execution_count": null,
   "metadata": {},
   "outputs": [],
   "source": []
  },
  {
   "cell_type": "code",
   "execution_count": 50,
   "metadata": {},
   "outputs": [],
   "source": [
    "model = keras.Sequential()\n",
    "model.add(layers.LSTM(32, input_shape=(train_x.shape[1:]), return_sequences=True))\n",
    "model.add(layers.LSTM(32, return_sequences=True))\n",
    "model.add(layers.LSTM(32))\n",
    "model.add(layers.Dense(1))"
   ]
  },
  {
   "cell_type": "code",
   "execution_count": 51,
   "metadata": {},
   "outputs": [],
   "source": [
    "lr_reduce = keras.callbacks.ReduceLROnPlateau('val_loss', patience=3, \n",
    "                                              factor=0.5, min_lr=0.000001)"
   ]
  },
  {
   "cell_type": "code",
   "execution_count": 52,
   "metadata": {},
   "outputs": [],
   "source": [
    "model.compile(\n",
    "    optimizer='adam',\n",
    "    loss='mae',\n",
    "    metrics=['mae']\n",
    ")"
   ]
  },
  {
   "cell_type": "code",
   "execution_count": 53,
   "metadata": {
    "scrolled": true
   },
   "outputs": [
    {
     "name": "stdout",
     "output_type": "stream",
     "text": [
      "Train on 34924 samples, validate on 8732 samples\n",
      "Epoch 1/150\n",
      "34924/34924 [==============================] - 8s 223us/sample - loss: 87.4257 - mae: 87.4257 - val_loss: 82.8181 - val_mae: 82.8181\n",
      "Epoch 2/150\n",
      "34924/34924 [==============================] - 5s 147us/sample - loss: 80.2104 - mae: 80.2103 - val_loss: 77.9746 - val_mae: 77.9746\n",
      "Epoch 3/150\n",
      "34924/34924 [==============================] - 5s 145us/sample - loss: 76.0830 - mae: 76.0830 - val_loss: 74.4638 - val_mae: 74.4638\n",
      "Epoch 4/150\n",
      "34924/34924 [==============================] - 5s 146us/sample - loss: 72.9752 - mae: 72.9753 - val_loss: 71.7749 - val_mae: 71.7749\n",
      "Epoch 5/150\n",
      "34924/34924 [==============================] - 5s 143us/sample - loss: 70.5885 - mae: 70.5885 - val_loss: 69.7780 - val_mae: 69.7780\n",
      "Epoch 6/150\n",
      "34924/34924 [==============================] - 5s 144us/sample - loss: 68.8173 - mae: 68.8173 - val_loss: 68.3457 - val_mae: 68.3457\n",
      "Epoch 7/150\n",
      "34924/34924 [==============================] - 5s 144us/sample - loss: 67.5452 - mae: 67.5452 - val_loss: 67.3422 - val_mae: 67.3422\n",
      "Epoch 8/150\n",
      "34924/34924 [==============================] - 5s 142us/sample - loss: 66.6548 - mae: 66.6548 - val_loss: 66.6427 - val_mae: 66.6427\n",
      "Epoch 9/150\n",
      "34924/34924 [==============================] - 5s 142us/sample - loss: 66.0382 - mae: 66.0382 - val_loss: 66.1873 - val_mae: 66.1873\n",
      "Epoch 10/150\n",
      "34924/34924 [==============================] - 5s 143us/sample - loss: 65.6248 - mae: 65.6248 - val_loss: 65.9095 - val_mae: 65.9095\n",
      "Epoch 11/150\n",
      "34924/34924 [==============================] - 5s 144us/sample - loss: 65.3638 - mae: 65.3638 - val_loss: 65.7544 - val_mae: 65.7544\n",
      "Epoch 12/150\n",
      "34924/34924 [==============================] - 5s 147us/sample - loss: 65.2094 - mae: 65.2094 - val_loss: 65.6781 - val_mae: 65.6781\n",
      "Epoch 13/150\n",
      "34924/34924 [==============================] - 5s 142us/sample - loss: 65.1297 - mae: 65.1297 - val_loss: 65.6498 - val_mae: 65.6498\n",
      "Epoch 14/150\n",
      "34924/34924 [==============================] - 5s 148us/sample - loss: 65.0960 - mae: 65.0960 - val_loss: 65.6437 - val_mae: 65.6437\n",
      "Epoch 15/150\n",
      "34924/34924 [==============================] - 5s 139us/sample - loss: 65.0813 - mae: 65.0813 - val_loss: 65.6450 - val_mae: 65.6450\n",
      "Epoch 16/150\n",
      "34924/34924 [==============================] - 5s 140us/sample - loss: 65.0762 - mae: 65.0762 - val_loss: 65.6481 - val_mae: 65.6481\n",
      "Epoch 17/150\n",
      "34924/34924 [==============================] - 5s 137us/sample - loss: 65.0725 - mae: 65.0725 - val_loss: 65.6511 - val_mae: 65.6511\n",
      "Epoch 18/150\n",
      "34924/34924 [==============================] - 5s 138us/sample - loss: 65.0721 - mae: 65.0721 - val_loss: 65.6513 - val_mae: 65.6513\n",
      "Epoch 19/150\n",
      "34924/34924 [==============================] - 5s 138us/sample - loss: 65.0720 - mae: 65.0720 - val_loss: 65.6524 - val_mae: 65.6524\n",
      "Epoch 20/150\n",
      "34924/34924 [==============================] - 5s 137us/sample - loss: 65.0721 - mae: 65.0722 - val_loss: 65.6528 - val_mae: 65.6528\n",
      "Epoch 21/150\n",
      "34924/34924 [==============================] - 5s 138us/sample - loss: 65.0720 - mae: 65.0720 - val_loss: 65.6526 - val_mae: 65.6526\n",
      "Epoch 22/150\n",
      "34924/34924 [==============================] - 5s 137us/sample - loss: 65.0719 - mae: 65.0719 - val_loss: 65.6529 - val_mae: 65.6529\n",
      "Epoch 23/150\n",
      "34924/34924 [==============================] - 5s 138us/sample - loss: 65.0718 - mae: 65.0719 - val_loss: 65.6531 - val_mae: 65.6531\n",
      "Epoch 24/150\n",
      "34924/34924 [==============================] - 5s 139us/sample - loss: 65.0716 - mae: 65.0716 - val_loss: 65.6526 - val_mae: 65.6526\n",
      "Epoch 25/150\n",
      "34924/34924 [==============================] - 5s 138us/sample - loss: 64.4131 - mae: 64.4131 - val_loss: 63.7365 - val_mae: 63.7365\n",
      "Epoch 26/150\n",
      "34924/34924 [==============================] - 5s 138us/sample - loss: 62.7531 - mae: 62.7532 - val_loss: 62.8107 - val_mae: 62.8107\n",
      "Epoch 27/150\n",
      "34924/34924 [==============================] - 5s 137us/sample - loss: 62.2447 - mae: 62.2447 - val_loss: 62.4131 - val_mae: 62.4131\n",
      "Epoch 28/150\n",
      "34924/34924 [==============================] - 5s 141us/sample - loss: 61.8384 - mae: 61.8384 - val_loss: 62.0854 - val_mae: 62.0854\n",
      "Epoch 29/150\n",
      "34924/34924 [==============================] - 5s 142us/sample - loss: 61.3945 - mae: 61.3945 - val_loss: 61.6435 - val_mae: 61.6435\n",
      "Epoch 30/150\n",
      "34924/34924 [==============================] - 5s 140us/sample - loss: 61.0034 - mae: 61.0034 - val_loss: 61.2865 - val_mae: 61.2865\n",
      "Epoch 31/150\n",
      "34924/34924 [==============================] - 5s 140us/sample - loss: 60.6182 - mae: 60.6182 - val_loss: 60.9306 - val_mae: 60.9305\n",
      "Epoch 32/150\n",
      "34924/34924 [==============================] - 5s 141us/sample - loss: 60.2278 - mae: 60.2278 - val_loss: 60.5949 - val_mae: 60.5949\n",
      "Epoch 33/150\n",
      "34924/34924 [==============================] - 5s 140us/sample - loss: 59.8536 - mae: 59.8536 - val_loss: 60.2185 - val_mae: 60.2185\n",
      "Epoch 34/150\n",
      "34924/34924 [==============================] - 5s 140us/sample - loss: 59.4961 - mae: 59.4961 - val_loss: 59.9884 - val_mae: 59.9884\n",
      "Epoch 35/150\n",
      "34924/34924 [==============================] - 5s 141us/sample - loss: 59.1347 - mae: 59.1347 - val_loss: 59.5632 - val_mae: 59.5632\n",
      "Epoch 36/150\n",
      "34924/34924 [==============================] - 5s 140us/sample - loss: 58.8508 - mae: 58.8508 - val_loss: 59.3228 - val_mae: 59.3228\n",
      "Epoch 37/150\n",
      "34924/34924 [==============================] - 5s 141us/sample - loss: 58.5496 - mae: 58.5495 - val_loss: 59.1349 - val_mae: 59.1349\n",
      "Epoch 38/150\n",
      "34924/34924 [==============================] - 5s 139us/sample - loss: 58.2482 - mae: 58.2482 - val_loss: 58.8628 - val_mae: 58.8628\n",
      "Epoch 39/150\n",
      "34924/34924 [==============================] - 5s 140us/sample - loss: 57.9871 - mae: 57.9871 - val_loss: 58.6663 - val_mae: 58.6663\n",
      "Epoch 40/150\n",
      "34924/34924 [==============================] - 5s 140us/sample - loss: 57.7929 - mae: 57.7929 - val_loss: 58.5606 - val_mae: 58.5606\n",
      "Epoch 41/150\n",
      "34924/34924 [==============================] - 5s 140us/sample - loss: 57.4731 - mae: 57.4731 - val_loss: 58.6167 - val_mae: 58.6167\n",
      "Epoch 42/150\n",
      "34924/34924 [==============================] - 5s 140us/sample - loss: 57.3476 - mae: 57.3476 - val_loss: 58.1377 - val_mae: 58.1377\n",
      "Epoch 43/150\n",
      "34924/34924 [==============================] - 5s 141us/sample - loss: 57.0388 - mae: 57.0388 - val_loss: 57.8583 - val_mae: 57.8583\n",
      "Epoch 44/150\n",
      "34924/34924 [==============================] - 5s 141us/sample - loss: 56.7935 - mae: 56.7935 - val_loss: 57.6187 - val_mae: 57.6187\n",
      "Epoch 45/150\n",
      "34924/34924 [==============================] - 5s 141us/sample - loss: 56.6219 - mae: 56.6219 - val_loss: 57.3953 - val_mae: 57.3953\n",
      "Epoch 46/150\n",
      "34924/34924 [==============================] - 5s 140us/sample - loss: 56.4120 - mae: 56.4120 - val_loss: 57.2983 - val_mae: 57.2983\n",
      "Epoch 47/150\n",
      "34924/34924 [==============================] - 5s 141us/sample - loss: 56.0984 - mae: 56.0984 - val_loss: 56.9888 - val_mae: 56.9888\n",
      "Epoch 48/150\n",
      "34924/34924 [==============================] - 5s 140us/sample - loss: 55.9511 - mae: 55.9511 - val_loss: 56.8742 - val_mae: 56.8742\n",
      "Epoch 49/150\n",
      "34924/34924 [==============================] - 5s 141us/sample - loss: 55.7500 - mae: 55.7500 - val_loss: 56.6571 - val_mae: 56.6571\n",
      "Epoch 50/150\n",
      "34924/34924 [==============================] - 5s 140us/sample - loss: 55.5388 - mae: 55.5388 - val_loss: 56.4708 - val_mae: 56.4708\n",
      "Epoch 51/150\n",
      "34924/34924 [==============================] - 5s 140us/sample - loss: 55.3613 - mae: 55.3613 - val_loss: 56.3851 - val_mae: 56.3851\n",
      "Epoch 52/150\n",
      "34924/34924 [==============================] - 5s 140us/sample - loss: 57.3062 - mae: 57.3062 - val_loss: 57.4289 - val_mae: 57.4289\n",
      "Epoch 53/150\n",
      "34924/34924 [==============================] - 5s 140us/sample - loss: 57.2351 - mae: 57.2351 - val_loss: 59.2735 - val_mae: 59.2735\n",
      "Epoch 54/150\n",
      "34924/34924 [==============================] - 5s 140us/sample - loss: 57.9447 - mae: 57.9447 - val_loss: 58.4311 - val_mae: 58.4311\n",
      "Epoch 55/150\n",
      "34924/34924 [==============================] - 5s 141us/sample - loss: 57.4092 - mae: 57.4092 - val_loss: 58.1215 - val_mae: 58.1215\n",
      "Epoch 56/150\n",
      "34924/34924 [==============================] - 5s 141us/sample - loss: 57.0460 - mae: 57.0459 - val_loss: 57.7878 - val_mae: 57.7878\n"
     ]
    },
    {
     "name": "stdout",
     "output_type": "stream",
     "text": [
      "Epoch 57/150\n",
      "34924/34924 [==============================] - 5s 139us/sample - loss: 56.7324 - mae: 56.7324 - val_loss: 57.5979 - val_mae: 57.5979\n",
      "Epoch 58/150\n",
      "34924/34924 [==============================] - 5s 139us/sample - loss: 56.5478 - mae: 56.5478 - val_loss: 57.4351 - val_mae: 57.4351\n",
      "Epoch 59/150\n",
      "34924/34924 [==============================] - 5s 139us/sample - loss: 56.4252 - mae: 56.4252 - val_loss: 57.3072 - val_mae: 57.3072\n",
      "Epoch 60/150\n",
      "34924/34924 [==============================] - 5s 139us/sample - loss: 56.2992 - mae: 56.2992 - val_loss: 57.1868 - val_mae: 57.1868\n",
      "Epoch 61/150\n",
      "34924/34924 [==============================] - 5s 140us/sample - loss: 56.1850 - mae: 56.1850 - val_loss: 57.1422 - val_mae: 57.1422\n",
      "Epoch 62/150\n",
      "34924/34924 [==============================] - 5s 140us/sample - loss: 56.1149 - mae: 56.1149 - val_loss: 57.0728 - val_mae: 57.0728\n",
      "Epoch 63/150\n",
      "34924/34924 [==============================] - 5s 140us/sample - loss: 56.0484 - mae: 56.0483 - val_loss: 57.0259 - val_mae: 57.0259\n",
      "Epoch 64/150\n",
      "34924/34924 [==============================] - 5s 140us/sample - loss: 55.9895 - mae: 55.9894 - val_loss: 56.9769 - val_mae: 56.9769\n",
      "Epoch 65/150\n",
      "34924/34924 [==============================] - 5s 140us/sample - loss: 55.9420 - mae: 55.9420 - val_loss: 56.9363 - val_mae: 56.9363\n",
      "Epoch 66/150\n",
      "34924/34924 [==============================] - 5s 140us/sample - loss: 55.8908 - mae: 55.8909 - val_loss: 56.8607 - val_mae: 56.8607\n",
      "Epoch 67/150\n",
      "34924/34924 [==============================] - 5s 140us/sample - loss: 55.8323 - mae: 55.8323 - val_loss: 56.8135 - val_mae: 56.8135\n",
      "Epoch 68/150\n",
      "34924/34924 [==============================] - 5s 138us/sample - loss: 55.7851 - mae: 55.7851 - val_loss: 56.7813 - val_mae: 56.7813\n",
      "Epoch 69/150\n",
      "34924/34924 [==============================] - 5s 140us/sample - loss: 55.7520 - mae: 55.7520 - val_loss: 56.7433 - val_mae: 56.7433\n",
      "Epoch 70/150\n",
      "34924/34924 [==============================] - 5s 141us/sample - loss: 55.7282 - mae: 55.7282 - val_loss: 56.7299 - val_mae: 56.7299\n",
      "Epoch 71/150\n",
      "34924/34924 [==============================] - 5s 140us/sample - loss: 55.7136 - mae: 55.7136 - val_loss: 56.7156 - val_mae: 56.7156\n",
      "Epoch 72/150\n",
      "34924/34924 [==============================] - 5s 140us/sample - loss: 55.6985 - mae: 55.6985 - val_loss: 56.7021 - val_mae: 56.7021\n",
      "Epoch 73/150\n",
      "34924/34924 [==============================] - 5s 141us/sample - loss: 55.6806 - mae: 55.6806 - val_loss: 56.6917 - val_mae: 56.6917\n",
      "Epoch 74/150\n",
      "34924/34924 [==============================] - 5s 141us/sample - loss: 55.6703 - mae: 55.6703 - val_loss: 56.6823 - val_mae: 56.6823\n",
      "Epoch 75/150\n",
      "34924/34924 [==============================] - 5s 140us/sample - loss: 55.6572 - mae: 55.6572 - val_loss: 56.6712 - val_mae: 56.6711\n",
      "Epoch 76/150\n",
      "34924/34924 [==============================] - 5s 141us/sample - loss: 55.6442 - mae: 55.6442 - val_loss: 56.6609 - val_mae: 56.6609\n",
      "Epoch 77/150\n",
      "34924/34924 [==============================] - 5s 140us/sample - loss: 55.6304 - mae: 55.6304 - val_loss: 56.6509 - val_mae: 56.6509\n",
      "Epoch 78/150\n",
      "34924/34924 [==============================] - 5s 140us/sample - loss: 55.6148 - mae: 55.6148 - val_loss: 56.6347 - val_mae: 56.6348\n",
      "Epoch 79/150\n",
      "34924/34924 [==============================] - 5s 141us/sample - loss: 55.5945 - mae: 55.5945 - val_loss: 56.6201 - val_mae: 56.6201\n",
      "Epoch 80/150\n",
      "34924/34924 [==============================] - 5s 141us/sample - loss: 55.5798 - mae: 55.5798 - val_loss: 56.6092 - val_mae: 56.6092\n",
      "Epoch 81/150\n",
      "34924/34924 [==============================] - 5s 140us/sample - loss: 55.5690 - mae: 55.5690 - val_loss: 56.6033 - val_mae: 56.6033\n",
      "Epoch 82/150\n",
      "34924/34924 [==============================] - 5s 140us/sample - loss: 55.5618 - mae: 55.5618 - val_loss: 56.5932 - val_mae: 56.5932\n",
      "Epoch 83/150\n",
      "34924/34924 [==============================] - 5s 140us/sample - loss: 55.5525 - mae: 55.5525 - val_loss: 56.5868 - val_mae: 56.5868\n",
      "Epoch 84/150\n",
      "34924/34924 [==============================] - 5s 140us/sample - loss: 55.5448 - mae: 55.5448 - val_loss: 56.5783 - val_mae: 56.5783\n",
      "Epoch 85/150\n",
      "34924/34924 [==============================] - 5s 141us/sample - loss: 55.5396 - mae: 55.5397 - val_loss: 56.5736 - val_mae: 56.5736\n",
      "Epoch 86/150\n",
      "34924/34924 [==============================] - 5s 142us/sample - loss: 55.5330 - mae: 55.5330 - val_loss: 56.5677 - val_mae: 56.5677\n",
      "Epoch 87/150\n",
      "34924/34924 [==============================] - 5s 141us/sample - loss: 55.5262 - mae: 55.5262 - val_loss: 56.5622 - val_mae: 56.5622\n",
      "Epoch 88/150\n",
      "34924/34924 [==============================] - 5s 141us/sample - loss: 55.5190 - mae: 55.5190 - val_loss: 56.5557 - val_mae: 56.5557\n",
      "Epoch 89/150\n",
      "34924/34924 [==============================] - 5s 140us/sample - loss: 55.5132 - mae: 55.5132 - val_loss: 56.5484 - val_mae: 56.5484\n",
      "Epoch 90/150\n",
      "34924/34924 [==============================] - 5s 140us/sample - loss: 55.5059 - mae: 55.5059 - val_loss: 56.5415 - val_mae: 56.5415\n",
      "Epoch 91/150\n",
      "34924/34924 [==============================] - 5s 141us/sample - loss: 55.4993 - mae: 55.4993 - val_loss: 56.5363 - val_mae: 56.5363\n",
      "Epoch 92/150\n",
      "34924/34924 [==============================] - 5s 140us/sample - loss: 55.4941 - mae: 55.4941 - val_loss: 56.5292 - val_mae: 56.5292\n",
      "Epoch 93/150\n",
      "34924/34924 [==============================] - 5s 139us/sample - loss: 55.4862 - mae: 55.4862 - val_loss: 56.5231 - val_mae: 56.5231\n",
      "Epoch 94/150\n",
      "34924/34924 [==============================] - 5s 139us/sample - loss: 55.4797 - mae: 55.4797 - val_loss: 56.5173 - val_mae: 56.5173\n",
      "Epoch 95/150\n",
      "34924/34924 [==============================] - 5s 137us/sample - loss: 55.4740 - mae: 55.4740 - val_loss: 56.5121 - val_mae: 56.5121\n",
      "Epoch 96/150\n",
      "34924/34924 [==============================] - 5s 138us/sample - loss: 55.4680 - mae: 55.4680 - val_loss: 56.5052 - val_mae: 56.5052\n",
      "Epoch 97/150\n",
      "34924/34924 [==============================] - 5s 139us/sample - loss: 55.4616 - mae: 55.4616 - val_loss: 56.5007 - val_mae: 56.5007\n",
      "Epoch 98/150\n",
      "34924/34924 [==============================] - 5s 139us/sample - loss: 55.4555 - mae: 55.4555 - val_loss: 56.4962 - val_mae: 56.4962\n",
      "Epoch 99/150\n",
      "34924/34924 [==============================] - 5s 138us/sample - loss: 55.4494 - mae: 55.4494 - val_loss: 56.4907 - val_mae: 56.4907\n",
      "Epoch 100/150\n",
      "34924/34924 [==============================] - 5s 138us/sample - loss: 55.4450 - mae: 55.4449 - val_loss: 56.4843 - val_mae: 56.4843\n",
      "Epoch 101/150\n",
      "34924/34924 [==============================] - 5s 139us/sample - loss: 55.4377 - mae: 55.4378 - val_loss: 56.4820 - val_mae: 56.4820\n",
      "Epoch 102/150\n",
      "34924/34924 [==============================] - 5s 140us/sample - loss: 55.4327 - mae: 55.4327 - val_loss: 56.4749 - val_mae: 56.4749\n",
      "Epoch 103/150\n",
      "34924/34924 [==============================] - 5s 139us/sample - loss: 55.4265 - mae: 55.4265 - val_loss: 56.4713 - val_mae: 56.4713\n",
      "Epoch 104/150\n",
      "34924/34924 [==============================] - 5s 141us/sample - loss: 55.4222 - mae: 55.4222 - val_loss: 56.4649 - val_mae: 56.4650\n",
      "Epoch 105/150\n",
      "34924/34924 [==============================] - 5s 139us/sample - loss: 55.4158 - mae: 55.4158 - val_loss: 56.4605 - val_mae: 56.4605\n",
      "Epoch 106/150\n",
      "34924/34924 [==============================] - 5s 139us/sample - loss: 55.4110 - mae: 55.4109 - val_loss: 56.4549 - val_mae: 56.4549\n",
      "Epoch 107/150\n",
      "34924/34924 [==============================] - 5s 140us/sample - loss: 55.4046 - mae: 55.4046 - val_loss: 56.4525 - val_mae: 56.4525\n",
      "Epoch 108/150\n",
      "34924/34924 [==============================] - 5s 141us/sample - loss: 55.4004 - mae: 55.4003 - val_loss: 56.4464 - val_mae: 56.4464\n",
      "Epoch 109/150\n",
      "34924/34924 [==============================] - 5s 140us/sample - loss: 55.3941 - mae: 55.3941 - val_loss: 56.4437 - val_mae: 56.4437\n",
      "Epoch 110/150\n",
      "34924/34924 [==============================] - 5s 139us/sample - loss: 55.3903 - mae: 55.3902 - val_loss: 56.4377 - val_mae: 56.4378\n",
      "Epoch 111/150\n",
      "34924/34924 [==============================] - 5s 140us/sample - loss: 55.3854 - mae: 55.3854 - val_loss: 56.4330 - val_mae: 56.4330\n",
      "Epoch 112/150\n",
      "34924/34924 [==============================] - 5s 141us/sample - loss: 55.3810 - mae: 55.3810 - val_loss: 56.4294 - val_mae: 56.4294\n",
      "Epoch 113/150\n"
     ]
    },
    {
     "name": "stdout",
     "output_type": "stream",
     "text": [
      "34924/34924 [==============================] - 5s 140us/sample - loss: 55.3754 - mae: 55.3754 - val_loss: 56.4254 - val_mae: 56.4254\n",
      "Epoch 114/150\n",
      "34924/34924 [==============================] - 5s 139us/sample - loss: 55.3707 - mae: 55.3707 - val_loss: 56.4203 - val_mae: 56.4203\n",
      "Epoch 115/150\n",
      "34924/34924 [==============================] - 5s 139us/sample - loss: 55.3653 - mae: 55.3653 - val_loss: 56.4157 - val_mae: 56.4157\n",
      "Epoch 116/150\n",
      "34924/34924 [==============================] - 5s 141us/sample - loss: 55.3606 - mae: 55.3605 - val_loss: 56.4110 - val_mae: 56.4110\n",
      "Epoch 117/150\n",
      "34924/34924 [==============================] - 5s 139us/sample - loss: 55.3560 - mae: 55.3560 - val_loss: 56.4096 - val_mae: 56.4096\n",
      "Epoch 118/150\n",
      "34924/34924 [==============================] - 5s 141us/sample - loss: 55.3516 - mae: 55.3516 - val_loss: 56.4041 - val_mae: 56.4041\n",
      "Epoch 119/150\n",
      "34924/34924 [==============================] - 5s 140us/sample - loss: 55.3471 - mae: 55.3470 - val_loss: 56.4015 - val_mae: 56.4015\n",
      "Epoch 120/150\n",
      "34924/34924 [==============================] - 5s 140us/sample - loss: 55.3424 - mae: 55.3424 - val_loss: 56.3967 - val_mae: 56.3967\n",
      "Epoch 121/150\n",
      "34924/34924 [==============================] - 5s 139us/sample - loss: 55.3385 - mae: 55.3385 - val_loss: 56.3942 - val_mae: 56.3942\n",
      "Epoch 122/150\n",
      "34924/34924 [==============================] - 5s 140us/sample - loss: 55.3342 - mae: 55.3342 - val_loss: 56.3893 - val_mae: 56.3893\n",
      "Epoch 123/150\n",
      "34924/34924 [==============================] - 5s 141us/sample - loss: 55.3298 - mae: 55.3298 - val_loss: 56.3857 - val_mae: 56.3857\n",
      "Epoch 124/150\n",
      "34924/34924 [==============================] - 5s 140us/sample - loss: 55.3257 - mae: 55.3257 - val_loss: 56.3799 - val_mae: 56.3799\n",
      "Epoch 125/150\n",
      "34924/34924 [==============================] - 5s 140us/sample - loss: 55.3208 - mae: 55.3208 - val_loss: 56.3765 - val_mae: 56.3765\n",
      "Epoch 126/150\n",
      "34924/34924 [==============================] - 5s 140us/sample - loss: 55.3169 - mae: 55.3169 - val_loss: 56.3723 - val_mae: 56.3722\n",
      "Epoch 127/150\n",
      "34924/34924 [==============================] - 5s 139us/sample - loss: 55.3123 - mae: 55.3123 - val_loss: 56.3691 - val_mae: 56.3691\n",
      "Epoch 128/150\n",
      "34924/34924 [==============================] - 5s 140us/sample - loss: 55.3079 - mae: 55.3079 - val_loss: 56.3645 - val_mae: 56.3645\n",
      "Epoch 129/150\n",
      "34924/34924 [==============================] - 5s 140us/sample - loss: 55.3053 - mae: 55.3053 - val_loss: 56.3608 - val_mae: 56.3608\n",
      "Epoch 130/150\n",
      "34924/34924 [==============================] - 5s 140us/sample - loss: 55.3007 - mae: 55.3007 - val_loss: 56.3568 - val_mae: 56.3568\n",
      "Epoch 131/150\n",
      "34924/34924 [==============================] - 5s 140us/sample - loss: 55.2963 - mae: 55.2963 - val_loss: 56.3543 - val_mae: 56.3543\n",
      "Epoch 132/150\n",
      "34924/34924 [==============================] - 5s 140us/sample - loss: 55.2928 - mae: 55.2928 - val_loss: 56.3531 - val_mae: 56.3531\n",
      "Epoch 133/150\n",
      "34924/34924 [==============================] - 5s 139us/sample - loss: 55.2886 - mae: 55.2886 - val_loss: 56.3473 - val_mae: 56.3473\n",
      "Epoch 134/150\n",
      "34924/34924 [==============================] - 5s 140us/sample - loss: 55.2844 - mae: 55.2844 - val_loss: 56.3431 - val_mae: 56.3431\n",
      "Epoch 135/150\n",
      "34924/34924 [==============================] - 5s 141us/sample - loss: 55.2799 - mae: 55.2799 - val_loss: 56.3389 - val_mae: 56.3389\n",
      "Epoch 136/150\n",
      "34924/34924 [==============================] - 5s 140us/sample - loss: 55.2771 - mae: 55.2771 - val_loss: 56.3359 - val_mae: 56.3359\n",
      "Epoch 137/150\n",
      "34924/34924 [==============================] - 5s 139us/sample - loss: 55.2729 - mae: 55.2729 - val_loss: 56.3320 - val_mae: 56.3320\n",
      "Epoch 138/150\n",
      "34924/34924 [==============================] - 5s 142us/sample - loss: 55.2689 - mae: 55.2690 - val_loss: 56.3279 - val_mae: 56.3279\n",
      "Epoch 139/150\n",
      "34924/34924 [==============================] - 5s 143us/sample - loss: 55.2657 - mae: 55.2657 - val_loss: 56.3242 - val_mae: 56.3242\n",
      "Epoch 140/150\n",
      "34924/34924 [==============================] - 5s 145us/sample - loss: 55.2605 - mae: 55.2605 - val_loss: 56.3218 - val_mae: 56.3218\n",
      "Epoch 141/150\n",
      "34924/34924 [==============================] - 5s 148us/sample - loss: 55.2573 - mae: 55.2573 - val_loss: 56.3158 - val_mae: 56.3158\n",
      "Epoch 142/150\n",
      "34924/34924 [==============================] - 5s 146us/sample - loss: 55.2506 - mae: 55.2506 - val_loss: 56.3174 - val_mae: 56.3174\n",
      "Epoch 143/150\n",
      "34924/34924 [==============================] - 5s 148us/sample - loss: 55.2494 - mae: 55.2494 - val_loss: 56.3077 - val_mae: 56.3077\n",
      "Epoch 144/150\n",
      "34924/34924 [==============================] - 5s 148us/sample - loss: 55.2450 - mae: 55.2450 - val_loss: 56.3041 - val_mae: 56.3041\n",
      "Epoch 145/150\n",
      "34924/34924 [==============================] - 5s 148us/sample - loss: 55.2405 - mae: 55.2405 - val_loss: 56.3025 - val_mae: 56.3025\n",
      "Epoch 146/150\n",
      "34924/34924 [==============================] - 5s 148us/sample - loss: 55.2373 - mae: 55.2373 - val_loss: 56.2988 - val_mae: 56.2988\n",
      "Epoch 147/150\n",
      "34924/34924 [==============================] - 5s 147us/sample - loss: 55.2326 - mae: 55.2326 - val_loss: 56.2942 - val_mae: 56.2942\n",
      "Epoch 148/150\n",
      "34924/34924 [==============================] - 5s 148us/sample - loss: 55.2293 - mae: 55.2293 - val_loss: 56.2898 - val_mae: 56.2898\n",
      "Epoch 149/150\n",
      "34924/34924 [==============================] - 5s 146us/sample - loss: 55.2249 - mae: 55.2248 - val_loss: 56.2857 - val_mae: 56.2857\n",
      "Epoch 150/150\n",
      "34924/34924 [==============================] - 5s 148us/sample - loss: 55.2200 - mae: 55.2200 - val_loss: 56.2821 - val_mae: 56.2821\n"
     ]
    }
   ],
   "source": [
    "history = model.fit(train_x, train_y,\n",
    "                   batch_size=batch_size,\n",
    "                   epochs=150,\n",
    "                   callbacks=[lr_reduce],\n",
    "                   validation_data=(test_x, test_y))"
   ]
  },
  {
   "cell_type": "code",
   "execution_count": 54,
   "metadata": {},
   "outputs": [
    {
     "data": {
      "text/plain": [
       "<matplotlib.legend.Legend at 0x2250897f1d0>"
      ]
     },
     "execution_count": 54,
     "metadata": {},
     "output_type": "execute_result"
    },
    {
     "data": {
      "image/png": "[encoded data removed]",
      "text/plain": [
       "<Figure size 432x288 with 1 Axes>"
      ]
     },
     "metadata": {
      "needs_background": "light"
     },
     "output_type": "display_data"
    }
   ],
   "source": [
    "plt.plot(history.epoch, history.history.get('loss'), 'y', label='Training loss')\n",
    "plt.plot(history.epoch, history.history.get('val_loss'), 'b', label='Test loss')\n",
    "plt.legend()"
   ]
  },
  {
   "cell_type": "code",
   "execution_count": null,
   "metadata": {},
   "outputs": [],
   "source": []
  }
 ],
 "metadata": {
  "kernelspec": {
   "display_name": "Python 3",
   "language": "python",
   "name": "python3"
  },
  "language_info": {
   "codemirror_mode": {
    "name": "ipython",
    "version": 3
   },
   "file_extension": ".py",
   "mimetype": "text/x-python",
   "name": "python",
   "nbconvert_exporter": "python",
   "pygments_lexer": "ipython3",
   "version": "3.7.3"
  }
 },
 "nbformat": 4,
 "nbformat_minor": 2
}
