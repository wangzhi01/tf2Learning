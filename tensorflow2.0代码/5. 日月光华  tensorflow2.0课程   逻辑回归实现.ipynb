{
 "cells": [
  {
   "cell_type": "code",
   "execution_count": 1,
   "metadata": {},
   "outputs": [],
   "source": [
    "import tensorflow as tf"
   ]
  },
  {
   "cell_type": "code",
   "execution_count": 2,
   "metadata": {},
   "outputs": [
    {
     "name": "stdout",
     "output_type": "stream",
     "text": [
      "Tensorflow Version: 2.0.0-beta0\n"
     ]
    }
   ],
   "source": [
    "print('Tensorflow Version: {}'.format(tf.__version__))"
   ]
  },
  {
   "cell_type": "code",
   "execution_count": 3,
   "metadata": {},
   "outputs": [],
   "source": [
    "import pandas as pd\n",
    "import numpy as np\n",
    "import matplotlib.pyplot as plt\n",
    "%matplotlib inline"
   ]
  },
  {
   "cell_type": "code",
   "execution_count": 5,
   "metadata": {},
   "outputs": [],
   "source": [
    "data = pd.read_csv('../dataset/credit-a.csv', header=None)"
   ]
  },
  {
   "cell_type": "code",
   "execution_count": 6,
   "metadata": {},
   "outputs": [
    {
     "data": {
      "text/html": [
       "<div>\n",
       "<style scoped>\n",
       "    .dataframe tbody tr th:only-of-type {\n",
       "        vertical-align: middle;\n",
       "    }\n",
       "\n",
       "    .dataframe tbody tr th {\n",
       "        vertical-align: top;\n",
       "    }\n",
       "\n",
       "    .dataframe thead th {\n",
       "        text-align: right;\n",
       "    }\n",
       "</style>\n",
       "<table border=\"1\" class=\"dataframe\">\n",
       "  <thead>\n",
       "    <tr style=\"text-align: right;\">\n",
       "      <th></th>\n",
       "      <th>0</th>\n",
       "      <th>1</th>\n",
       "      <th>2</th>\n",
       "      <th>3</th>\n",
       "      <th>4</th>\n",
       "      <th>5</th>\n",
       "      <th>6</th>\n",
       "      <th>7</th>\n",
       "      <th>8</th>\n",
       "      <th>9</th>\n",
       "      <th>10</th>\n",
       "      <th>11</th>\n",
       "      <th>12</th>\n",
       "      <th>13</th>\n",
       "      <th>14</th>\n",
       "      <th>15</th>\n",
       "    </tr>\n",
       "  </thead>\n",
       "  <tbody>\n",
       "    <tr>\n",
       "      <th>0</th>\n",
       "      <td>0</td>\n",
       "      <td>30.83</td>\n",
       "      <td>0.000</td>\n",
       "      <td>0</td>\n",
       "      <td>0</td>\n",
       "      <td>9</td>\n",
       "      <td>0</td>\n",
       "      <td>1.25</td>\n",
       "      <td>0</td>\n",
       "      <td>0</td>\n",
       "      <td>1</td>\n",
       "      <td>1</td>\n",
       "      <td>0</td>\n",
       "      <td>202</td>\n",
       "      <td>0.0</td>\n",
       "      <td>-1</td>\n",
       "    </tr>\n",
       "    <tr>\n",
       "      <th>1</th>\n",
       "      <td>1</td>\n",
       "      <td>58.67</td>\n",
       "      <td>4.460</td>\n",
       "      <td>0</td>\n",
       "      <td>0</td>\n",
       "      <td>8</td>\n",
       "      <td>1</td>\n",
       "      <td>3.04</td>\n",
       "      <td>0</td>\n",
       "      <td>0</td>\n",
       "      <td>6</td>\n",
       "      <td>1</td>\n",
       "      <td>0</td>\n",
       "      <td>43</td>\n",
       "      <td>560.0</td>\n",
       "      <td>-1</td>\n",
       "    </tr>\n",
       "    <tr>\n",
       "      <th>2</th>\n",
       "      <td>1</td>\n",
       "      <td>24.50</td>\n",
       "      <td>0.500</td>\n",
       "      <td>0</td>\n",
       "      <td>0</td>\n",
       "      <td>8</td>\n",
       "      <td>1</td>\n",
       "      <td>1.50</td>\n",
       "      <td>0</td>\n",
       "      <td>1</td>\n",
       "      <td>0</td>\n",
       "      <td>1</td>\n",
       "      <td>0</td>\n",
       "      <td>280</td>\n",
       "      <td>824.0</td>\n",
       "      <td>-1</td>\n",
       "    </tr>\n",
       "    <tr>\n",
       "      <th>3</th>\n",
       "      <td>0</td>\n",
       "      <td>27.83</td>\n",
       "      <td>1.540</td>\n",
       "      <td>0</td>\n",
       "      <td>0</td>\n",
       "      <td>9</td>\n",
       "      <td>0</td>\n",
       "      <td>3.75</td>\n",
       "      <td>0</td>\n",
       "      <td>0</td>\n",
       "      <td>5</td>\n",
       "      <td>0</td>\n",
       "      <td>0</td>\n",
       "      <td>100</td>\n",
       "      <td>3.0</td>\n",
       "      <td>-1</td>\n",
       "    </tr>\n",
       "    <tr>\n",
       "      <th>4</th>\n",
       "      <td>0</td>\n",
       "      <td>20.17</td>\n",
       "      <td>5.625</td>\n",
       "      <td>0</td>\n",
       "      <td>0</td>\n",
       "      <td>9</td>\n",
       "      <td>0</td>\n",
       "      <td>1.71</td>\n",
       "      <td>0</td>\n",
       "      <td>1</td>\n",
       "      <td>0</td>\n",
       "      <td>1</td>\n",
       "      <td>2</td>\n",
       "      <td>120</td>\n",
       "      <td>0.0</td>\n",
       "      <td>-1</td>\n",
       "    </tr>\n",
       "  </tbody>\n",
       "</table>\n",
       "</div>"
      ],
      "text/plain": [
       "   0      1      2   3   4   5   6     7   8   9   10  11  12   13     14  15\n",
       "0   0  30.83  0.000   0   0   9   0  1.25   0   0   1   1   0  202    0.0  -1\n",
       "1   1  58.67  4.460   0   0   8   1  3.04   0   0   6   1   0   43  560.0  -1\n",
       "2   1  24.50  0.500   0   0   8   1  1.50   0   1   0   1   0  280  824.0  -1\n",
       "3   0  27.83  1.540   0   0   9   0  3.75   0   0   5   0   0  100    3.0  -1\n",
       "4   0  20.17  5.625   0   0   9   0  1.71   0   1   0   1   2  120    0.0  -1"
      ]
     },
     "execution_count": 6,
     "metadata": {},
     "output_type": "execute_result"
    }
   ],
   "source": [
    "data.head()"
   ]
  },
  {
   "cell_type": "code",
   "execution_count": 7,
   "metadata": {},
   "outputs": [
    {
     "data": {
      "text/plain": [
       " 1    357\n",
       "-1    296\n",
       "Name: 15, dtype: int64"
      ]
     },
     "execution_count": 7,
     "metadata": {},
     "output_type": "execute_result"
    }
   ],
   "source": [
    "data.iloc[:, -1].value_counts()"
   ]
  },
  {
   "cell_type": "code",
   "execution_count": 8,
   "metadata": {},
   "outputs": [],
   "source": [
    "x = data.iloc[:, :-1]\n",
    "y = data.iloc[:, -1].replace(-1, 0)"
   ]
  },
  {
   "cell_type": "code",
   "execution_count": 9,
   "metadata": {},
   "outputs": [],
   "source": [
    "model = tf.keras.Sequential()"
   ]
  },
  {
   "cell_type": "code",
   "execution_count": 10,
   "metadata": {},
   "outputs": [],
   "source": [
    "model.add(tf.keras.layers.Dense(4, input_shape=(15,), activation='relu'))\n",
    "model.add(tf.keras.layers.Dense(4, activation='relu'))\n",
    "model.add(tf.keras.layers.Dense(1, activation='sigmoid'))"
   ]
  },
  {
   "cell_type": "code",
   "execution_count": 17,
   "metadata": {},
   "outputs": [
    {
     "name": "stdout",
     "output_type": "stream",
     "text": [
      "Model: \"sequential\"\n",
      "_________________________________________________________________\n",
      "Layer (type)                 Output Shape              Param #   \n",
      "=================================================================\n",
      "dense (Dense)                (None, 4)                 64        \n",
      "_________________________________________________________________\n",
      "dense_1 (Dense)              (None, 4)                 20        \n",
      "_________________________________________________________________\n",
      "dense_2 (Dense)              (None, 1)                 5         \n",
      "=================================================================\n",
      "Total params: 89\n",
      "Trainable params: 89\n",
      "Non-trainable params: 0\n",
      "_________________________________________________________________\n"
     ]
    }
   ],
   "source": [
    "model.summary()"
   ]
  },
  {
   "cell_type": "code",
   "execution_count": 12,
   "metadata": {},
   "outputs": [],
   "source": [
    "model.compile(optimizer='adam',\n",
    "              loss='binary_crossentropy',\n",
    "              metrics=['acc']\n",
    ")"
   ]
  },
  {
   "cell_type": "code",
   "execution_count": 13,
   "metadata": {},
   "outputs": [
    {
     "name": "stderr",
     "output_type": "stream",
     "text": [
      "WARNING: Logging before flag parsing goes to stderr.\n",
      "W0712 16:03:40.639594  4752 deprecation.py:323] From d:\\python\\anaconda3\\lib\\site-packages\\tensorflow\\python\\ops\\math_grad.py:1250: add_dispatch_support.<locals>.wrapper (from tensorflow.python.ops.array_ops) is deprecated and will be removed in a future version.\n",
      "Instructions for updating:\n",
      "Use tf.where in 2.0, which has the same broadcast rule as np.where\n"
     ]
    },
    {
     "name": "stdout",
     "output_type": "stream",
     "text": [
      "Train on 653 samples\n",
      "Epoch 1/100\n",
      "653/653 [==============================] - 0s 677us/sample - loss: 2.3632 - acc: 0.4701\n",
      "Epoch 2/100\n",
      "653/653 [==============================] - 0s 67us/sample - loss: 1.6713 - acc: 0.4870\n",
      "Epoch 3/100\n",
      "653/653 [==============================] - 0s 58us/sample - loss: 1.3014 - acc: 0.6815\n",
      "Epoch 4/100\n",
      "653/653 [==============================] - 0s 61us/sample - loss: 1.0422 - acc: 0.6769\n",
      "Epoch 5/100\n",
      "653/653 [==============================] - 0s 58us/sample - loss: 0.7431 - acc: 0.6753\n",
      "Epoch 6/100\n",
      "653/653 [==============================] - 0s 58us/sample - loss: 0.6624 - acc: 0.6631\n",
      "Epoch 7/100\n",
      "653/653 [==============================] - 0s 57us/sample - loss: 0.6399 - acc: 0.6753\n",
      "Epoch 8/100\n",
      "653/653 [==============================] - 0s 61us/sample - loss: 0.6236 - acc: 0.6692\n",
      "Epoch 9/100\n",
      "653/653 [==============================] - 0s 64us/sample - loss: 0.6206 - acc: 0.6600\n",
      "Epoch 10/100\n",
      "653/653 [==============================] - 0s 69us/sample - loss: 0.6263 - acc: 0.6708\n",
      "Epoch 11/100\n",
      "653/653 [==============================] - 0s 61us/sample - loss: 0.6217 - acc: 0.6600\n",
      "Epoch 12/100\n",
      "653/653 [==============================] - 0s 63us/sample - loss: 0.6200 - acc: 0.6646\n",
      "Epoch 13/100\n",
      "653/653 [==============================] - 0s 60us/sample - loss: 0.6201 - acc: 0.6631\n",
      "Epoch 14/100\n",
      "653/653 [==============================] - 0s 64us/sample - loss: 0.6179 - acc: 0.6631\n",
      "Epoch 15/100\n",
      "653/653 [==============================] - 0s 60us/sample - loss: 0.6170 - acc: 0.6738\n",
      "Epoch 16/100\n",
      "653/653 [==============================] - 0s 60us/sample - loss: 0.6220 - acc: 0.6631\n",
      "Epoch 17/100\n",
      "653/653 [==============================] - 0s 57us/sample - loss: 0.6207 - acc: 0.6708\n",
      "Epoch 18/100\n",
      "653/653 [==============================] - 0s 57us/sample - loss: 0.6150 - acc: 0.6646\n",
      "Epoch 19/100\n",
      "653/653 [==============================] - 0s 60us/sample - loss: 0.6165 - acc: 0.6677\n",
      "Epoch 20/100\n",
      "653/653 [==============================] - 0s 57us/sample - loss: 0.6140 - acc: 0.6692\n",
      "Epoch 21/100\n",
      "653/653 [==============================] - 0s 63us/sample - loss: 0.6147 - acc: 0.6708\n",
      "Epoch 22/100\n",
      "653/653 [==============================] - 0s 58us/sample - loss: 0.6125 - acc: 0.6447\n",
      "Epoch 23/100\n",
      "653/653 [==============================] - 0s 64us/sample - loss: 0.6269 - acc: 0.6708\n",
      "Epoch 24/100\n",
      "653/653 [==============================] - 0s 61us/sample - loss: 0.6274 - acc: 0.6539\n",
      "Epoch 25/100\n",
      "653/653 [==============================] - 0s 61us/sample - loss: 0.6155 - acc: 0.6662\n",
      "Epoch 26/100\n",
      "653/653 [==============================] - 0s 55us/sample - loss: 0.6149 - acc: 0.6646\n",
      "Epoch 27/100\n",
      "653/653 [==============================] - 0s 61us/sample - loss: 0.6129 - acc: 0.6677\n",
      "Epoch 28/100\n",
      "653/653 [==============================] - 0s 57us/sample - loss: 0.6116 - acc: 0.6585\n",
      "Epoch 29/100\n",
      "653/653 [==============================] - 0s 61us/sample - loss: 0.6181 - acc: 0.6677\n",
      "Epoch 30/100\n",
      "653/653 [==============================] - 0s 53us/sample - loss: 0.6108 - acc: 0.6616\n",
      "Epoch 31/100\n",
      "653/653 [==============================] - 0s 57us/sample - loss: 0.6116 - acc: 0.6692\n",
      "Epoch 32/100\n",
      "653/653 [==============================] - ETA: 0s - loss: 0.5424 - acc: 0.750 - 0s 63us/sample - loss: 0.6119 - acc: 0.6646\n",
      "Epoch 33/100\n",
      "653/653 [==============================] - 0s 64us/sample - loss: 0.6121 - acc: 0.6662\n",
      "Epoch 34/100\n",
      "653/653 [==============================] - 0s 61us/sample - loss: 0.6124 - acc: 0.6600\n",
      "Epoch 35/100\n",
      "653/653 [==============================] - 0s 60us/sample - loss: 0.6104 - acc: 0.6677\n",
      "Epoch 36/100\n",
      "653/653 [==============================] - 0s 64us/sample - loss: 0.6129 - acc: 0.6585\n",
      "Epoch 37/100\n",
      "653/653 [==============================] - 0s 57us/sample - loss: 0.6094 - acc: 0.6662\n",
      "Epoch 38/100\n",
      "653/653 [==============================] - 0s 60us/sample - loss: 0.6102 - acc: 0.6646\n",
      "Epoch 39/100\n",
      "653/653 [==============================] - 0s 58us/sample - loss: 0.6148 - acc: 0.6616\n",
      "Epoch 40/100\n",
      "653/653 [==============================] - 0s 58us/sample - loss: 0.6059 - acc: 0.6585\n",
      "Epoch 41/100\n",
      "653/653 [==============================] - 0s 58us/sample - loss: 0.6083 - acc: 0.6723\n",
      "Epoch 42/100\n",
      "653/653 [==============================] - 0s 57us/sample - loss: 0.6070 - acc: 0.6708\n",
      "Epoch 43/100\n",
      "653/653 [==============================] - 0s 56us/sample - loss: 0.6069 - acc: 0.6708\n",
      "Epoch 44/100\n",
      "653/653 [==============================] - 0s 61us/sample - loss: 0.6055 - acc: 0.6662\n",
      "Epoch 45/100\n",
      "653/653 [==============================] - 0s 58us/sample - loss: 0.6067 - acc: 0.6738\n",
      "Epoch 46/100\n",
      "653/653 [==============================] - 0s 61us/sample - loss: 0.6080 - acc: 0.6753\n",
      "Epoch 47/100\n",
      "653/653 [==============================] - 0s 53us/sample - loss: 0.6066 - acc: 0.6692\n",
      "Epoch 48/100\n",
      "653/653 [==============================] - 0s 58us/sample - loss: 0.6040 - acc: 0.6708\n",
      "Epoch 49/100\n",
      "653/653 [==============================] - 0s 58us/sample - loss: 0.6069 - acc: 0.6753\n",
      "Epoch 50/100\n",
      "653/653 [==============================] - 0s 53us/sample - loss: 0.6054 - acc: 0.6738\n",
      "Epoch 51/100\n",
      "653/653 [==============================] - 0s 54us/sample - loss: 0.6165 - acc: 0.6784\n",
      "Epoch 52/100\n",
      "653/653 [==============================] - 0s 58us/sample - loss: 0.6070 - acc: 0.6723\n",
      "Epoch 53/100\n",
      "653/653 [==============================] - 0s 57us/sample - loss: 0.6018 - acc: 0.6753\n",
      "Epoch 54/100\n",
      "653/653 [==============================] - 0s 58us/sample - loss: 0.6027 - acc: 0.6784\n",
      "Epoch 55/100\n",
      "653/653 [==============================] - 0s 58us/sample - loss: 0.6046 - acc: 0.6830\n",
      "Epoch 56/100\n",
      "653/653 [==============================] - 0s 57us/sample - loss: 0.6022 - acc: 0.6784\n",
      "Epoch 57/100\n",
      "653/653 [==============================] - 0s 55us/sample - loss: 0.6032 - acc: 0.6769\n",
      "Epoch 58/100\n",
      "653/653 [==============================] - 0s 55us/sample - loss: 0.6012 - acc: 0.6799\n",
      "Epoch 59/100\n",
      "653/653 [==============================] - 0s 57us/sample - loss: 0.6029 - acc: 0.6769\n",
      "Epoch 60/100\n",
      "653/653 [==============================] - 0s 58us/sample - loss: 0.6041 - acc: 0.6830\n",
      "Epoch 61/100\n",
      "653/653 [==============================] - 0s 54us/sample - loss: 0.6058 - acc: 0.6708\n",
      "Epoch 62/100\n",
      "653/653 [==============================] - 0s 61us/sample - loss: 0.6033 - acc: 0.6845\n",
      "Epoch 63/100\n",
      "653/653 [==============================] - 0s 61us/sample - loss: 0.6005 - acc: 0.6769\n",
      "Epoch 64/100\n",
      "653/653 [==============================] - 0s 60us/sample - loss: 0.6007 - acc: 0.6815\n",
      "Epoch 65/100\n",
      "653/653 [==============================] - 0s 58us/sample - loss: 0.6015 - acc: 0.6738\n",
      "Epoch 66/100\n",
      "653/653 [==============================] - 0s 58us/sample - loss: 0.6037 - acc: 0.6723\n",
      "Epoch 67/100\n",
      "653/653 [==============================] - 0s 60us/sample - loss: 0.6000 - acc: 0.6723\n",
      "Epoch 68/100\n",
      "653/653 [==============================] - 0s 57us/sample - loss: 0.6032 - acc: 0.6723\n",
      "Epoch 69/100\n",
      "653/653 [==============================] - 0s 57us/sample - loss: 0.6051 - acc: 0.6723\n",
      "Epoch 70/100\n",
      "653/653 [==============================] - 0s 58us/sample - loss: 0.6018 - acc: 0.6708\n",
      "Epoch 71/100\n",
      "653/653 [==============================] - 0s 62us/sample - loss: 0.6010 - acc: 0.6708\n",
      "Epoch 72/100\n",
      "653/653 [==============================] - 0s 58us/sample - loss: 0.5982 - acc: 0.6723\n",
      "Epoch 73/100\n",
      "653/653 [==============================] - 0s 57us/sample - loss: 0.5980 - acc: 0.6723\n",
      "Epoch 74/100\n",
      "653/653 [==============================] - 0s 58us/sample - loss: 0.5980 - acc: 0.6723\n",
      "Epoch 75/100\n",
      "653/653 [==============================] - 0s 57us/sample - loss: 0.6066 - acc: 0.6723\n",
      "Epoch 76/100\n",
      "653/653 [==============================] - 0s 60us/sample - loss: 0.5971 - acc: 0.6723\n",
      "Epoch 77/100\n",
      "653/653 [==============================] - 0s 60us/sample - loss: 0.5961 - acc: 0.6723\n",
      "Epoch 78/100\n",
      "653/653 [==============================] - 0s 61us/sample - loss: 0.5954 - acc: 0.6723\n",
      "Epoch 79/100\n",
      "653/653 [==============================] - 0s 63us/sample - loss: 0.5980 - acc: 0.6708\n",
      "Epoch 80/100\n",
      "653/653 [==============================] - 0s 57us/sample - loss: 0.5973 - acc: 0.6692\n",
      "Epoch 81/100\n",
      "653/653 [==============================] - 0s 57us/sample - loss: 0.5931 - acc: 0.6708\n",
      "Epoch 82/100\n",
      "653/653 [==============================] - 0s 58us/sample - loss: 0.5923 - acc: 0.6723\n",
      "Epoch 83/100\n",
      "653/653 [==============================] - 0s 53us/sample - loss: 0.5933 - acc: 0.6723\n",
      "Epoch 84/100\n",
      "653/653 [==============================] - 0s 55us/sample - loss: 0.5930 - acc: 0.6677\n",
      "Epoch 85/100\n",
      "653/653 [==============================] - 0s 60us/sample - loss: 0.5942 - acc: 0.6692\n",
      "Epoch 86/100\n",
      "653/653 [==============================] - 0s 57us/sample - loss: 0.5920 - acc: 0.6692\n",
      "Epoch 87/100\n",
      "653/653 [==============================] - 0s 53us/sample - loss: 0.5901 - acc: 0.6692\n",
      "Epoch 88/100\n",
      "653/653 [==============================] - 0s 57us/sample - loss: 0.5892 - acc: 0.6692\n",
      "Epoch 89/100\n",
      "653/653 [==============================] - 0s 55us/sample - loss: 0.5869 - acc: 0.6738\n",
      "Epoch 90/100\n",
      "653/653 [==============================] - 0s 55us/sample - loss: 0.5876 - acc: 0.6692\n",
      "Epoch 91/100\n",
      "653/653 [==============================] - 0s 60us/sample - loss: 0.5864 - acc: 0.6708\n",
      "Epoch 92/100\n",
      "653/653 [==============================] - 0s 66us/sample - loss: 0.5866 - acc: 0.6753\n",
      "Epoch 93/100\n",
      "653/653 [==============================] - 0s 61us/sample - loss: 0.5857 - acc: 0.6723\n",
      "Epoch 94/100\n",
      "653/653 [==============================] - 0s 64us/sample - loss: 0.5854 - acc: 0.6723\n",
      "Epoch 95/100\n",
      "653/653 [==============================] - 0s 60us/sample - loss: 0.5850 - acc: 0.6738\n",
      "Epoch 96/100\n",
      "653/653 [==============================] - 0s 60us/sample - loss: 0.5853 - acc: 0.6738\n",
      "Epoch 97/100\n",
      "653/653 [==============================] - 0s 57us/sample - loss: 0.5852 - acc: 0.6738\n",
      "Epoch 98/100\n",
      "653/653 [==============================] - 0s 60us/sample - loss: 0.5845 - acc: 0.6708\n",
      "Epoch 99/100\n",
      "653/653 [==============================] - 0s 60us/sample - loss: 0.5831 - acc: 0.6723\n",
      "Epoch 100/100\n",
      "653/653 [==============================] - 0s 114us/sample - loss: 0.5839 - acc: 0.6692\n"
     ]
    }
   ],
   "source": [
    "history = model.fit(x, y, epochs=100)"
   ]
  },
  {
   "cell_type": "code",
   "execution_count": 14,
   "metadata": {},
   "outputs": [
    {
     "data": {
      "text/plain": [
       "dict_keys(['loss', 'acc'])"
      ]
     },
     "execution_count": 14,
     "metadata": {},
     "output_type": "execute_result"
    }
   ],
   "source": [
    "history.history.keys()"
   ]
  },
  {
   "cell_type": "code",
   "execution_count": 15,
   "metadata": {},
   "outputs": [
    {
     "data": {
      "text/plain": [
       "[<matplotlib.lines.Line2D at 0x1f16b34a208>]"
      ]
     },
     "execution_count": 15,
     "metadata": {},
     "output_type": "execute_result"
    },
    {
     "data": {
      "image/png": "[encoded data removed]",
      "text/plain": [
       "<Figure size 432x288 with 1 Axes>"
      ]
     },
     "metadata": {
      "needs_background": "light"
     },
     "output_type": "display_data"
    }
   ],
   "source": [
    "plt.plot(history.epoch, history.history.get('loss'))"
   ]
  },
  {
   "cell_type": "code",
   "execution_count": 16,
   "metadata": {},
   "outputs": [
    {
     "data": {
      "text/plain": [
       "[<matplotlib.lines.Line2D at 0x1f16b3ed470>]"
      ]
     },
     "execution_count": 16,
     "metadata": {},
     "output_type": "execute_result"
    },
    {
     "data": {
      "image/png": "[encoded data removed]",
      "text/plain": [
       "<Figure size 432x288 with 1 Axes>"
      ]
     },
     "metadata": {
      "needs_background": "light"
     },
     "output_type": "display_data"
    }
   ],
   "source": [
    "plt.plot(history.epoch, history.history.get('acc'))"
   ]
  },
  {
   "cell_type": "code",
   "execution_count": null,
   "metadata": {},
   "outputs": [],
   "source": []
  }
 ],
 "metadata": {
  "kernelspec": {
   "display_name": "Python 3",
   "language": "python",
   "name": "python3"
  },
  "language_info": {
   "codemirror_mode": {
    "name": "ipython",
    "version": 3
   },
   "file_extension": ".py",
   "mimetype": "text/x-python",
   "name": "python",
   "nbconvert_exporter": "python",
   "pygments_lexer": "ipython3",
   "version": "3.6.5"
  }
 },
 "nbformat": 4,
 "nbformat_minor": 2
}
