{
 "cells": [
  {
   "cell_type": "code",
   "execution_count": 1,
   "metadata": {},
   "outputs": [],
   "source": [
    "import tensorflow as tf\n",
    "tf.__version__\n",
    "from tensorflow import keras\n",
    "from tensorflow.keras import layers\n",
    "import matplotlib.pyplot as plt\n",
    "%matplotlib inline"
   ]
  },
  {
   "cell_type": "code",
   "execution_count": 2,
   "metadata": {},
   "outputs": [],
   "source": [
    "data = keras.datasets.imdb"
   ]
  },
  {
   "cell_type": "code",
   "execution_count": 3,
   "metadata": {},
   "outputs": [],
   "source": [
    "max_word = 10000"
   ]
  },
  {
   "cell_type": "code",
   "execution_count": 4,
   "metadata": {},
   "outputs": [],
   "source": [
    "(x_train, y_train), (x_test, y_test) = data.load_data(num_words=max_word)"
   ]
  },
  {
   "cell_type": "code",
   "execution_count": 5,
   "metadata": {},
   "outputs": [
    {
     "data": {
      "text/plain": [
       "(25000,)"
      ]
     },
     "execution_count": 5,
     "metadata": {},
     "output_type": "execute_result"
    }
   ],
   "source": [
    "x_train.shape"
   ]
  },
  {
   "cell_type": "markdown",
   "metadata": {},
   "source": [
    "文本训练成密集向量"
   ]
  },
  {
   "cell_type": "code",
   "execution_count": 6,
   "metadata": {},
   "outputs": [],
   "source": [
    "x_train = keras.preprocessing.sequence.pad_sequences(x_train, 300)\n",
    "x_test = keras.preprocessing.sequence.pad_sequences(x_test, 300)"
   ]
  },
  {
   "cell_type": "code",
   "execution_count": 8,
   "metadata": {},
   "outputs": [],
   "source": [
    "model = keras.models.Sequential()"
   ]
  },
  {
   "cell_type": "code",
   "execution_count": 9,
   "metadata": {},
   "outputs": [],
   "source": [
    "model.add(layers.Embedding(10000, 50, input_length=300))  # 25000, 300, 50"
   ]
  },
  {
   "cell_type": "code",
   "execution_count": 10,
   "metadata": {},
   "outputs": [],
   "source": [
    "model.add(layers.GlobalAveragePooling1D())"
   ]
  },
  {
   "cell_type": "code",
   "execution_count": 11,
   "metadata": {},
   "outputs": [],
   "source": [
    "model.add(layers.Dense(128, activation='relu'))"
   ]
  },
  {
   "cell_type": "code",
   "execution_count": 12,
   "metadata": {},
   "outputs": [],
   "source": [
    "model.add(layers.Dropout(0.3))"
   ]
  },
  {
   "cell_type": "code",
   "execution_count": 13,
   "metadata": {},
   "outputs": [],
   "source": [
    "model.add(layers.Dense(1, activation='sigmoid'))"
   ]
  },
  {
   "cell_type": "code",
   "execution_count": 14,
   "metadata": {},
   "outputs": [
    {
     "name": "stdout",
     "output_type": "stream",
     "text": [
      "Model: \"sequential\"\n",
      "_________________________________________________________________\n",
      "Layer (type)                 Output Shape              Param #   \n",
      "=================================================================\n",
      "embedding (Embedding)        (None, 300, 50)           500000    \n",
      "_________________________________________________________________\n",
      "global_average_pooling1d (Gl (None, 50)                0         \n",
      "_________________________________________________________________\n",
      "dense (Dense)                (None, 128)               6528      \n",
      "_________________________________________________________________\n",
      "dropout (Dropout)            (None, 128)               0         \n",
      "_________________________________________________________________\n",
      "dense_1 (Dense)              (None, 1)                 129       \n",
      "=================================================================\n",
      "Total params: 506,657\n",
      "Trainable params: 506,657\n",
      "Non-trainable params: 0\n",
      "_________________________________________________________________\n"
     ]
    }
   ],
   "source": [
    "model.summary()"
   ]
  },
  {
   "cell_type": "code",
   "execution_count": 15,
   "metadata": {
    "scrolled": false
   },
   "outputs": [],
   "source": [
    "model.compile(\n",
    "    optimizer=keras.optimizers.Adam(),\n",
    "    loss=tf.losses.BinaryCrossentropy(),\n",
    "    metrics=['acc']\n",
    ")"
   ]
  },
  {
   "cell_type": "code",
   "execution_count": 16,
   "metadata": {},
   "outputs": [
    {
     "name": "stderr",
     "output_type": "stream",
     "text": [
      "WARNING: Logging before flag parsing goes to stderr.\n",
      "W0720 22:45:02.519704 12972 deprecation.py:323] From D:\\Python\\Anaconda3\\lib\\site-packages\\tensorflow\\python\\ops\\math_grad.py:1250: add_dispatch_support.<locals>.wrapper (from tensorflow.python.ops.array_ops) is deprecated and will be removed in a future version.\n",
      "Instructions for updating:\n",
      "Use tf.where in 2.0, which has the same broadcast rule as np.where\n"
     ]
    },
    {
     "name": "stdout",
     "output_type": "stream",
     "text": [
      "Train on 25000 samples, validate on 25000 samples\n",
      "Epoch 1/15\n",
      "25000/25000 [==============================] - 3s 116us/sample - loss: 0.6635 - acc: 0.6605 - val_loss: 0.5757 - val_acc: 0.7780\n",
      "Epoch 2/15\n",
      "25000/25000 [==============================] - 2s 90us/sample - loss: 0.4266 - acc: 0.8438 - val_loss: 0.3452 - val_acc: 0.8647\n",
      "Epoch 3/15\n",
      "25000/25000 [==============================] - 2s 90us/sample - loss: 0.2814 - acc: 0.8916 - val_loss: 0.2968 - val_acc: 0.8791\n",
      "Epoch 4/15\n",
      "25000/25000 [==============================] - 2s 91us/sample - loss: 0.2304 - acc: 0.9129 - val_loss: 0.2830 - val_acc: 0.8836\n",
      "Epoch 5/15\n",
      "25000/25000 [==============================] - 2s 91us/sample - loss: 0.1952 - acc: 0.9289 - val_loss: 0.2869 - val_acc: 0.8820\n",
      "Epoch 6/15\n",
      "25000/25000 [==============================] - 2s 89us/sample - loss: 0.1706 - acc: 0.9406 - val_loss: 0.2915 - val_acc: 0.8812\n",
      "Epoch 7/15\n",
      "25000/25000 [==============================] - 2s 90us/sample - loss: 0.1509 - acc: 0.9474 - val_loss: 0.3004 - val_acc: 0.8808\n",
      "Epoch 8/15\n",
      "25000/25000 [==============================] - 2s 89us/sample - loss: 0.1362 - acc: 0.9540 - val_loss: 0.3125 - val_acc: 0.8795\n",
      "Epoch 9/15\n",
      "25000/25000 [==============================] - 2s 89us/sample - loss: 0.1223 - acc: 0.9596 - val_loss: 0.3265 - val_acc: 0.8781\n",
      "Epoch 10/15\n",
      "25000/25000 [==============================] - 2s 90us/sample - loss: 0.1113 - acc: 0.9645 - val_loss: 0.3451 - val_acc: 0.8732\n",
      "Epoch 11/15\n",
      "25000/25000 [==============================] - 2s 89us/sample - loss: 0.1007 - acc: 0.9688 - val_loss: 0.3614 - val_acc: 0.8719\n",
      "Epoch 12/15\n",
      "25000/25000 [==============================] - 2s 90us/sample - loss: 0.0898 - acc: 0.9739 - val_loss: 0.3843 - val_acc: 0.8695\n",
      "Epoch 13/15\n",
      "25000/25000 [==============================] - 2s 89us/sample - loss: 0.0816 - acc: 0.9765 - val_loss: 0.4072 - val_acc: 0.8661\n",
      "Epoch 14/15\n",
      "25000/25000 [==============================] - 2s 89us/sample - loss: 0.0738 - acc: 0.9792 - val_loss: 0.4279 - val_acc: 0.8642\n",
      "Epoch 15/15\n",
      "25000/25000 [==============================] - 2s 90us/sample - loss: 0.0694 - acc: 0.9810 - val_loss: 0.4540 - val_acc: 0.8629\n"
     ]
    }
   ],
   "source": [
    "history = model.fit(x_train, y_train, epochs=15, batch_size=256, validation_data=(x_test, y_test))"
   ]
  },
  {
   "cell_type": "code",
   "execution_count": 17,
   "metadata": {},
   "outputs": [
    {
     "data": {
      "text/plain": [
       "<matplotlib.legend.Legend at 0x281a9f27400>"
      ]
     },
     "execution_count": 17,
     "metadata": {},
     "output_type": "execute_result"
    },
    {
     "data": {
      "image/png": "[encoded data removed]",
      "text/plain": [
       "<Figure size 432x288 with 1 Axes>"
      ]
     },
     "metadata": {
      "needs_background": "light"
     },
     "output_type": "display_data"
    }
   ],
   "source": [
    "plt.plot(history.epoch, history.history.get('loss'), 'r', label='loss')\n",
    "plt.plot(history.epoch, history.history.get('val_loss'), 'b--', label='val_loss')\n",
    "plt.legend()"
   ]
  },
  {
   "cell_type": "code",
   "execution_count": 18,
   "metadata": {},
   "outputs": [
    {
     "data": {
      "text/plain": [
       "<matplotlib.legend.Legend at 0x281aa1d47f0>"
      ]
     },
     "execution_count": 18,
     "metadata": {},
     "output_type": "execute_result"
    },
    {
     "data": {
      "image/png": "[encoded data removed]",
      "text/plain": [
       "<Figure size 432x288 with 1 Axes>"
      ]
     },
     "metadata": {
      "needs_background": "light"
     },
     "output_type": "display_data"
    }
   ],
   "source": [
    "plt.plot(history.epoch, history.history.get('acc'), 'r', label='acc')\n",
    "plt.plot(history.epoch, history.history.get('val_acc'), 'b--', label='val_acc')\n",
    "plt.legend()"
   ]
  }
 ],
 "metadata": {
  "kernelspec": {
   "display_name": "Python 3",
   "language": "python",
   "name": "python3"
  },
  "language_info": {
   "codemirror_mode": {
    "name": "ipython",
    "version": 3
   },
   "file_extension": ".py",
   "mimetype": "text/x-python",
   "name": "python",
   "nbconvert_exporter": "python",
   "pygments_lexer": "ipython3",
   "version": "3.7.3"
  }
 },
 "nbformat": 4,
 "nbformat_minor": 2
}
