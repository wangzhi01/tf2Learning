{
 "cells": [
  {
   "cell_type": "code",
   "execution_count": 1,
   "metadata": {},
   "outputs": [
    {
     "data": {
      "text/plain": [
       "'2.0.0-beta0'"
      ]
     },
     "execution_count": 1,
     "metadata": {},
     "output_type": "execute_result"
    }
   ],
   "source": [
    "import tensorflow as tf\n",
    "tf.__version__"
   ]
  },
  {
   "cell_type": "code",
   "execution_count": 2,
   "metadata": {},
   "outputs": [],
   "source": [
    "import pandas as pd\n",
    "import numpy as np\n",
    "import matplotlib.pyplot as plt"
   ]
  },
  {
   "cell_type": "code",
   "execution_count": 3,
   "metadata": {},
   "outputs": [],
   "source": [
    "data = pd.read_csv('./dataset/credit-a.csv', header=None)"
   ]
  },
  {
   "cell_type": "code",
   "execution_count": 4,
   "metadata": {},
   "outputs": [
    {
     "data": {
      "text/html": [
       "<div>\n",
       "<style scoped>\n",
       "    .dataframe tbody tr th:only-of-type {\n",
       "        vertical-align: middle;\n",
       "    }\n",
       "\n",
       "    .dataframe tbody tr th {\n",
       "        vertical-align: top;\n",
       "    }\n",
       "\n",
       "    .dataframe thead th {\n",
       "        text-align: right;\n",
       "    }\n",
       "</style>\n",
       "<table border=\"1\" class=\"dataframe\">\n",
       "  <thead>\n",
       "    <tr style=\"text-align: right;\">\n",
       "      <th></th>\n",
       "      <th>0</th>\n",
       "      <th>1</th>\n",
       "      <th>2</th>\n",
       "      <th>3</th>\n",
       "      <th>4</th>\n",
       "      <th>5</th>\n",
       "      <th>6</th>\n",
       "      <th>7</th>\n",
       "      <th>8</th>\n",
       "      <th>9</th>\n",
       "      <th>10</th>\n",
       "      <th>11</th>\n",
       "      <th>12</th>\n",
       "      <th>13</th>\n",
       "      <th>14</th>\n",
       "      <th>15</th>\n",
       "    </tr>\n",
       "  </thead>\n",
       "  <tbody>\n",
       "    <tr>\n",
       "      <th>0</th>\n",
       "      <td>0</td>\n",
       "      <td>30.83</td>\n",
       "      <td>0.000</td>\n",
       "      <td>0</td>\n",
       "      <td>0</td>\n",
       "      <td>9</td>\n",
       "      <td>0</td>\n",
       "      <td>1.25</td>\n",
       "      <td>0</td>\n",
       "      <td>0</td>\n",
       "      <td>1</td>\n",
       "      <td>1</td>\n",
       "      <td>0</td>\n",
       "      <td>202</td>\n",
       "      <td>0.0</td>\n",
       "      <td>-1</td>\n",
       "    </tr>\n",
       "    <tr>\n",
       "      <th>1</th>\n",
       "      <td>1</td>\n",
       "      <td>58.67</td>\n",
       "      <td>4.460</td>\n",
       "      <td>0</td>\n",
       "      <td>0</td>\n",
       "      <td>8</td>\n",
       "      <td>1</td>\n",
       "      <td>3.04</td>\n",
       "      <td>0</td>\n",
       "      <td>0</td>\n",
       "      <td>6</td>\n",
       "      <td>1</td>\n",
       "      <td>0</td>\n",
       "      <td>43</td>\n",
       "      <td>560.0</td>\n",
       "      <td>-1</td>\n",
       "    </tr>\n",
       "    <tr>\n",
       "      <th>2</th>\n",
       "      <td>1</td>\n",
       "      <td>24.50</td>\n",
       "      <td>0.500</td>\n",
       "      <td>0</td>\n",
       "      <td>0</td>\n",
       "      <td>8</td>\n",
       "      <td>1</td>\n",
       "      <td>1.50</td>\n",
       "      <td>0</td>\n",
       "      <td>1</td>\n",
       "      <td>0</td>\n",
       "      <td>1</td>\n",
       "      <td>0</td>\n",
       "      <td>280</td>\n",
       "      <td>824.0</td>\n",
       "      <td>-1</td>\n",
       "    </tr>\n",
       "    <tr>\n",
       "      <th>3</th>\n",
       "      <td>0</td>\n",
       "      <td>27.83</td>\n",
       "      <td>1.540</td>\n",
       "      <td>0</td>\n",
       "      <td>0</td>\n",
       "      <td>9</td>\n",
       "      <td>0</td>\n",
       "      <td>3.75</td>\n",
       "      <td>0</td>\n",
       "      <td>0</td>\n",
       "      <td>5</td>\n",
       "      <td>0</td>\n",
       "      <td>0</td>\n",
       "      <td>100</td>\n",
       "      <td>3.0</td>\n",
       "      <td>-1</td>\n",
       "    </tr>\n",
       "    <tr>\n",
       "      <th>4</th>\n",
       "      <td>0</td>\n",
       "      <td>20.17</td>\n",
       "      <td>5.625</td>\n",
       "      <td>0</td>\n",
       "      <td>0</td>\n",
       "      <td>9</td>\n",
       "      <td>0</td>\n",
       "      <td>1.71</td>\n",
       "      <td>0</td>\n",
       "      <td>1</td>\n",
       "      <td>0</td>\n",
       "      <td>1</td>\n",
       "      <td>2</td>\n",
       "      <td>120</td>\n",
       "      <td>0.0</td>\n",
       "      <td>-1</td>\n",
       "    </tr>\n",
       "  </tbody>\n",
       "</table>\n",
       "</div>"
      ],
      "text/plain": [
       "   0      1      2   3   4   5   6     7   8   9   10  11  12   13     14  15\n",
       "0   0  30.83  0.000   0   0   9   0  1.25   0   0   1   1   0  202    0.0  -1\n",
       "1   1  58.67  4.460   0   0   8   1  3.04   0   0   6   1   0   43  560.0  -1\n",
       "2   1  24.50  0.500   0   0   8   1  1.50   0   1   0   1   0  280  824.0  -1\n",
       "3   0  27.83  1.540   0   0   9   0  3.75   0   0   5   0   0  100    3.0  -1\n",
       "4   0  20.17  5.625   0   0   9   0  1.71   0   1   0   1   2  120    0.0  -1"
      ]
     },
     "execution_count": 4,
     "metadata": {},
     "output_type": "execute_result"
    }
   ],
   "source": [
    "data.head()"
   ]
  },
  {
   "cell_type": "code",
   "execution_count": 5,
   "metadata": {},
   "outputs": [
    {
     "data": {
      "text/plain": [
       " 1    357\n",
       "-1    296\n",
       "Name: 15, dtype: int64"
      ]
     },
     "execution_count": 5,
     "metadata": {},
     "output_type": "execute_result"
    }
   ],
   "source": [
    "data.iloc[:, -1].value_counts()"
   ]
  },
  {
   "cell_type": "code",
   "execution_count": 6,
   "metadata": {},
   "outputs": [],
   "source": [
    "x = data.iloc[:, :-1]\n",
    "y = data.iloc[:, -1].replace(-1, 0)"
   ]
  },
  {
   "cell_type": "code",
   "execution_count": 7,
   "metadata": {},
   "outputs": [],
   "source": [
    "model = tf.keras.Sequential()"
   ]
  },
  {
   "cell_type": "code",
   "execution_count": 8,
   "metadata": {},
   "outputs": [],
   "source": [
    "model.add(tf.keras.layers.Dense(4, input_shape=(15,), activation='relu'))\n",
    "model.add(tf.keras.layers.Dense(4, activation='relu'))\n",
    "model.add(tf.keras.layers.Dense(1, activation='sigmoid'))"
   ]
  },
  {
   "cell_type": "code",
   "execution_count": 9,
   "metadata": {},
   "outputs": [],
   "source": [
    "model.compile(optimizer='adam', \n",
    "             loss='binary_crossentropy',\n",
    "             metrics=['acc'])"
   ]
  },
  {
   "cell_type": "code",
   "execution_count": 15,
   "metadata": {
    "scrolled": false
   },
   "outputs": [
    {
     "name": "stdout",
     "output_type": "stream",
     "text": [
      "Train on 653 samples\n",
      "Epoch 1/100\n",
      "653/653 [==============================] - 0s 47us/sample - loss: 0.5952 - acc: 0.6861\n",
      "Epoch 2/100\n",
      "653/653 [==============================] - 0s 47us/sample - loss: 0.5951 - acc: 0.6815\n",
      "Epoch 3/100\n",
      "653/653 [==============================] - 0s 49us/sample - loss: 0.5929 - acc: 0.6830\n",
      "Epoch 4/100\n",
      "653/653 [==============================] - 0s 50us/sample - loss: 0.5966 - acc: 0.6631\n",
      "Epoch 5/100\n",
      "653/653 [==============================] - 0s 47us/sample - loss: 0.5942 - acc: 0.6830\n",
      "Epoch 6/100\n",
      "653/653 [==============================] - 0s 46us/sample - loss: 0.5954 - acc: 0.6815\n",
      "Epoch 7/100\n",
      "653/653 [==============================] - 0s 50us/sample - loss: 0.5938 - acc: 0.6753\n",
      "Epoch 8/100\n",
      "653/653 [==============================] - 0s 50us/sample - loss: 0.5939 - acc: 0.6861\n",
      "Epoch 9/100\n",
      "653/653 [==============================] - 0s 52us/sample - loss: 0.5938 - acc: 0.6845\n",
      "Epoch 10/100\n",
      "653/653 [==============================] - 0s 49us/sample - loss: 0.5916 - acc: 0.6815\n",
      "Epoch 11/100\n",
      "653/653 [==============================] - 0s 49us/sample - loss: 0.5935 - acc: 0.6876\n",
      "Epoch 12/100\n",
      "653/653 [==============================] - 0s 49us/sample - loss: 0.5969 - acc: 0.6662\n",
      "Epoch 13/100\n",
      "653/653 [==============================] - 0s 51us/sample - loss: 0.5920 - acc: 0.6830\n",
      "Epoch 14/100\n",
      "653/653 [==============================] - 0s 47us/sample - loss: 0.5898 - acc: 0.6845\n",
      "Epoch 15/100\n",
      "653/653 [==============================] - 0s 49us/sample - loss: 0.5900 - acc: 0.6753\n",
      "Epoch 16/100\n",
      "653/653 [==============================] - 0s 47us/sample - loss: 0.5893 - acc: 0.6861\n",
      "Epoch 17/100\n",
      "653/653 [==============================] - 0s 47us/sample - loss: 0.5884 - acc: 0.6845\n",
      "Epoch 18/100\n",
      "653/653 [==============================] - 0s 49us/sample - loss: 0.5903 - acc: 0.6861\n",
      "Epoch 19/100\n",
      "653/653 [==============================] - 0s 48us/sample - loss: 0.5916 - acc: 0.6830\n",
      "Epoch 20/100\n",
      "653/653 [==============================] - 0s 47us/sample - loss: 0.5875 - acc: 0.6845\n",
      "Epoch 21/100\n",
      "653/653 [==============================] - 0s 49us/sample - loss: 0.5874 - acc: 0.6891\n",
      "Epoch 22/100\n",
      "653/653 [==============================] - 0s 52us/sample - loss: 0.5884 - acc: 0.6799\n",
      "Epoch 23/100\n",
      "653/653 [==============================] - 0s 47us/sample - loss: 0.5851 - acc: 0.6815\n",
      "Epoch 24/100\n",
      "653/653 [==============================] - 0s 47us/sample - loss: 0.5860 - acc: 0.6861\n",
      "Epoch 25/100\n",
      "653/653 [==============================] - 0s 50us/sample - loss: 0.5842 - acc: 0.6876\n",
      "Epoch 26/100\n",
      "653/653 [==============================] - 0s 50us/sample - loss: 0.5844 - acc: 0.6922\n",
      "Epoch 27/100\n",
      "653/653 [==============================] - 0s 50us/sample - loss: 0.5841 - acc: 0.6907\n",
      "Epoch 28/100\n",
      "653/653 [==============================] - 0s 50us/sample - loss: 0.5827 - acc: 0.6922\n",
      "Epoch 29/100\n",
      "653/653 [==============================] - 0s 50us/sample - loss: 0.5821 - acc: 0.6876\n",
      "Epoch 30/100\n",
      "653/653 [==============================] - 0s 50us/sample - loss: 0.5852 - acc: 0.6937\n",
      "Epoch 31/100\n",
      "653/653 [==============================] - 0s 50us/sample - loss: 0.5805 - acc: 0.6891\n",
      "Epoch 32/100\n",
      "653/653 [==============================] - 0s 50us/sample - loss: 0.5812 - acc: 0.6907\n",
      "Epoch 33/100\n",
      "653/653 [==============================] - 0s 50us/sample - loss: 0.5801 - acc: 0.6891\n",
      "Epoch 34/100\n",
      "653/653 [==============================] - 0s 49us/sample - loss: 0.5773 - acc: 0.7029\n",
      "Epoch 35/100\n",
      "653/653 [==============================] - 0s 47us/sample - loss: 0.5772 - acc: 0.7090\n",
      "Epoch 36/100\n",
      "653/653 [==============================] - 0s 46us/sample - loss: 0.5750 - acc: 0.7075\n",
      "Epoch 37/100\n",
      "653/653 [==============================] - 0s 52us/sample - loss: 0.5733 - acc: 0.7090\n",
      "Epoch 38/100\n",
      "653/653 [==============================] - 0s 49us/sample - loss: 0.5726 - acc: 0.6983\n",
      "Epoch 39/100\n",
      "653/653 [==============================] - 0s 46us/sample - loss: 0.5691 - acc: 0.7106\n",
      "Epoch 40/100\n",
      "653/653 [==============================] - 0s 47us/sample - loss: 0.5653 - acc: 0.7213\n",
      "Epoch 41/100\n",
      "653/653 [==============================] - 0s 47us/sample - loss: 0.5611 - acc: 0.7259\n",
      "Epoch 42/100\n",
      "653/653 [==============================] - 0s 50us/sample - loss: 0.5550 - acc: 0.7366\n",
      "Epoch 43/100\n",
      "653/653 [==============================] - 0s 50us/sample - loss: 0.5501 - acc: 0.7397\n",
      "Epoch 44/100\n",
      "653/653 [==============================] - 0s 50us/sample - loss: 0.5404 - acc: 0.7427\n",
      "Epoch 45/100\n",
      "653/653 [==============================] - 0s 49us/sample - loss: 0.5384 - acc: 0.7504\n",
      "Epoch 46/100\n",
      "653/653 [==============================] - 0s 49us/sample - loss: 0.5332 - acc: 0.7580\n",
      "Epoch 47/100\n",
      "653/653 [==============================] - 0s 47us/sample - loss: 0.5352 - acc: 0.7626\n",
      "Epoch 48/100\n",
      "653/653 [==============================] - 0s 49us/sample - loss: 0.5256 - acc: 0.7642\n",
      "Epoch 49/100\n",
      "653/653 [==============================] - 0s 49us/sample - loss: 0.5228 - acc: 0.7596\n",
      "Epoch 50/100\n",
      "653/653 [==============================] - 0s 49us/sample - loss: 0.5101 - acc: 0.7718\n",
      "Epoch 51/100\n",
      "653/653 [==============================] - 0s 50us/sample - loss: 0.5042 - acc: 0.7979\n",
      "Epoch 52/100\n",
      "653/653 [==============================] - 0s 49us/sample - loss: 0.4984 - acc: 0.8025\n",
      "Epoch 53/100\n",
      "653/653 [==============================] - 0s 50us/sample - loss: 0.4938 - acc: 0.7841\n",
      "Epoch 54/100\n",
      "653/653 [==============================] - 0s 49us/sample - loss: 0.4912 - acc: 0.8040\n",
      "Epoch 55/100\n",
      "653/653 [==============================] - 0s 50us/sample - loss: 0.4833 - acc: 0.7994\n",
      "Epoch 56/100\n",
      "653/653 [==============================] - 0s 47us/sample - loss: 0.4778 - acc: 0.7856\n",
      "Epoch 57/100\n",
      "653/653 [==============================] - 0s 47us/sample - loss: 0.4673 - acc: 0.8040\n",
      "Epoch 58/100\n",
      "653/653 [==============================] - 0s 47us/sample - loss: 0.4762 - acc: 0.7979\n",
      "Epoch 59/100\n",
      "653/653 [==============================] - 0s 46us/sample - loss: 0.4745 - acc: 0.7795\n",
      "Epoch 60/100\n",
      "653/653 [==============================] - 0s 49us/sample - loss: 0.4554 - acc: 0.8116\n",
      "Epoch 61/100\n",
      "653/653 [==============================] - 0s 49us/sample - loss: 0.4556 - acc: 0.7963\n",
      "Epoch 62/100\n",
      "653/653 [==============================] - 0s 44us/sample - loss: 0.4498 - acc: 0.8040\n",
      "Epoch 63/100\n",
      "653/653 [==============================] - 0s 49us/sample - loss: 0.4524 - acc: 0.7979\n",
      "Epoch 64/100\n",
      "653/653 [==============================] - 0s 49us/sample - loss: 0.4436 - acc: 0.8025\n",
      "Epoch 65/100\n",
      "653/653 [==============================] - 0s 48us/sample - loss: 0.4394 - acc: 0.8070\n",
      "Epoch 66/100\n",
      "653/653 [==============================] - 0s 49us/sample - loss: 0.4355 - acc: 0.8025\n",
      "Epoch 67/100\n",
      "653/653 [==============================] - 0s 49us/sample - loss: 0.4352 - acc: 0.8055\n",
      "Epoch 68/100\n",
      "653/653 [==============================] - 0s 50us/sample - loss: 0.4397 - acc: 0.7933\n",
      "Epoch 69/100\n",
      "653/653 [==============================] - 0s 47us/sample - loss: 0.4293 - acc: 0.8009\n",
      "Epoch 70/100\n",
      "653/653 [==============================] - 0s 52us/sample - loss: 0.4259 - acc: 0.8116\n",
      "Epoch 71/100\n",
      "653/653 [==============================] - 0s 49us/sample - loss: 0.4258 - acc: 0.8040\n",
      "Epoch 72/100\n",
      "653/653 [==============================] - 0s 50us/sample - loss: 0.4171 - acc: 0.8147\n",
      "Epoch 73/100\n",
      "653/653 [==============================] - 0s 50us/sample - loss: 0.4177 - acc: 0.8009\n",
      "Epoch 74/100\n",
      "653/653 [==============================] - 0s 47us/sample - loss: 0.4138 - acc: 0.8132\n",
      "Epoch 75/100\n",
      "653/653 [==============================] - 0s 52us/sample - loss: 0.4151 - acc: 0.8055\n",
      "Epoch 76/100\n",
      "653/653 [==============================] - 0s 52us/sample - loss: 0.4140 - acc: 0.8070\n",
      "Epoch 77/100\n",
      "653/653 [==============================] - 0s 47us/sample - loss: 0.4127 - acc: 0.8116\n",
      "Epoch 78/100\n",
      "653/653 [==============================] - 0s 46us/sample - loss: 0.4100 - acc: 0.8239\n",
      "Epoch 79/100\n",
      "653/653 [==============================] - 0s 52us/sample - loss: 0.4383 - acc: 0.7994\n",
      "Epoch 80/100\n",
      "653/653 [==============================] - 0s 50us/sample - loss: 0.5268 - acc: 0.7718\n",
      "Epoch 81/100\n",
      "653/653 [==============================] - 0s 53us/sample - loss: 0.4671 - acc: 0.7917\n",
      "Epoch 82/100\n",
      "653/653 [==============================] - 0s 49us/sample - loss: 0.4122 - acc: 0.8070\n",
      "Epoch 83/100\n",
      "653/653 [==============================] - 0s 49us/sample - loss: 0.4122 - acc: 0.8178\n",
      "Epoch 84/100\n",
      "653/653 [==============================] - 0s 47us/sample - loss: 0.4129 - acc: 0.8116\n",
      "Epoch 85/100\n",
      "653/653 [==============================] - 0s 49us/sample - loss: 0.4118 - acc: 0.8116\n",
      "Epoch 86/100\n",
      "653/653 [==============================] - 0s 50us/sample - loss: 0.4091 - acc: 0.8040\n",
      "Epoch 87/100\n",
      "653/653 [==============================] - 0s 49us/sample - loss: 0.4074 - acc: 0.8086\n",
      "Epoch 88/100\n",
      "653/653 [==============================] - 0s 50us/sample - loss: 0.4048 - acc: 0.8239\n",
      "Epoch 89/100\n",
      "653/653 [==============================] - 0s 55us/sample - loss: 0.4101 - acc: 0.8193\n",
      "Epoch 90/100\n",
      "653/653 [==============================] - 0s 57us/sample - loss: 0.4047 - acc: 0.8193\n",
      "Epoch 91/100\n",
      "653/653 [==============================] - 0s 57us/sample - loss: 0.4023 - acc: 0.8162\n",
      "Epoch 92/100\n",
      "653/653 [==============================] - 0s 57us/sample - loss: 0.4004 - acc: 0.8193\n",
      "Epoch 93/100\n",
      "653/653 [==============================] - 0s 53us/sample - loss: 0.3964 - acc: 0.8270\n",
      "Epoch 94/100\n",
      "653/653 [==============================] - 0s 55us/sample - loss: 0.3949 - acc: 0.8208\n",
      "Epoch 95/100\n",
      "653/653 [==============================] - 0s 50us/sample - loss: 0.3945 - acc: 0.8270\n",
      "Epoch 96/100\n",
      "653/653 [==============================] - 0s 50us/sample - loss: 0.3940 - acc: 0.8270\n",
      "Epoch 97/100\n",
      "653/653 [==============================] - 0s 47us/sample - loss: 0.3945 - acc: 0.8178\n",
      "Epoch 98/100\n",
      "653/653 [==============================] - 0s 47us/sample - loss: 0.3936 - acc: 0.8285\n",
      "Epoch 99/100\n",
      "653/653 [==============================] - 0s 49us/sample - loss: 0.3942 - acc: 0.8193\n",
      "Epoch 100/100\n",
      "653/653 [==============================] - 0s 47us/sample - loss: 0.3990 - acc: 0.8254\n"
     ]
    }
   ],
   "source": [
    "history = model.fit(x, y, epochs=100)"
   ]
  },
  {
   "cell_type": "code",
   "execution_count": 11,
   "metadata": {},
   "outputs": [
    {
     "data": {
      "text/plain": [
       "dict_keys(['loss', 'acc'])"
      ]
     },
     "execution_count": 11,
     "metadata": {},
     "output_type": "execute_result"
    }
   ],
   "source": [
    "history.history.keys()"
   ]
  },
  {
   "cell_type": "code",
   "execution_count": 16,
   "metadata": {},
   "outputs": [
    {
     "data": {
      "text/plain": [
       "[<matplotlib.lines.Line2D at 0x2aa6d3d66a0>]"
      ]
     },
     "execution_count": 16,
     "metadata": {},
     "output_type": "execute_result"
    },
    {
     "data": {
      "image/png": "[encoded data removed]",
      "text/plain": [
       "<Figure size 432x288 with 1 Axes>"
      ]
     },
     "metadata": {
      "needs_background": "light"
     },
     "output_type": "display_data"
    }
   ],
   "source": [
    "plt.plot(history.epoch, history.history.get('loss'))"
   ]
  },
  {
   "cell_type": "code",
   "execution_count": 17,
   "metadata": {},
   "outputs": [
    {
     "data": {
      "text/plain": [
       "[<matplotlib.lines.Line2D at 0x2aa6eea2828>]"
      ]
     },
     "execution_count": 17,
     "metadata": {},
     "output_type": "execute_result"
    },
    {
     "data": {
      "image/png": "[encoded data removed]",
      "text/plain": [
       "<Figure size 432x288 with 1 Axes>"
      ]
     },
     "metadata": {
      "needs_background": "light"
     },
     "output_type": "display_data"
    }
   ],
   "source": [
    "plt.plot(history.epoch, history.history.get('acc'))"
   ]
  },
  {
   "cell_type": "code",
   "execution_count": 14,
   "metadata": {},
   "outputs": [
    {
     "data": {
      "text/plain": [
       "array([[0.57693726],\n",
       "       [0.488846  ],\n",
       "       [0.41988534],\n",
       "       [0.58216435],\n",
       "       [0.57436925],\n",
       "       [0.5734164 ],\n",
       "       [0.        ],\n",
       "       [0.36236686],\n",
       "       [0.5251414 ],\n",
       "       [0.33406892]], dtype=float32)"
      ]
     },
     "execution_count": 14,
     "metadata": {},
     "output_type": "execute_result"
    }
   ],
   "source": [
    "model.predict(data.iloc[:10, :-1])"
   ]
  },
  {
   "cell_type": "code",
   "execution_count": null,
   "metadata": {},
   "outputs": [],
   "source": []
  }
 ],
 "metadata": {
  "kernelspec": {
   "display_name": "Python 3",
   "language": "python",
   "name": "python3"
  },
  "language_info": {
   "codemirror_mode": {
    "name": "ipython",
    "version": 3
   },
   "file_extension": ".py",
   "mimetype": "text/x-python",
   "name": "python",
   "nbconvert_exporter": "python",
   "pygments_lexer": "ipython3",
   "version": "3.7.3"
  }
 },
 "nbformat": 4,
 "nbformat_minor": 2
}
