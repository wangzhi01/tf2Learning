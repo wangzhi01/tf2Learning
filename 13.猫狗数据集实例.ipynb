{
 "cells": [
  {
   "cell_type": "code",
   "execution_count": 1,
   "metadata": {},
   "outputs": [],
   "source": [
    "import tensorflow as tf\n",
    "tf.__version__\n",
    "from tensorflow import keras\n",
    "from tensorflow.keras import layers\n",
    "import matplotlib.pyplot as plt\n",
    "import glob\n",
    "import numpy as np\n",
    "%matplotlib inline"
   ]
  },
  {
   "cell_type": "code",
   "execution_count": 2,
   "metadata": {},
   "outputs": [],
   "source": [
    "image_filenames = glob.glob('./dataset/dc/train/*.jpg')"
   ]
  },
  {
   "cell_type": "code",
   "execution_count": 3,
   "metadata": {},
   "outputs": [],
   "source": [
    "image_filenames = np.random.permutation(image_filenames)"
   ]
  },
  {
   "cell_type": "code",
   "execution_count": 4,
   "metadata": {},
   "outputs": [],
   "source": [
    "labels = list(map(lambda x: float(x.split('\\\\')[1].split('.')[0] == 'cat'), image_filenames))"
   ]
  },
  {
   "cell_type": "code",
   "execution_count": 5,
   "metadata": {},
   "outputs": [],
   "source": [
    "dataset = tf.data.Dataset.from_tensor_slices((image_filenames, labels))"
   ]
  },
  {
   "cell_type": "code",
   "execution_count": 6,
   "metadata": {},
   "outputs": [
    {
     "data": {
      "text/plain": [
       "<TensorSliceDataset shapes: ((), ()), types: (tf.string, tf.float32)>"
      ]
     },
     "execution_count": 6,
     "metadata": {},
     "output_type": "execute_result"
    }
   ],
   "source": [
    "dataset"
   ]
  },
  {
   "cell_type": "code",
   "execution_count": 7,
   "metadata": {},
   "outputs": [],
   "source": [
    "def _pre_read(img_filename, label):\n",
    "    img = tf.io.read_file(img_filename)\n",
    "    img = tf.image.decode_jpeg(img, channels=3)\n",
    "    img = tf.image.rgb_to_grayscale(img)\n",
    "    img = tf.image.resize(img, (200, 200))\n",
    "    img = tf.image.per_image_standardization(img)  # 归一\n",
    "    label = tf.reshape(label, [1])\n",
    "    return img, label"
   ]
  },
  {
   "cell_type": "code",
   "execution_count": 8,
   "metadata": {},
   "outputs": [
    {
     "name": "stderr",
     "output_type": "stream",
     "text": [
      "WARNING: Logging before flag parsing goes to stderr.\n",
      "W0721 18:30:35.573298 19220 deprecation.py:323] From D:\\Python\\Anaconda3\\lib\\site-packages\\tensorflow\\python\\ops\\image_ops_impl.py:1511: div (from tensorflow.python.ops.math_ops) is deprecated and will be removed in a future version.\n",
      "Instructions for updating:\n",
      "Deprecated in favor of operator or tf.math.divide.\n"
     ]
    }
   ],
   "source": [
    "dataset = dataset.map(_pre_read)"
   ]
  },
  {
   "cell_type": "code",
   "execution_count": 9,
   "metadata": {},
   "outputs": [],
   "source": [
    "dataset = dataset.shuffle(300).repeat().batch(32)"
   ]
  },
  {
   "cell_type": "code",
   "execution_count": 10,
   "metadata": {},
   "outputs": [
    {
     "data": {
      "text/plain": [
       "<BatchDataset shapes: ((None, 200, 200, 1), (None, 1)), types: (tf.float32, tf.float32)>"
      ]
     },
     "execution_count": 10,
     "metadata": {},
     "output_type": "execute_result"
    }
   ],
   "source": [
    "dataset"
   ]
  },
  {
   "cell_type": "code",
   "execution_count": 11,
   "metadata": {},
   "outputs": [
    {
     "data": {
      "text/plain": [
       "<BatchDataset shapes: ((None, 200, 200, 1), (None, 1)), types: (tf.float32, tf.float32)>"
      ]
     },
     "execution_count": 11,
     "metadata": {},
     "output_type": "execute_result"
    }
   ],
   "source": [
    "test_filenames = np.random.permutation(glob.glob('./dataset/dc/test/*.jpg'))\n",
    "test_labels = list(map(lambda x: float(x.split('\\\\')[1].split('.')[0] == 'cat'), test_filenames))\n",
    "ds_test = tf.data.Dataset.from_tensor_slices((test_filenames, test_labels))\n",
    "ds_test = ds_test.map(_pre_read).batch(32)\n",
    "ds_test"
   ]
  },
  {
   "cell_type": "code",
   "execution_count": 12,
   "metadata": {},
   "outputs": [],
   "source": [
    "model = keras.Sequential()"
   ]
  },
  {
   "cell_type": "code",
   "execution_count": 13,
   "metadata": {},
   "outputs": [],
   "source": [
    "model.add(layers.Conv2D(64, (3, 3), activation='relu', input_shape=(200, 200, 1)))\n",
    "model.add(layers.MaxPooling2D(2, 2))\n",
    "model.add(layers.Conv2D(64, (3, 3), activation='relu'))\n",
    "model.add(layers.MaxPooling2D(2, 2))\n",
    "model.add(layers.Conv2D(64, (3, 3), activation='relu'))\n",
    "model.add(layers.MaxPooling2D(2, 2))\n",
    "model.add(layers.Flatten())\n",
    "model.add(layers.Dense(64, activation='relu'))\n",
    "model.add(layers.Dense(1, activation='sigmoid'))"
   ]
  },
  {
   "cell_type": "code",
   "execution_count": 14,
   "metadata": {},
   "outputs": [
    {
     "name": "stdout",
     "output_type": "stream",
     "text": [
      "Model: \"sequential\"\n",
      "_________________________________________________________________\n",
      "Layer (type)                 Output Shape              Param #   \n",
      "=================================================================\n",
      "conv2d (Conv2D)              (None, 198, 198, 64)      640       \n",
      "_________________________________________________________________\n",
      "max_pooling2d (MaxPooling2D) (None, 99, 99, 64)        0         \n",
      "_________________________________________________________________\n",
      "conv2d_1 (Conv2D)            (None, 97, 97, 64)        36928     \n",
      "_________________________________________________________________\n",
      "max_pooling2d_1 (MaxPooling2 (None, 48, 48, 64)        0         \n",
      "_________________________________________________________________\n",
      "conv2d_2 (Conv2D)            (None, 46, 46, 64)        36928     \n",
      "_________________________________________________________________\n",
      "max_pooling2d_2 (MaxPooling2 (None, 23, 23, 64)        0         \n",
      "_________________________________________________________________\n",
      "flatten (Flatten)            (None, 33856)             0         \n",
      "_________________________________________________________________\n",
      "dense (Dense)                (None, 64)                2166848   \n",
      "_________________________________________________________________\n",
      "dense_1 (Dense)              (None, 1)                 65        \n",
      "=================================================================\n",
      "Total params: 2,241,409\n",
      "Trainable params: 2,241,409\n",
      "Non-trainable params: 0\n",
      "_________________________________________________________________\n"
     ]
    }
   ],
   "source": [
    "model.summary()"
   ]
  },
  {
   "cell_type": "code",
   "execution_count": 15,
   "metadata": {},
   "outputs": [],
   "source": [
    "model.compile(\n",
    "    optimizer=keras.optimizers.Adam(),\n",
    "    loss=keras.losses.BinaryCrossentropy(),\n",
    "    metrics=['acc']\n",
    ")"
   ]
  },
  {
   "cell_type": "code",
   "execution_count": 17,
   "metadata": {},
   "outputs": [
    {
     "name": "stdout",
     "output_type": "stream",
     "text": [
      "Epoch 1/30\n"
     ]
    },
    {
     "name": "stderr",
     "output_type": "stream",
     "text": [
      "W0721 18:31:30.471135 19220 deprecation.py:323] From D:\\Python\\Anaconda3\\lib\\site-packages\\tensorflow\\python\\ops\\math_grad.py:1250: add_dispatch_support.<locals>.wrapper (from tensorflow.python.ops.array_ops) is deprecated and will be removed in a future version.\n",
      "Instructions for updating:\n",
      "Use tf.where in 2.0, which has the same broadcast rule as np.where\n"
     ]
    },
    {
     "name": "stdout",
     "output_type": "stream",
     "text": [
      "781/781 [==============================] - 114s 146ms/step - loss: 0.5432 - acc: 0.7202 - val_loss: 0.8859 - val_acc: 0.5192\n",
      "Epoch 2/30\n",
      "781/781 [==============================] - 104s 133ms/step - loss: 0.4068 - acc: 0.8132 - val_loss: 1.1627 - val_acc: 0.5418\n",
      "Epoch 3/30\n",
      "781/781 [==============================] - 106s 135ms/step - loss: 0.3197 - acc: 0.8584 - val_loss: 1.6028 - val_acc: 0.4966\n",
      "Epoch 4/30\n",
      "781/781 [==============================] - 104s 133ms/step - loss: 0.2163 - acc: 0.9073 - val_loss: 2.3333 - val_acc: 0.5472\n",
      "Epoch 5/30\n",
      "781/781 [==============================] - 104s 133ms/step - loss: 0.1315 - acc: 0.9486 - val_loss: 3.2329 - val_acc: 0.4873\n",
      "Epoch 6/30\n",
      "781/781 [==============================] - 104s 133ms/step - loss: 0.0847 - acc: 0.9667 - val_loss: 4.0892 - val_acc: 0.4806\n",
      "Epoch 7/30\n",
      "781/781 [==============================] - 104s 133ms/step - loss: 0.0710 - acc: 0.9746 - val_loss: 3.8591 - val_acc: 0.5272\n",
      "Epoch 8/30\n",
      "781/781 [==============================] - 104s 133ms/step - loss: 0.0533 - acc: 0.9798 - val_loss: 4.2097 - val_acc: 0.5192\n",
      "Epoch 9/30\n",
      "781/781 [==============================] - 104s 133ms/step - loss: 0.0486 - acc: 0.9831 - val_loss: 4.1763 - val_acc: 0.5246\n",
      "Epoch 10/30\n",
      "781/781 [==============================] - 104s 134ms/step - loss: 0.0411 - acc: 0.9862 - val_loss: 4.7728 - val_acc: 0.4911\n",
      "Epoch 11/30\n",
      "781/781 [==============================] - 108s 138ms/step - loss: 0.0417 - acc: 0.9849 - val_loss: 5.6211 - val_acc: 0.4478\n",
      "Epoch 12/30\n",
      "781/781 [==============================] - 114s 146ms/step - loss: 0.0310 - acc: 0.9903 - val_loss: 4.8949 - val_acc: 0.5030\n",
      "Epoch 13/30\n",
      "781/781 [==============================] - 109s 140ms/step - loss: 0.0305 - acc: 0.9903 - val_loss: 5.0050 - val_acc: 0.4982\n",
      "Epoch 14/30\n",
      "781/781 [==============================] - 105s 135ms/step - loss: 0.0258 - acc: 0.9911 - val_loss: 5.4789 - val_acc: 0.4740\n",
      "Epoch 15/30\n",
      "781/781 [==============================] - 109s 140ms/step - loss: 0.0308 - acc: 0.9900 - val_loss: 6.1418 - val_acc: 0.4387\n",
      "Epoch 16/30\n",
      "781/781 [==============================] - 111s 142ms/step - loss: 0.0251 - acc: 0.9926 - val_loss: 5.3185 - val_acc: 0.4911\n",
      "Epoch 17/30\n",
      "781/781 [==============================] - 112s 143ms/step - loss: 0.0219 - acc: 0.9922 - val_loss: 6.0594 - val_acc: 0.4564\n",
      "Epoch 18/30\n",
      "781/781 [==============================] - 112s 144ms/step - loss: 0.0223 - acc: 0.9931 - val_loss: 5.5498 - val_acc: 0.5015\n",
      "Epoch 19/30\n",
      "781/781 [==============================] - 111s 142ms/step - loss: 0.0206 - acc: 0.9933 - val_loss: 6.0342 - val_acc: 0.4606\n",
      "Epoch 20/30\n",
      "781/781 [==============================] - 113s 144ms/step - loss: 0.0221 - acc: 0.9939 - val_loss: 4.9522 - val_acc: 0.5184\n",
      "Epoch 21/30\n",
      "781/781 [==============================] - 110s 141ms/step - loss: 0.0240 - acc: 0.9924 - val_loss: 5.0862 - val_acc: 0.4936\n",
      "Epoch 22/30\n",
      "781/781 [==============================] - 106s 135ms/step - loss: 0.0164 - acc: 0.9949 - val_loss: 5.2953 - val_acc: 0.5054\n",
      "Epoch 23/30\n",
      "781/781 [==============================] - 107s 137ms/step - loss: 0.0167 - acc: 0.9949 - val_loss: 5.0754 - val_acc: 0.5271\n",
      "Epoch 24/30\n",
      "781/781 [==============================] - 108s 138ms/step - loss: 0.0165 - acc: 0.9941 - val_loss: 5.4198 - val_acc: 0.4971\n",
      "Epoch 25/30\n",
      "781/781 [==============================] - 107s 137ms/step - loss: 0.0157 - acc: 0.9947 - val_loss: 5.8523 - val_acc: 0.4911\n",
      "Epoch 26/30\n",
      "781/781 [==============================] - 111s 142ms/step - loss: 0.0165 - acc: 0.9951 - val_loss: 6.3959 - val_acc: 0.4416\n",
      "Epoch 27/30\n",
      "781/781 [==============================] - 112s 143ms/step - loss: 0.0127 - acc: 0.9963 - val_loss: 5.9441 - val_acc: 0.4818\n",
      "Epoch 28/30\n",
      "781/781 [==============================] - 109s 140ms/step - loss: 0.0240 - acc: 0.9932 - val_loss: 5.3855 - val_acc: 0.4858\n",
      "Epoch 29/30\n",
      "781/781 [==============================] - 112s 143ms/step - loss: 0.0116 - acc: 0.9964 - val_loss: 6.1017 - val_acc: 0.4773\n",
      "Epoch 30/30\n",
      "781/781 [==============================] - 111s 143ms/step - loss: 0.0107 - acc: 0.9970 - val_loss: 5.4183 - val_acc: 0.5265\n"
     ]
    },
    {
     "data": {
      "text/plain": [
       "<tensorflow.python.keras.callbacks.History at 0x236d901b0f0>"
      ]
     },
     "execution_count": 17,
     "metadata": {},
     "output_type": "execute_result"
    }
   ],
   "source": [
    "model.fit(dataset, epochs=30, steps_per_epoch=int(len(image_filenames) // 32), validation_data=ds_test, validation_steps=int(len(test_filenames) // 32))"
   ]
  },
  {
   "cell_type": "code",
   "execution_count": null,
   "metadata": {},
   "outputs": [],
   "source": [
    "model.history.history.get('loss')"
   ]
  },
  {
   "cell_type": "code",
   "execution_count": 18,
   "metadata": {},
   "outputs": [
    {
     "data": {
      "text/plain": [
       "<matplotlib.legend.Legend at 0x23548472be0>"
      ]
     },
     "execution_count": 18,
     "metadata": {},
     "output_type": "execute_result"
    },
    {
     "data": {
      "image/png": "[encoded data removed]",
      "text/plain": [
       "<Figure size 432x288 with 1 Axes>"
      ]
     },
     "metadata": {
      "needs_background": "light"
     },
     "output_type": "display_data"
    }
   ],
   "source": [
    "plt.plot(model.history.epoch, model.history.history.get('acc'), label='acc')\n",
    "plt.plot(model.history.epoch, model.history.history.get('val_acc'), label='val_acc')\n",
    "plt.legend()"
   ]
  },
  {
   "cell_type": "code",
   "execution_count": 19,
   "metadata": {},
   "outputs": [
    {
     "data": {
      "text/plain": [
       "<matplotlib.legend.Legend at 0x2354850de80>"
      ]
     },
     "execution_count": 19,
     "metadata": {},
     "output_type": "execute_result"
    },
    {
     "data": {
      "image/png": "[encoded data removed]",
      "text/plain": [
       "<Figure size 432x288 with 1 Axes>"
      ]
     },
     "metadata": {
      "needs_background": "light"
     },
     "output_type": "display_data"
    }
   ],
   "source": [
    "plt.plot(model.history.epoch, model.history.history.get('loss'), label='loss')\n",
    "plt.plot(model.history.epoch, model.history.history.get('val_loss'), label='val_loss')\n",
    "plt.legend()"
   ]
  },
  {
   "cell_type": "code",
   "execution_count": null,
   "metadata": {},
   "outputs": [],
   "source": []
  }
 ],
 "metadata": {
  "kernelspec": {
   "display_name": "Python 3",
   "language": "python",
   "name": "python3"
  },
  "language_info": {
   "codemirror_mode": {
    "name": "ipython",
    "version": 3
   },
   "file_extension": ".py",
   "mimetype": "text/x-python",
   "name": "python",
   "nbconvert_exporter": "python",
   "pygments_lexer": "ipython3",
   "version": "3.7.3"
  }
 },
 "nbformat": 4,
 "nbformat_minor": 2
}
