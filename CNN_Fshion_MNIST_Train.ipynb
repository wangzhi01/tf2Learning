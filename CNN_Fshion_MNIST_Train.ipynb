{
 "cells": [
  {
   "cell_type": "code",
   "execution_count": 9,
   "metadata": {
    "_cell_guid": "b1076dfc-b9ad-4769-8c92-a6c4dae69d19",
    "_uuid": "8f2839f25d086af736a60e9eeb907d3b93b6e0e5"
   },
   "outputs": [],
   "source": [
    "import numpy as np # linear algebra\n",
    "import pandas as pd # data processing, CSV file I/O (e.g. pd.read_csv)"
   ]
  },
  {
   "cell_type": "code",
   "execution_count": null,
   "metadata": {},
   "outputs": [],
   "source": [
    "!pip install -q tensorflow-gpu"
   ]
  },
  {
   "cell_type": "code",
   "execution_count": 1,
   "metadata": {
    "_cell_guid": "79c7e3d0-c299-4dcb-8224-4455121ee9b0",
    "_uuid": "d629ff2d2480ee46fbb7e2d37f6b5fab8052498a"
   },
   "outputs": [
    {
     "name": "stderr",
     "output_type": "stream",
     "text": [
      "Using TensorFlow backend.\n"
     ]
    }
   ],
   "source": [
    "import keras\n",
    "from keras import layers\n",
    "import tensorflow as tf\n",
    "import matplotlib.pyplot as plt"
   ]
  },
  {
   "cell_type": "code",
   "execution_count": 2,
   "metadata": {},
   "outputs": [
    {
     "data": {
      "text/plain": [
       "True"
      ]
     },
     "execution_count": 2,
     "metadata": {},
     "output_type": "execute_result"
    }
   ],
   "source": [
    "tf.__version__\n",
    "tf.test.is_gpu_available()"
   ]
  },
  {
   "cell_type": "code",
   "execution_count": 3,
   "metadata": {},
   "outputs": [],
   "source": [
    "fashion_mnist = keras.datasets.fashion_mnist"
   ]
  },
  {
   "cell_type": "code",
   "execution_count": 4,
   "metadata": {},
   "outputs": [],
   "source": [
    "(train_image, train_label), (test_image, test_label) = fashion_mnist.load_data()"
   ]
  },
  {
   "cell_type": "code",
   "execution_count": 5,
   "metadata": {},
   "outputs": [
    {
     "data": {
      "text/plain": [
       "(60000, 28, 28)"
      ]
     },
     "execution_count": 5,
     "metadata": {},
     "output_type": "execute_result"
    }
   ],
   "source": [
    "train_image.shape"
   ]
  },
  {
   "cell_type": "code",
   "execution_count": 6,
   "metadata": {},
   "outputs": [
    {
     "data": {
      "text/plain": [
       "(10000, 28, 28)"
      ]
     },
     "execution_count": 6,
     "metadata": {},
     "output_type": "execute_result"
    }
   ],
   "source": [
    "test_image.shape"
   ]
  },
  {
   "cell_type": "code",
   "execution_count": 10,
   "metadata": {},
   "outputs": [],
   "source": [
    "train_image = np.expand_dims(train_image, -1)"
   ]
  },
  {
   "cell_type": "code",
   "execution_count": 11,
   "metadata": {},
   "outputs": [
    {
     "data": {
      "text/plain": [
       "(60000, 28, 28, 1)"
      ]
     },
     "execution_count": 11,
     "metadata": {},
     "output_type": "execute_result"
    }
   ],
   "source": [
    "train_image.shape"
   ]
  },
  {
   "cell_type": "code",
   "execution_count": 12,
   "metadata": {},
   "outputs": [],
   "source": [
    "test_image = np.expand_dims(test_image, -1)"
   ]
  },
  {
   "cell_type": "code",
   "execution_count": null,
   "metadata": {},
   "outputs": [],
   "source": [
    "model = tf.keras.Sequential()    # 顺序模型\n",
    "model.add(tf.keras.layers.Conv2D(64, (3, 3), input_shape=train_image.shape[1:], activation='relu', padding='same'))\n",
    "model.add(tf.keras.layers.Conv2D(64, (3, 3), activation='relu', padding='same'))\n",
    "model.add(tf.keras.layers.MaxPool2D())\n",
    "model.add(tf.keras.layers.Dropout(0.5))\n",
    "model.add(tf.keras.layers.Conv2D(128, (3, 3), activation='relu', padding='same'))\n",
    "model.add(tf.keras.layers.Conv2D(128, (3, 3), activation='relu', padding='same'))\n",
    "model.add(tf.keras.layers.MaxPool2D())\n",
    "model.add(tf.keras.layers.Dropout(0.5))\n",
    "model.add(tf.keras.layers.Conv2D(256, (3, 3), activation='relu', padding='same'))\n",
    "model.add(tf.keras.layers.Conv2D(256, (3, 3), activation='relu', padding='same'))\n",
    "model.add(tf.keras.layers.MaxPool2D())\n",
    "model.add(tf.keras.layers.Dropout(0.5))\n",
    "model.add(tf.keras.layers.Conv2D(256, (3, 3), activation='relu', padding='same'))\n",
    "model.add(tf.keras.layers.Conv2D(256, (3, 3), activation='relu', padding='same'))\n",
    "model.add(tf.keras.layers.Dropout(0.5))\n",
    "model.add(tf.keras.layers.GlobalAveragePooling2D())\n",
    "model.add(tf.keras.layers.Dense(256, activation='relu'))\n",
    "model.add(tf.keras.layers.Dense(10, activation='softmax'))"
   ]
  },
  {
   "cell_type": "code",
   "execution_count": null,
   "metadata": {},
   "outputs": [],
   "source": [
    "model.compile(optimizer='adam',\n",
    "             loss='sparse_categorical_crossentropy',\n",
    "             metrics=['acc'])"
   ]
  },
  {
   "cell_type": "code",
   "execution_count": null,
   "metadata": {},
   "outputs": [],
   "source": [
    "model.summary()"
   ]
  },
  {
   "cell_type": "code",
   "execution_count": 16,
   "metadata": {},
   "outputs": [
    {
     "name": "stdout",
     "output_type": "stream",
     "text": [
      "Train on 60000 samples, validate on 10000 samples\n",
      "WARNING:tensorflow:From D:\\Python\\Anaconda3\\lib\\site-packages\\tensorflow\\python\\ops\\math_ops.py:3066: to_int32 (from tensorflow.python.ops.math_ops) is deprecated and will be removed in a future version.\n",
      "Instructions for updating:\n",
      "Use tf.cast instead.\n",
      "Epoch 1/30\n",
      "60000/60000 [==============================] - 20s 328us/sample - loss: 0.7998 - acc: 0.6970 - val_loss: 0.4874 - val_acc: 0.8312\n",
      "Epoch 2/30\n",
      "60000/60000 [==============================] - 17s 292us/sample - loss: 0.4709 - acc: 0.8276 - val_loss: 0.4177 - val_acc: 0.8532\n",
      "Epoch 3/30\n",
      "60000/60000 [==============================] - 18s 296us/sample - loss: 0.4211 - acc: 0.8442 - val_loss: 0.3613 - val_acc: 0.8619\n",
      "Epoch 4/30\n",
      "60000/60000 [==============================] - 18s 293us/sample - loss: 0.3928 - acc: 0.8570 - val_loss: 0.3639 - val_acc: 0.8723\n",
      "Epoch 5/30\n",
      "60000/60000 [==============================] - 18s 293us/sample - loss: 0.3795 - acc: 0.8616 - val_loss: 0.3268 - val_acc: 0.8752\n",
      "Epoch 6/30\n",
      "60000/60000 [==============================] - 18s 301us/sample - loss: 0.3679 - acc: 0.8656 - val_loss: 0.3238 - val_acc: 0.8842\n",
      "Epoch 7/30\n",
      "60000/60000 [==============================] - 18s 295us/sample - loss: 0.3567 - acc: 0.8724 - val_loss: 0.3069 - val_acc: 0.8851\n",
      "Epoch 8/30\n",
      "60000/60000 [==============================] - 18s 295us/sample - loss: 0.3524 - acc: 0.8738 - val_loss: 0.3315 - val_acc: 0.8799\n",
      "Epoch 9/30\n",
      "60000/60000 [==============================] - 18s 295us/sample - loss: 0.3490 - acc: 0.8730 - val_loss: 0.3027 - val_acc: 0.8872\n",
      "Epoch 10/30\n",
      "60000/60000 [==============================] - 17s 290us/sample - loss: 0.3475 - acc: 0.8749 - val_loss: 0.3057 - val_acc: 0.8897\n",
      "Epoch 11/30\n",
      "60000/60000 [==============================] - 17s 292us/sample - loss: 0.3387 - acc: 0.8776 - val_loss: 0.3071 - val_acc: 0.8906\n",
      "Epoch 12/30\n",
      "60000/60000 [==============================] - 18s 294us/sample - loss: 0.3303 - acc: 0.8807 - val_loss: 0.2926 - val_acc: 0.8938\n",
      "Epoch 13/30\n",
      "60000/60000 [==============================] - 18s 297us/sample - loss: 0.3323 - acc: 0.8827 - val_loss: 0.2985 - val_acc: 0.8887\n",
      "Epoch 14/30\n",
      "60000/60000 [==============================] - 19s 313us/sample - loss: 0.3308 - acc: 0.8823 - val_loss: 0.3060 - val_acc: 0.8873\n",
      "Epoch 15/30\n",
      "60000/60000 [==============================] - 18s 302us/sample - loss: 0.3363 - acc: 0.8812 - val_loss: 0.2802 - val_acc: 0.8999\n",
      "Epoch 16/30\n",
      "60000/60000 [==============================] - 18s 305us/sample - loss: 0.3215 - acc: 0.8857 - val_loss: 0.3193 - val_acc: 0.8687\n",
      "Epoch 17/30\n",
      "60000/60000 [==============================] - 19s 311us/sample - loss: 0.3215 - acc: 0.8865 - val_loss: 0.2805 - val_acc: 0.8913\n",
      "Epoch 18/30\n",
      "60000/60000 [==============================] - 18s 298us/sample - loss: 0.3241 - acc: 0.8866 - val_loss: 0.2899 - val_acc: 0.8984\n",
      "Epoch 19/30\n",
      "60000/60000 [==============================] - 18s 295us/sample - loss: 0.3240 - acc: 0.8870 - val_loss: 0.3049 - val_acc: 0.8936\n",
      "Epoch 20/30\n",
      "60000/60000 [==============================] - 18s 295us/sample - loss: 0.3227 - acc: 0.8867 - val_loss: 0.3191 - val_acc: 0.8861\n",
      "Epoch 21/30\n",
      "60000/60000 [==============================] - 18s 295us/sample - loss: 0.3312 - acc: 0.8857 - val_loss: 0.2970 - val_acc: 0.8948\n",
      "Epoch 22/30\n",
      "60000/60000 [==============================] - 18s 294us/sample - loss: 0.3224 - acc: 0.8876 - val_loss: 0.2930 - val_acc: 0.8975\n",
      "Epoch 23/30\n",
      "60000/60000 [==============================] - 18s 296us/sample - loss: 0.3263 - acc: 0.8866 - val_loss: 0.2743 - val_acc: 0.9020\n",
      "Epoch 24/30\n",
      "60000/60000 [==============================] - 18s 295us/sample - loss: 0.3348 - acc: 0.8836 - val_loss: 0.2752 - val_acc: 0.9035\n",
      "Epoch 25/30\n",
      "60000/60000 [==============================] - 18s 294us/sample - loss: 0.3271 - acc: 0.8889 - val_loss: 0.3005 - val_acc: 0.8887\n",
      "Epoch 26/30\n",
      "60000/60000 [==============================] - 18s 293us/sample - loss: 0.3199 - acc: 0.8875 - val_loss: 0.3606 - val_acc: 0.8726\n",
      "Epoch 27/30\n",
      "60000/60000 [==============================] - 18s 293us/sample - loss: 0.3270 - acc: 0.8856 - val_loss: 0.2950 - val_acc: 0.8954\n",
      "Epoch 28/30\n",
      "60000/60000 [==============================] - 18s 293us/sample - loss: 0.3254 - acc: 0.8894 - val_loss: 0.2844 - val_acc: 0.9019\n",
      "Epoch 29/30\n",
      "60000/60000 [==============================] - 18s 293us/sample - loss: 0.3194 - acc: 0.8895 - val_loss: 0.2876 - val_acc: 0.8991\n",
      "Epoch 30/30\n",
      "60000/60000 [==============================] - 18s 295us/sample - loss: 0.3511 - acc: 0.8816 - val_loss: 0.2856 - val_acc: 0.9013\n"
     ]
    }
   ],
   "source": [
    "history = model.fit(train_image, train_label, epochs=30, validation_data=(test_image, test_label))"
   ]
  },
  {
   "cell_type": "code",
   "execution_count": 17,
   "metadata": {},
   "outputs": [
    {
     "data": {
      "text/plain": [
       "dict_keys(['loss', 'acc', 'val_loss', 'val_acc'])"
      ]
     },
     "execution_count": 17,
     "metadata": {},
     "output_type": "execute_result"
    }
   ],
   "source": [
    "history.history.keys()"
   ]
  },
  {
   "cell_type": "code",
   "execution_count": 18,
   "metadata": {},
   "outputs": [
    {
     "data": {
      "text/plain": [
       "<matplotlib.legend.Legend at 0x1868120f358>"
      ]
     },
     "execution_count": 18,
     "metadata": {},
     "output_type": "execute_result"
    },
    {
     "data": {
      "image/png": "[encoded data removed]",
      "text/plain": [
       "<Figure size 432x288 with 1 Axes>"
      ]
     },
     "metadata": {
      "needs_background": "light"
     },
     "output_type": "display_data"
    }
   ],
   "source": [
    "plt.plot(history.epoch, history.history.get('acc'), label='acc')\n",
    "plt.plot(history.epoch, history.history.get('val_acc'), label='val_acc')\n",
    "plt.legend()"
   ]
  },
  {
   "cell_type": "code",
   "execution_count": 22,
   "metadata": {},
   "outputs": [
    {
     "data": {
      "text/plain": [
       "<matplotlib.legend.Legend at 0x18682946ba8>"
      ]
     },
     "execution_count": 22,
     "metadata": {},
     "output_type": "execute_result"
    },
    {
     "data": {
      "image/png": "[encoded data removed]",
      "text/plain": [
       "<Figure size 432x288 with 1 Axes>"
      ]
     },
     "metadata": {
      "needs_background": "light"
     },
     "output_type": "display_data"
    }
   ],
   "source": [
    "plt.plot(history.epoch, history.history.get('loss'), label='loss')\n",
    "plt.plot(history.epoch, history.history.get('val_loss'), label='val_loss')\n",
    "plt.legend()"
   ]
  },
  {
   "cell_type": "code",
   "execution_count": null,
   "metadata": {},
   "outputs": [],
   "source": []
  }
 ],
 "metadata": {
  "kernelspec": {
   "display_name": "Python 3",
   "language": "python",
   "name": "python3"
  },
  "language_info": {
   "codemirror_mode": {
    "name": "ipython",
    "version": 3
   },
   "file_extension": ".py",
   "mimetype": "text/x-python",
   "name": "python",
   "nbconvert_exporter": "python",
   "pygments_lexer": "ipython3",
   "version": "3.7.3"
  }
 },
 "nbformat": 4,
 "nbformat_minor": 1
}
